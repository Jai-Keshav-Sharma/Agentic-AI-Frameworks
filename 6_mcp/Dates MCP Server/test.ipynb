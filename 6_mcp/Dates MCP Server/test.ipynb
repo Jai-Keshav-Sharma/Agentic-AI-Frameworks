{
 "cells": [
  {
   "cell_type": "code",
   "execution_count": 1,
   "id": "e357d23e",
   "metadata": {},
   "outputs": [
    {
     "data": {
      "text/plain": [
       "True"
      ]
     },
     "execution_count": 1,
     "metadata": {},
     "output_type": "execute_result"
    }
   ],
   "source": [
    "from dotenv import load_dotenv\n",
    "from agents import Agent, Runner, trace\n",
    "from agents.mcp import MCPServerStdio\n",
    "from IPython.display import display, Markdown\n",
    "\n",
    "\n",
    "load_dotenv(override=True)"
   ]
  },
  {
   "cell_type": "code",
   "execution_count": 2,
   "id": "56fe1075",
   "metadata": {},
   "outputs": [],
   "source": [
    "import dates "
   ]
  },
  {
   "cell_type": "code",
   "execution_count": 3,
   "id": "8fe090d2",
   "metadata": {},
   "outputs": [
    {
     "data": {
      "text/plain": [
       "'2025-07-30'"
      ]
     },
     "execution_count": 3,
     "metadata": {},
     "output_type": "execute_result"
    }
   ],
   "source": [
    "dates.get_date()"
   ]
  },
  {
   "cell_type": "code",
   "execution_count": 4,
   "id": "c059dd77",
   "metadata": {},
   "outputs": [],
   "source": [
    "params = {\"command\": \"uv\", \"args\": [\"run\", \"dates_server.py\"]}\n",
    "\n",
    "async with MCPServerStdio(params=params, client_session_timeout_seconds=60) as server:\n",
    "    date_tools = await server.list_tools()"
   ]
  },
  {
   "cell_type": "code",
   "execution_count": 5,
   "id": "7fe38d47",
   "metadata": {},
   "outputs": [
    {
     "data": {
      "text/plain": [
       "[Tool(name='get_date_today', description='This function fetches you the date today.', inputSchema={'properties': {}, 'title': 'get_date_todayArguments', 'type': 'object'}, annotations=None)]"
      ]
     },
     "execution_count": 5,
     "metadata": {},
     "output_type": "execute_result"
    }
   ],
   "source": [
    "date_tools"
   ]
  },
  {
   "cell_type": "code",
   "execution_count": 6,
   "id": "95345dd3",
   "metadata": {},
   "outputs": [],
   "source": [
    "instructions=\"You are a intelligent agent who can fetch current date.\"\n",
    "request = \"What is the date today ?\"\n",
    "model = 'gpt-4.1-mini'"
   ]
  },
  {
   "cell_type": "code",
   "execution_count": 9,
   "id": "974bad27",
   "metadata": {},
   "outputs": [
    {
     "data": {
      "text/markdown": [
       "Today is July 30, 2025."
      ],
      "text/plain": [
       "<IPython.core.display.Markdown object>"
      ]
     },
     "metadata": {},
     "output_type": "display_data"
    }
   ],
   "source": [
    "async with MCPServerStdio(params=params, client_session_timeout_seconds=60) as server:\n",
    "    agent = Agent(name=\"date fetcher\", instructions=instructions, model = model, mcp_servers=[server])\n",
    "    with trace(\"date_fetcher\"):\n",
    "        result = await Runner.run(agent, request)\n",
    "    display(Markdown(result.final_output))"
   ]
  },
  {
   "cell_type": "code",
   "execution_count": null,
   "id": "3e909c04",
   "metadata": {},
   "outputs": [],
   "source": []
  }
 ],
 "metadata": {
  "kernelspec": {
   "display_name": "agents",
   "language": "python",
   "name": "python3"
  },
  "language_info": {
   "codemirror_mode": {
    "name": "ipython",
    "version": 3
   },
   "file_extension": ".py",
   "mimetype": "text/x-python",
   "name": "python",
   "nbconvert_exporter": "python",
   "pygments_lexer": "ipython3",
   "version": "3.12.3"
  }
 },
 "nbformat": 4,
 "nbformat_minor": 5
}
