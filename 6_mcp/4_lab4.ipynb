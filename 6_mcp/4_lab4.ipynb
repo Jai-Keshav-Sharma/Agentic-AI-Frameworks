{
 "cells": [
  {
   "cell_type": "markdown",
   "metadata": {},
   "source": [
    "<table style=\"margin: 0; text-align: left; width:100%\">\n",
    "    <tr>\n",
    "        <td style=\"width: 220px; height: 150px; vertical-align: middle;\">\n",
    "            <img src=\"../assets/aaa.png\" width=\"220\" height=\"150\" style=\"display: block;\" />\n",
    "        </td>\n",
    "        <td>\n",
    "            <h2 style=\"color:#ff7800;\">Autonomous Traders</h2>\n",
    "            <span style=\"color:#ff7800;\">An equity trading simulation to illustrate autonomous agents powered by tools and resources from MCP servers.\n",
    "            </span>\n",
    "        </td>\n",
    "    </tr>\n",
    "</table>"
   ]
  },
  {
   "cell_type": "markdown",
   "metadata": {},
   "source": [
    "### Week 6 Day 4\n",
    "\n",
    "And now - introducing the Capstone project:\n",
    "\n",
    "\n",
    "# Autonomous Traders\n",
    "\n",
    "An equity trading simulation, with 4 Traders and a Researcher, powered by a slew of MCP servers with tools & resources:\n",
    "\n",
    "1. Our home-made Accounts MCP server (written by our engineering team!)\n",
    "2. Fetch (get webpage via a local headless browser)\n",
    "3. Memory\n",
    "4. Brave Search\n",
    "5. Financial data\n",
    "\n",
    "And a resource to read information about the trader's account, and their investment strategy.\n",
    "\n",
    "The goal of today's lab is to make a new python module, `traders.py` that will manage a single trader on our trading floor.\n",
    "\n",
    "We will experiment and explore in the lab, and then migrate to a python module when we're ready.\n"
   ]
  },
  {
   "cell_type": "markdown",
   "metadata": {},
   "source": [
    "<table style=\"margin: 0; text-align: left; width:100%\">\n",
    "    <tr>\n",
    "        <td style=\"width: 150px; height: 150px; vertical-align: middle;\">\n",
    "            <img src=\"../assets/stop.png\" width=\"150\" height=\"150\" style=\"display: block;\" />\n",
    "        </td>\n",
    "        <td>\n",
    "            <h2 style=\"color:#ff7800;\">One more time --</h2>\n",
    "            <span style=\"color:#ff7800;\">Please do not use this for actual trading decisions!!\n",
    "            </span>\n",
    "        </td>\n",
    "    </tr>\n",
    "</table>"
   ]
  },
  {
   "cell_type": "code",
   "execution_count": 1,
   "metadata": {},
   "outputs": [
    {
     "data": {
      "text/plain": [
       "True"
      ]
     },
     "execution_count": 1,
     "metadata": {},
     "output_type": "execute_result"
    }
   ],
   "source": [
    "import os\n",
    "from dotenv import load_dotenv\n",
    "from agents import Agent, Runner, trace, Tool\n",
    "from agents.mcp import MCPServerStdio\n",
    "from IPython.display import Markdown, display\n",
    "from datetime import datetime\n",
    "from accounts_client import read_accounts_resource, read_strategy_resource\n",
    "from accounts import Account\n",
    "\n",
    "load_dotenv(override=True)"
   ]
  },
  {
   "cell_type": "markdown",
   "metadata": {},
   "source": [
    "### Let's start by gathering the MCP params for our trader"
   ]
  },
  {
   "cell_type": "code",
   "execution_count": 2,
   "metadata": {},
   "outputs": [
    {
     "name": "stdout",
     "output_type": "stream",
     "text": [
      "False\n",
      "False\n"
     ]
    }
   ],
   "source": [
    "polygon_api_key = os.getenv(\"POLYGON_API_KEY\")\n",
    "polygon_plan = os.getenv(\"POLYGON_PLAN\")\n",
    "\n",
    "is_paid_polygon = polygon_plan == \"paid\"\n",
    "is_realtime_polygon = polygon_plan == \"realtime\"\n",
    "\n",
    "print(is_paid_polygon)\n",
    "print(is_realtime_polygon)"
   ]
  },
  {
   "cell_type": "code",
   "execution_count": null,
   "metadata": {},
   "outputs": [],
   "source": [
    "# Free Tier problems (T_T)\n",
    "\n",
    "if is_paid_polygon or is_realtime_polygon:\n",
    "    market_mcp = {\"command\": \"uvx\",\"args\": [\"--from\", \"git+https://github.com/polygon-io/mcp_polygon@master\", \"mcp_polygon\"], \"env\": {\"POLYGON_API_KEY\": polygon_api_key}}\n",
    "else:\n",
    "    market_mcp = ({\"command\": \"uv\", \"args\": [\"run\", \"market_server.py\"]})\n",
    "\n",
    "trader_mcp_server_params = [\n",
    "    {\"command\": \"uv\", \"args\": [\"run\", \"accounts_server.py\"]},\n",
    "    {\"command\": \"uv\", \"args\": [\"run\", \"push_server.py\"]},\n",
    "    market_mcp\n",
    "]"
   ]
  },
  {
   "cell_type": "markdown",
   "metadata": {},
   "source": [
    "### And now for our researcher"
   ]
  },
  {
   "cell_type": "code",
   "execution_count": 4,
   "metadata": {},
   "outputs": [],
   "source": [
    "brave_env = {\"BRAVE_API_KEY\": os.getenv(\"BRAVE_API_KEY\")}\n",
    "\n",
    "researcher_mcp_server_params = [\n",
    "    {\"command\": \"uvx\", \"args\": [\"mcp-server-fetch\"]},\n",
    "    {\"command\": \"npx\", \"args\": [\"-y\", \"@modelcontextprotocol/server-brave-search\"], \"env\": brave_env}\n",
    "]"
   ]
  },
  {
   "cell_type": "markdown",
   "metadata": {},
   "source": [
    "### Now create the MCPServerStdio for each"
   ]
  },
  {
   "cell_type": "code",
   "execution_count": 5,
   "metadata": {},
   "outputs": [],
   "source": [
    "researcher_mcp_servers = [MCPServerStdio(params, client_session_timeout_seconds=30) for params in researcher_mcp_server_params]\n",
    "trader_mcp_servers = [MCPServerStdio(params, client_session_timeout_seconds=30) for params in trader_mcp_server_params]\n",
    "mcp_servers = trader_mcp_servers + researcher_mcp_servers"
   ]
  },
  {
   "cell_type": "markdown",
   "metadata": {},
   "source": [
    "### Now let's make a Researcher Agent to do market research\n",
    "\n",
    "And turn it into a tool - remember how this works for OpenAI Agents SDK, and the difference with handoffs?"
   ]
  },
  {
   "cell_type": "code",
   "execution_count": 6,
   "metadata": {},
   "outputs": [],
   "source": [
    "async def get_researcher(mcp_servers) -> Agent:\n",
    "    instructions = f\"\"\"You are a financial researcher. You are able to search the web for interesting financial news,\n",
    "look for possible trading opportunities, and help with research.\n",
    "Based on the request, you carry out necessary research and respond with your findings.\n",
    "Take time to make multiple searches to get a comprehensive overview, and then summarize your findings.\n",
    "If there isn't a specific request, then just respond with investment opportunities based on searching latest news.\n",
    "The current datetime is {datetime.now().strftime(\"%Y-%m-%d %H:%M:%S\")}\n",
    "\"\"\"\n",
    "    researcher = Agent(\n",
    "        name=\"Researcher\",\n",
    "        instructions=instructions,\n",
    "        model=\"gpt-4.1-mini\",\n",
    "        mcp_servers=mcp_servers,\n",
    "    )\n",
    "    return researcher"
   ]
  },
  {
   "cell_type": "code",
   "execution_count": 7,
   "metadata": {},
   "outputs": [],
   "source": [
    "async def get_researcher_tool(mcp_servers) -> Tool:\n",
    "    researcher = await get_researcher(mcp_servers)\n",
    "    return researcher.as_tool(\n",
    "            tool_name=\"Researcher\",\n",
    "            tool_description=\"This tool researches online for news and opportunities, \\\n",
    "                either based on your specific request to look into a certain stock, \\\n",
    "                or generally for notable financial news and opportunities. \\\n",
    "                Describe what kind of research you're looking for.\"\n",
    "        )"
   ]
  },
  {
   "cell_type": "code",
   "execution_count": 8,
   "metadata": {},
   "outputs": [
    {
     "data": {
      "text/markdown": [
       "The latest news on Amazon highlights significant advancements in AI technology aimed at improving various aspects of its operations. Key updates include:\n",
       "\n",
       "1. Amazon has introduced Wellspring, a generative AI system that enhances delivery location accuracy.\n",
       "2. Their new AI-powered demand forecasting model predicts what products customers want, where and when, improving inventory management.\n",
       "3. Amazon is deploying an agentic AI system enabling robots to understand and execute natural language commands, enhancing warehouse robotics.\n",
       "4. They recently marked a milestone by deploying their 1 millionth robot, supported by a new AI foundation model that powers their robotic fleet.\n",
       "\n",
       "These innovations aim to benefit both customers and employees by improving delivery precision, demand prediction, and operational efficiency using intelligent robotics.\n",
       "\n",
       "If you want, I can dig into more specific areas like their financials, market impact, or recent investment news."
      ],
      "text/plain": [
       "<IPython.core.display.Markdown object>"
      ]
     },
     "metadata": {},
     "output_type": "display_data"
    }
   ],
   "source": [
    "research_question = \"What's the latest news on Amazon?\"\n",
    "\n",
    "for server in researcher_mcp_servers:\n",
    "    await server.connect()\n",
    "researcher = await get_researcher(researcher_mcp_servers)\n",
    "with trace(\"Researcher\"):\n",
    "    result = await Runner.run(researcher, research_question, max_turns=30)\n",
    "display(Markdown(result.final_output))\n",
    "\n"
   ]
  },
  {
   "cell_type": "markdown",
   "metadata": {},
   "source": [
    "### Look at the trace\n",
    "\n",
    "https://platform.openai.com/traces"
   ]
  },
  {
   "cell_type": "code",
   "execution_count": 9,
   "metadata": {},
   "outputs": [
    {
     "data": {
      "text/markdown": [
       "{\"name\": \"jk\", \"balance\": 10000.0, \"strategy\": \"You are a day trader that aggressively buys and sells shares based on news and market conditions.\", \"holdings\": {}, \"transactions\": [], \"portfolio_value_time_series\": [[\"2025-07-30 15:28:34\", 10000.0]], \"total_portfolio_value\": 10000.0, \"total_profit_loss\": 0.0}"
      ],
      "text/plain": [
       "<IPython.core.display.Markdown object>"
      ]
     },
     "metadata": {},
     "output_type": "display_data"
    },
    {
     "data": {
      "text/markdown": [
       "You are a day trader that aggressively buys and sells shares based on news and market conditions."
      ],
      "text/plain": [
       "<IPython.core.display.Markdown object>"
      ]
     },
     "metadata": {},
     "output_type": "display_data"
    }
   ],
   "source": [
    "jk_initial_strategy = \"You are a day trader that aggressively buys and sells shares based on news and market conditions.\"\n",
    "Account.get(\"jk\").reset(jk_initial_strategy)\n",
    "\n",
    "display(Markdown(await read_accounts_resource(\"jk\")))\n",
    "display(Markdown(await read_strategy_resource(\"jk\")))"
   ]
  },
  {
   "cell_type": "markdown",
   "metadata": {},
   "source": [
    "### And now - to create our Trader Agent"
   ]
  },
  {
   "cell_type": "code",
   "execution_count": 14,
   "metadata": {},
   "outputs": [],
   "source": [
    "agent_name = \"jk\"\n",
    "\n",
    "# Using MCP Servers to read resources\n",
    "account_details = await read_accounts_resource(agent_name)\n",
    "strategy = await read_strategy_resource(agent_name)\n",
    "\n",
    "instructions = f\"\"\"\n",
    "You are a trader that manages a portfolio of shares. Your name is {agent_name} and your account is under your name, {agent_name}.\n",
    "You have access to tools that allow you to search the internet for company news, check stock prices, and buy and sell shares.\n",
    "Your investment strategy for your portfolio is:\n",
    "{strategy}\n",
    "Your current holdings and balance is:\n",
    "{account_details}\n",
    "You have the tools to perform a websearch for relevant news and information.\n",
    "You have tools to check stock prices.\n",
    "You have tools to buy and sell shares.\n",
    "You have tools to save memory of companies, research and thinking so far.\n",
    "Please make use of these tools to manage your portfolio. Carry out trades as you see fit; do not wait for instructions or ask for confirmation.\n",
    "After making the trades, send the user a push notification about the trades made.\n",
    "\"\"\"\n",
    "\n",
    "prompt = \"\"\"\n",
    "Use your tools to make decisions about your portfolio.\n",
    "Investigate the news and the market, make your decision, make the trades, and respond with a summary of your actions.\n",
    "\"\"\""
   ]
  },
  {
   "cell_type": "code",
   "execution_count": 15,
   "metadata": {},
   "outputs": [
    {
     "name": "stdout",
     "output_type": "stream",
     "text": [
      "\n",
      "You are a trader that manages a portfolio of shares. Your name is jk and your account is under your name, jk.\n",
      "You have access to tools that allow you to search the internet for company news, check stock prices, and buy and sell shares.\n",
      "Your investment strategy for your portfolio is:\n",
      "You are a day trader that aggressively buys and sells shares based on news and market conditions.\n",
      "Your current holdings and balance is:\n",
      "{\"name\": \"jk\", \"balance\": 9676.7548, \"strategy\": \"You are a day trader that aggressively buys and sells shares based on news and market conditions.\", \"holdings\": {\"VYNE\": 60, \"REPL\": 20, \"SUPX\": 10}, \"transactions\": [{\"symbol\": \"VYNE\", \"quantity\": 60, \"price\": 1.44288, \"timestamp\": \"2025-07-30 15:32:14\", \"rationale\": \"Highly volatile stock with a recent spike in price and significant news regarding product developments.\"}, {\"symbol\": \"REPL\", \"quantity\": 20, \"price\": 3.7575, \"timestamp\": \"2025-07-30 15:32:14\", \"rationale\": \"Recent news indicates strong growth potential and investor interest in the biotech sector.\"}, {\"symbol\": \"SUPX\", \"quantity\": 10, \"price\": 16.152240000000003, \"timestamp\": \"2025-07-30 15:32:14\", \"rationale\": \"High volatility and momentum; potential for quick profits in the current trading environment.\"}], \"portfolio_value_time_series\": [[\"2025-07-30 15:28:34\", 10000.0], [\"2025-07-30 15:29:35\", 10000.0], [\"2025-07-30 15:32:14\", 9999.8272], [\"2025-07-30 15:32:14\", 9999.6772], [\"2025-07-30 15:32:14\", 9999.354800000001], [\"2025-07-30 15:32:59\", 9999.354800000001], [\"2025-07-30 15:40:43\", 9999.354800000001]], \"total_portfolio_value\": 9999.354800000001, \"total_profit_loss\": -0.6451999999990221}\n",
      "You have the tools to perform a websearch for relevant news and information.\n",
      "You have tools to check stock prices.\n",
      "You have tools to buy and sell shares.\n",
      "You have tools to save memory of companies, research and thinking so far.\n",
      "Please make use of these tools to manage your portfolio. Carry out trades as you see fit; do not wait for instructions or ask for confirmation.\n",
      "After making the trades, send the user a push notification about the trades made.\n",
      "\n"
     ]
    }
   ],
   "source": [
    "print(instructions)"
   ]
  },
  {
   "cell_type": "markdown",
   "metadata": {},
   "source": [
    "### And to run our Trader"
   ]
  },
  {
   "cell_type": "code",
   "execution_count": 18,
   "metadata": {},
   "outputs": [
    {
     "data": {
      "text/markdown": [
       "### Summary of Actions Taken\n",
       "\n",
       "1. **Market Investigation**: \n",
       "   - **VYNE**: The stock plummeted sharply due to disappointing Phase 2b trial results, with a significant hold on clinical trials from the FDA, indicating a sell strategy.\n",
       "   - **REPL**: No recent news or growth indicators prompted a sell to minimize losses.\n",
       "   - **SUPX**: No recent negative news, maintained in the portfolio.\n",
       "\n",
       "2. **Trading Actions**:\n",
       "   - **Sold 60 shares of VYNE** at approximately $1.44, mitigating losses from the drastic drop in value.\n",
       "   - **Sold 20 shares of REPL** at approximately $3.75, avoiding further potential losses.\n",
       "\n",
       "3. **Portfolio Status**:\n",
       "   - **New Balance**: $9837.83\n",
       "   - **Remaining Holdings**: 10 shares of SUPX.\n",
       "\n",
       "### Notification Sent\n",
       "A push notification has been sent about the trades made and current portfolio status."
      ],
      "text/plain": [
       "<IPython.core.display.Markdown object>"
      ]
     },
     "metadata": {},
     "output_type": "display_data"
    }
   ],
   "source": [
    "for server in mcp_servers:\n",
    "    await server.connect()\n",
    "\n",
    "researcher_tool = await get_researcher_tool(researcher_mcp_servers)\n",
    "trader = Agent(\n",
    "    name=agent_name,\n",
    "    instructions=instructions,\n",
    "    tools=[researcher_tool],\n",
    "    mcp_servers=trader_mcp_servers,\n",
    "    model=\"gpt-4o-mini\",\n",
    ")\n",
    "with trace(agent_name):\n",
    "    result = await Runner.run(trader, prompt, max_turns=30)\n",
    "display(Markdown(result.final_output))"
   ]
  },
  {
   "cell_type": "markdown",
   "metadata": {},
   "source": [
    "### Then go and look at the trace\n",
    "\n",
    "http://platform.openai.com/traces\n"
   ]
  },
  {
   "cell_type": "code",
   "execution_count": 19,
   "metadata": {},
   "outputs": [
    {
     "data": {
      "text/plain": [
       "'{\"name\": \"jk\", \"balance\": 9837.832, \"strategy\": \"You are a day trader that aggressively buys and sells shares based on news and market conditions.\", \"holdings\": {\"SUPX\": 10}, \"transactions\": [{\"symbol\": \"VYNE\", \"quantity\": 60, \"price\": 1.44288, \"timestamp\": \"2025-07-30 15:32:14\", \"rationale\": \"Highly volatile stock with a recent spike in price and significant news regarding product developments.\"}, {\"symbol\": \"REPL\", \"quantity\": 20, \"price\": 3.7575, \"timestamp\": \"2025-07-30 15:32:14\", \"rationale\": \"Recent news indicates strong growth potential and investor interest in the biotech sector.\"}, {\"symbol\": \"SUPX\", \"quantity\": 10, \"price\": 16.152240000000003, \"timestamp\": \"2025-07-30 15:32:14\", \"rationale\": \"High volatility and momentum; potential for quick profits in the current trading environment.\"}, {\"symbol\": \"VYNE\", \"quantity\": -60, \"price\": 1.43712, \"timestamp\": \"2025-07-30 15:43:04\", \"rationale\": \"Significant drop in stock price due to disappointing drug trial results and clinical holds; current value no longer justifies holding.\"}, {\"symbol\": \"REPL\", \"quantity\": -20, \"price\": 3.7425, \"timestamp\": \"2025-07-30 15:43:04\", \"rationale\": \"No recent news or indicators of growth; cashing out to avoid potential losses.\"}], \"portfolio_value_time_series\": [[\"2025-07-30 15:28:34\", 10000.0], [\"2025-07-30 15:29:35\", 10000.0], [\"2025-07-30 15:32:14\", 9999.8272], [\"2025-07-30 15:32:14\", 9999.6772], [\"2025-07-30 15:32:14\", 9999.354800000001], [\"2025-07-30 15:32:59\", 9999.354800000001], [\"2025-07-30 15:40:43\", 9999.354800000001], [\"2025-07-30 15:43:04\", 9999.182], [\"2025-07-30 15:43:04\", 9999.032000000001], [\"2025-07-30 15:42:56\", 9999.032000000001]], \"total_portfolio_value\": 9999.032000000001, \"total_profit_loss\": -0.9679999999989377}'"
      ]
     },
     "execution_count": 19,
     "metadata": {},
     "output_type": "execute_result"
    }
   ],
   "source": [
    "# And let's look at the results of the trading\n",
    "\n",
    "await read_accounts_resource(agent_name)"
   ]
  },
  {
   "cell_type": "markdown",
   "metadata": {},
   "source": [
    "### Now it's time to review the Python module made from this:\n",
    "\n",
    "`mcp_params.py` is where the MCP servers are specified. You'll notice I've brought in some familiar friends: memory and push notifications!\n",
    "\n",
    "`templates.py` is where the instructions and messages are set up (i.e. the System prompts and User prompts)\n",
    "\n",
    "`traders.py` brings it all together.\n",
    "\n",
    "You'll notice I've done something a bit fancy with code like this:\n",
    "\n",
    "```\n",
    "async with AsyncExitStack() as stack:\n",
    "    mcp_servers = [await stack.enter_async_context(MCPServerStdio(params)) for params in mcp_server_params]\n",
    "```\n",
    "\n",
    "This is just a tidy way to combine our \"with\" statements (known as context managers) so that we don't need to do something ugly like this:\n",
    "\n",
    "```\n",
    "async with MCPServerStdio(params=params1) as mcp_server1:\n",
    "    async with MCPServerStdio(params=params2) as mcp_server2:\n",
    "        async with MCPServerStdio(params=params3) as mcp_server3:\n",
    "            mcp_servers = [mcp_server1, mcp_server2, mcp_server3]\n",
    "```\n",
    "\n",
    "But it's equivalent.\n"
   ]
  },
  {
   "cell_type": "code",
   "execution_count": 20,
   "metadata": {},
   "outputs": [],
   "source": [
    "from traders import Trader\n"
   ]
  },
  {
   "cell_type": "code",
   "execution_count": 22,
   "metadata": {},
   "outputs": [],
   "source": [
    "trader = Trader(\"jk\")"
   ]
  },
  {
   "cell_type": "code",
   "execution_count": 23,
   "metadata": {},
   "outputs": [],
   "source": [
    "await trader.run()"
   ]
  },
  {
   "cell_type": "code",
   "execution_count": 24,
   "metadata": {},
   "outputs": [
    {
     "data": {
      "text/plain": [
       "'{\"name\": \"jk\", \"balance\": 9651.45499, \"strategy\": \"You are a day trader that aggressively buys and sells shares based on news and market conditions.\", \"holdings\": {\"SUPX\": 10, \"REPL\": 20, \"XBP\": 50, \"PTHL\": 40}, \"transactions\": [{\"symbol\": \"VYNE\", \"quantity\": 60, \"price\": 1.44288, \"timestamp\": \"2025-07-30 15:32:14\", \"rationale\": \"Highly volatile stock with a recent spike in price and significant news regarding product developments.\"}, {\"symbol\": \"REPL\", \"quantity\": 20, \"price\": 3.7575, \"timestamp\": \"2025-07-30 15:32:14\", \"rationale\": \"Recent news indicates strong growth potential and investor interest in the biotech sector.\"}, {\"symbol\": \"SUPX\", \"quantity\": 10, \"price\": 16.152240000000003, \"timestamp\": \"2025-07-30 15:32:14\", \"rationale\": \"High volatility and momentum; potential for quick profits in the current trading environment.\"}, {\"symbol\": \"VYNE\", \"quantity\": -60, \"price\": 1.43712, \"timestamp\": \"2025-07-30 15:43:04\", \"rationale\": \"Significant drop in stock price due to disappointing drug trial results and clinical holds; current value no longer justifies holding.\"}, {\"symbol\": \"REPL\", \"quantity\": -20, \"price\": 3.7425, \"timestamp\": \"2025-07-30 15:43:04\", \"rationale\": \"No recent news or indicators of growth; cashing out to avoid potential losses.\"}, {\"symbol\": \"REPL\", \"quantity\": 20, \"price\": 3.7575, \"timestamp\": \"2025-07-30 16:07:44\", \"rationale\": \"Strong growth potential in the biotech sector with recent news and momentum.\"}, {\"symbol\": \"XBP\", \"quantity\": 50, \"price\": 0.9019002, \"timestamp\": \"2025-07-30 16:07:44\", \"rationale\": \"High volatility and significant price spike; potential for quick profits.\"}, {\"symbol\": \"PTHL\", \"quantity\": 40, \"price\": 1.6533, \"timestamp\": \"2025-07-30 16:07:44\", \"rationale\": \"Recent price surge indicates strong market interest; leveraging volatility for potential gains.\"}], \"portfolio_value_time_series\": [[\"2025-07-30 15:28:34\", 10000.0], [\"2025-07-30 15:29:35\", 10000.0], [\"2025-07-30 15:32:14\", 9999.8272], [\"2025-07-30 15:32:14\", 9999.6772], [\"2025-07-30 15:32:14\", 9999.354800000001], [\"2025-07-30 15:32:59\", 9999.354800000001], [\"2025-07-30 15:40:43\", 9999.354800000001], [\"2025-07-30 15:43:04\", 9999.182], [\"2025-07-30 15:43:04\", 9999.032000000001], [\"2025-07-30 15:42:56\", 9999.032000000001], [\"2025-07-30 16:06:54\", 9999.032000000001], [\"2025-07-30 16:07:44\", 9998.882000000001], [\"2025-07-30 16:07:44\", 9998.79199], [\"2025-07-30 16:07:44\", 9998.65999], [\"2025-07-30 16:07:59\", 9998.65999]], \"total_portfolio_value\": 9998.65999, \"total_profit_loss\": -1.340009999999893}'"
      ]
     },
     "execution_count": 24,
     "metadata": {},
     "output_type": "execute_result"
    }
   ],
   "source": [
    "await read_accounts_resource(\"jk\")"
   ]
  },
  {
   "cell_type": "markdown",
   "metadata": {},
   "source": [
    "### Now look at the trace\n",
    "\n",
    "https://platform.openai.com/traces\n",
    "\n",
    "### How many tools did we use in total?"
   ]
  },
  {
   "cell_type": "code",
   "execution_count": 25,
   "metadata": {},
   "outputs": [
    {
     "name": "stdout",
     "output_type": "stream",
     "text": [
      "We have 6 MCP servers, and 16 tools\n"
     ]
    }
   ],
   "source": [
    "from mcp_params import trader_mcp_server_params, researcher_mcp_server_params\n",
    "\n",
    "all_params = trader_mcp_server_params + researcher_mcp_server_params(\"ed\")\n",
    "\n",
    "count = 0\n",
    "for each_params in all_params:\n",
    "    async with MCPServerStdio(params=each_params, client_session_timeout_seconds=60) as server:\n",
    "        mcp_tools = await server.list_tools()\n",
    "        count += len(mcp_tools)\n",
    "print(f\"We have {len(all_params)} MCP servers, and {count} tools\")"
   ]
  }
 ],
 "metadata": {
  "kernelspec": {
   "display_name": "agents",
   "language": "python",
   "name": "python3"
  },
  "language_info": {
   "codemirror_mode": {
    "name": "ipython",
    "version": 3
   },
   "file_extension": ".py",
   "mimetype": "text/x-python",
   "name": "python",
   "nbconvert_exporter": "python",
   "pygments_lexer": "ipython3",
   "version": "3.12.3"
  }
 },
 "nbformat": 4,
 "nbformat_minor": 2
}
