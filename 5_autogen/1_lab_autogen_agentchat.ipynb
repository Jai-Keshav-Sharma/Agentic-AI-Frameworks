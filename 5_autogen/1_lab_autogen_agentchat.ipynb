{
 "cells": [
  {
   "cell_type": "code",
   "execution_count": 1,
   "id": "c346ffd6",
   "metadata": {},
   "outputs": [
    {
     "data": {
      "text/plain": [
       "True"
      ]
     },
     "execution_count": 1,
     "metadata": {},
     "output_type": "execute_result"
    }
   ],
   "source": [
    "from dotenv import load_dotenv\n",
    "\n",
    "load_dotenv(override=True)"
   ]
  },
  {
   "cell_type": "markdown",
   "id": "82ed74bf",
   "metadata": {},
   "source": [
    "#### **First Concept- Model**"
   ]
  },
  {
   "cell_type": "code",
   "execution_count": 2,
   "id": "92b2cd76",
   "metadata": {},
   "outputs": [],
   "source": [
    "from autogen_ext.models.openai import OpenAIChatCompletionClient\n",
    "\n",
    "model_client = OpenAIChatCompletionClient(model = 'gpt-4.1-nano')"
   ]
  },
  {
   "cell_type": "markdown",
   "id": "97463eab",
   "metadata": {},
   "source": [
    "#### **Second Concept- Messages**"
   ]
  },
  {
   "cell_type": "code",
   "execution_count": 3,
   "id": "360bfe76",
   "metadata": {},
   "outputs": [
    {
     "data": {
      "text/plain": [
       "TextMessage(id='af834d50-a463-4dc6-91a6-f80174a3528d', source='user', models_usage=None, metadata={}, created_at=datetime.datetime(2025, 7, 23, 12, 54, 4, 252888, tzinfo=datetime.timezone.utc), content='I love Paris!', type='TextMessage')"
      ]
     },
     "execution_count": 3,
     "metadata": {},
     "output_type": "execute_result"
    }
   ],
   "source": [
    "from autogen_agentchat.messages import TextMessage\n",
    "\n",
    "message = TextMessage(content=\"I love Paris!\", source=\"user\")\n",
    "message"
   ]
  },
  {
   "cell_type": "markdown",
   "id": "c8b12c95",
   "metadata": {},
   "source": [
    "#### **Third Concept- Agent**"
   ]
  },
  {
   "cell_type": "code",
   "execution_count": 4,
   "id": "05e18c98",
   "metadata": {},
   "outputs": [],
   "source": [
    "from autogen_agentchat.agents import AssistantAgent\n",
    "\n",
    "agent = AssistantAgent(\n",
    "    name=\"airline_agent\",\n",
    "    model_client=model_client,\n",
    "    system_message=\"You are a helpful assistant for an airline. You give short, humorous answers\",\n",
    "    model_client_stream=True\n",
    ")"
   ]
  },
  {
   "cell_type": "markdown",
   "id": "5ca8fb71",
   "metadata": {},
   "source": [
    "Put it all together with on_messages"
   ]
  },
  {
   "cell_type": "code",
   "execution_count": 5,
   "id": "99b099d5",
   "metadata": {},
   "outputs": [
    {
     "data": {
      "text/plain": [
       "\"Paris is so Eiffel— I mean, special! Glad you're in love!\""
      ]
     },
     "execution_count": 5,
     "metadata": {},
     "output_type": "execute_result"
    }
   ],
   "source": [
    "from autogen_core import CancellationToken\n",
    "\n",
    "response = await agent.on_messages([message], cancellation_token=CancellationToken())\n",
    "response.chat_message.content"
   ]
  },
  {
   "cell_type": "markdown",
   "id": "e78c1d3b",
   "metadata": {},
   "source": [
    "`on_messages(...)` -> low level, direct message handling.\n",
    "when we want to manually control the message flow.\n",
    "\n",
    "*Aliter:* \n",
    "`agent.run()` -> High level, event driven execution loop"
   ]
  },
  {
   "cell_type": "markdown",
   "id": "748a3b58",
   "metadata": {},
   "source": [
    "#### Let's make a local database of Ticket prices"
   ]
  },
  {
   "cell_type": "code",
   "execution_count": 6,
   "id": "8bd4bd5b",
   "metadata": {},
   "outputs": [],
   "source": [
    "import os\n",
    "import sqlite3\n",
    "\n",
    "# Deleting existing database file if it exists\n",
    "if os.path.exists(\"tickets.db\"):\n",
    "    os.remove(\"tickets.db\")\n",
    "\n",
    "# Create the database and the table \n",
    "conn = sqlite3.connect(\"tickets.db\")\n",
    "c = conn.cursor()\n",
    "c.execute(\"CREATE TABLE cities (city_name TEXT Primary Key, round_trip_price REAL)\")\n",
    "conn.commit()\n",
    "conn.close()"
   ]
  },
  {
   "cell_type": "code",
   "execution_count": null,
   "id": "24f54898",
   "metadata": {},
   "outputs": [],
   "source": [
    "# Populate the database\n",
    "def save_city_price(city_name, round_trip_price):\n",
    "    conn = sqlite3.connect(\"tickets.db\")\n",
    "    c = conn.cursor()\n",
    "    c.execute(\"REPLACE INTO cities (city_name, round_trip_price) VALUES (?, ?)\", (city_name.lower(), round_trip_price))\n",
    "    conn.commit()\n",
    "    conn.close()\n",
    "\n",
    "# Now some cities \n",
    "save_city_price(\"London\", 299)\n",
    "save_city_price(\"Paris\", 399)\n",
    "save_city_price(\"Rome\", 499)\n",
    "save_city_price(\"Madrid\", 559)\n",
    "save_city_price(\"Barcelona\", 699)\n",
    "save_city_price(\"Berlin\", 999)"
   ]
  },
  {
   "cell_type": "markdown",
   "id": "2d3a16ec",
   "metadata": {},
   "source": [
    "#### *Let's equip our agent with this tool!*"
   ]
  },
  {
   "cell_type": "code",
   "execution_count": 10,
   "id": "ac91a8bd",
   "metadata": {},
   "outputs": [],
   "source": [
    "# Method to get price for a city\n",
    "\n",
    "def get_city_price(city_name: str) -> float | None:\n",
    "    \"\"\"Get the round trip ticket price to travel to the city\"\"\"\n",
    "\n",
    "    conn = sqlite3.connect(\"tickets.db\")\n",
    "    c = conn.cursor()\n",
    "    c.execute(\"SELECT round_trip_price FROM cities WHERE city_name = ?\", (city_name.lower(),))\n",
    "    result = c.fetchone()\n",
    "    conn.close()\n",
    "    return result[0] if result else None"
   ]
  },
  {
   "cell_type": "code",
   "execution_count": 11,
   "id": "c253ed19",
   "metadata": {},
   "outputs": [
    {
     "data": {
      "text/plain": [
       "299.0"
      ]
     },
     "execution_count": 11,
     "metadata": {},
     "output_type": "execute_result"
    }
   ],
   "source": [
    "get_city_price(\"London\")"
   ]
  },
  {
   "cell_type": "markdown",
   "id": "ff20e403",
   "metadata": {},
   "source": [
    "One thing worth noticing is that, here we are not wrapping the python funtions in a Tool wrapper like we did in OpenAI Agents SDK and in LangGraph. We are just passing the function as it is."
   ]
  },
  {
   "cell_type": "code",
   "execution_count": null,
   "id": "08b03aff",
   "metadata": {},
   "outputs": [],
   "source": [
    "from autogen_agentchat.agents import AssistantAgent\n",
    "\n",
    "smart_agent = AssistantAgent(\n",
    "    name=\"smart_airline_agent\",\n",
    "    model_client=model_client,\n",
    "    system_message=\"You are a helpful assistant for an airline. You give short, humorous answers along with the round trip ticket price.\",\n",
    "    tools=[get_city_price],\n",
    "    model_client_stream=True,\n",
    "    reflect_on_tool_use=True     # Lets agent think after using tools before answering\n",
    ")"
   ]
  },
  {
   "cell_type": "code",
   "execution_count": 21,
   "id": "4ff1646b",
   "metadata": {},
   "outputs": [
    {
     "data": {
      "text/plain": [
       "Response(chat_message=TextMessage(id='86261e2a-5271-48b2-8e33-70677033cbf2', source='smart_airline_agent', models_usage=RequestUsage(prompt_tokens=0, completion_tokens=0), metadata={}, created_at=datetime.datetime(2025, 7, 23, 13, 9, 37, 646682, tzinfo=datetime.timezone.utc), content='Paris is always a good idea! Your round trip to the City of Lights is $399. Bon voyage!', type='TextMessage'), inner_messages=[ToolCallRequestEvent(id='dea980c9-377b-4d5e-a246-761444c81232', source='smart_airline_agent', models_usage=RequestUsage(prompt_tokens=0, completion_tokens=0), metadata={}, created_at=datetime.datetime(2025, 7, 23, 13, 9, 32, 972144, tzinfo=datetime.timezone.utc), content=[FunctionCall(id='call_jZpXw9ONUuSHkCqy1ocG53xU', arguments='{\"city_name\": \"Paris\"}', name='get_city_price')], type='ToolCallRequestEvent'), ToolCallExecutionEvent(id='d9e2246d-4f1c-48b2-b89f-3da9a3f6f181', source='smart_airline_agent', models_usage=None, metadata={}, created_at=datetime.datetime(2025, 7, 23, 13, 9, 32, 973517, tzinfo=datetime.timezone.utc), content=[FunctionExecutionResult(content='399.0', name='get_city_price', call_id='call_jZpXw9ONUuSHkCqy1ocG53xU', is_error=False)], type='ToolCallExecutionEvent')])"
      ]
     },
     "execution_count": 21,
     "metadata": {},
     "output_type": "execute_result"
    }
   ],
   "source": [
    "response = await smart_agent.on_messages([message], cancellation_token=CancellationToken())\n",
    "response"
   ]
  },
  {
   "cell_type": "code",
   "execution_count": 22,
   "id": "427b6653",
   "metadata": {},
   "outputs": [
    {
     "name": "stdout",
     "output_type": "stream",
     "text": [
      "[FunctionCall(id='call_jZpXw9ONUuSHkCqy1ocG53xU', arguments='{\"city_name\": \"Paris\"}', name='get_city_price')]\n",
      "[FunctionExecutionResult(content='399.0', name='get_city_price', call_id='call_jZpXw9ONUuSHkCqy1ocG53xU', is_error=False)]\n",
      "Paris is always a good idea! Your round trip to the City of Lights is $399. Bon voyage!\n"
     ]
    }
   ],
   "source": [
    "for inner_message in response.inner_messages:\n",
    "    print(inner_message.content)\n",
    "\n",
    "print(response.chat_message.content)"
   ]
  }
 ],
 "metadata": {
  "kernelspec": {
   "display_name": "Python 3",
   "language": "python",
   "name": "python3"
  },
  "language_info": {
   "codemirror_mode": {
    "name": "ipython",
    "version": 3
   },
   "file_extension": ".py",
   "mimetype": "text/x-python",
   "name": "python",
   "nbconvert_exporter": "python",
   "pygments_lexer": "ipython3",
   "version": "3.13.3"
  }
 },
 "nbformat": 4,
 "nbformat_minor": 5
}
