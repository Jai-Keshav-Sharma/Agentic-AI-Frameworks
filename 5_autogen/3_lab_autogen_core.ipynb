{
 "cells": [
  {
   "cell_type": "markdown",
   "id": "df012286",
   "metadata": {},
   "source": [
    "# **AutoGen Core**"
   ]
  },
  {
   "cell_type": "markdown",
   "id": "50ab8fe0",
   "metadata": {},
   "source": [
    "* Something a little different.  \n",
    "* This is agnostic to the underlying Agent framework.  \n",
    "* You can use Autogen Agentchat, or you can use something else; It's an  Agent Interaction framework.  \n",
    "+ From that point of view, it's positioned similarly to LangGraph."
   ]
  },
  {
   "cell_type": "markdown",
   "id": "53b0434d",
   "metadata": {},
   "source": [
    "#### **The Fundamental Principle**"
   ]
  },
  {
   "cell_type": "markdown",
   "id": "7c4395d1",
   "metadata": {},
   "source": [
    "+ Autogenc Core decouples an agent's logic from how messages are delivered.  \n",
    "+ The framework provides a communication infrastructure, along with agent lifecycle, and the agents are responsible for their own work.  \n",
    "+ The communication infrastructure is called a **Runtime**.  \n",
    "+ There are two types: **Standalone** and **Distributed**.  \n",
    "+ Today, we'll use a standalone runtime: the **SingleThreadedAgentRuntime**, a local embedded agent runtime implementation."
   ]
  },
  {
   "cell_type": "code",
   "execution_count": 81,
   "id": "7ef5c731",
   "metadata": {},
   "outputs": [
    {
     "data": {
      "text/plain": [
       "True"
      ]
     },
     "execution_count": 81,
     "metadata": {},
     "output_type": "execute_result"
    }
   ],
   "source": [
    "from dataclasses import dataclass\n",
    "from autogen_core import AgentId, MessageContext, RoutedAgent, message_handler\n",
    "from autogen_core import SingleThreadedAgentRuntime\n",
    "from autogen_agentchat.agents import AssistantAgent\n",
    "from autogen_agentchat.messages import TextMessage\n",
    "from autogen_ext.models.openai import OpenAIChatCompletionClient\n",
    "from dotenv import load_dotenv\n",
    "\n",
    "load_dotenv(override=True)"
   ]
  },
  {
   "cell_type": "markdown",
   "id": "670d099d",
   "metadata": {},
   "source": [
    "#### **Step 1**: First we define our Message Object  \n",
    "Whatever structure we want for our messages in our Agent framework  \n",
    "\n",
    "* a `Message` data class, which defines the messages that are passed between the agents."
   ]
  },
  {
   "cell_type": "code",
   "execution_count": 5,
   "id": "669ab70d",
   "metadata": {},
   "outputs": [],
   "source": [
    "# Let's have a simple one\n",
    "\n",
    "@dataclass\n",
    "class Message:\n",
    "    content: str"
   ]
  },
  {
   "cell_type": "markdown",
   "id": "67e5c6d2",
   "metadata": {},
   "source": [
    "#### **Step 2**: Now we define our Agent  \n",
    "A subclass of RoutedAgent.  \n",
    "* Every Agent has an Agent ID which has 2 components:  \n",
    "`agent.id.type` describes the kind of agent it is  \n",
    "`agent.id.key` goves it its unique identifier  \n",
    "\n",
    "* Any method with the `@message_handler` decorated will have the opportunity to receive messages."
   ]
  },
  {
   "cell_type": "code",
   "execution_count": 7,
   "id": "68beacd7",
   "metadata": {},
   "outputs": [],
   "source": [
    "class SimpleAgent(RoutedAgent):\n",
    "    def __init__(self) -> None:\n",
    "        super().__init__((\"Simple\"))\n",
    "\n",
    "    \n",
    "    @message_handler\n",
    "    async def on_my_message(self, message: Message, ctx: MessageContext) -> Message:\n",
    "        return Message(content=f\"This is {self.id.type}-{self.id.key}. You said '{message.content}' and I disagree.\")"
   ]
  },
  {
   "cell_type": "markdown",
   "id": "3491b16e",
   "metadata": {},
   "source": [
    "---\n",
    "\n",
    "> You might have already noticed, the agents’ logic, whether it is using model or code executor, is completely decoupled from how messages are delivered. This is the core idea: the framework provides a communication infrastructure, and the agents are responsible for their own logic. We call the communication infrastructure an **Agent Runtim**e."
   ]
  },
  {
   "cell_type": "markdown",
   "id": "6d183328",
   "metadata": {},
   "source": [
    "> Agent runtime is a key concept of this framework. Besides delivering messages, it also manages agents’ lifecycle. So the creation of agents are handled by the runtime."
   ]
  },
  {
   "cell_type": "markdown",
   "id": "2b98caed",
   "metadata": {},
   "source": [
    "> The following code shows how to register and run the agents using SingleThreadedAgentRuntime, a local embedded agent runtime implementation.\n",
    "---"
   ]
  },
  {
   "cell_type": "markdown",
   "id": "ef063464",
   "metadata": {},
   "source": [
    "#### **Step 3**: Let's create a Standalone runtime and register our agent type:"
   ]
  },
  {
   "cell_type": "code",
   "execution_count": 8,
   "id": "de5ae2b0",
   "metadata": {},
   "outputs": [
    {
     "data": {
      "text/plain": [
       "AgentType(type='simple_agent')"
      ]
     },
     "execution_count": 8,
     "metadata": {},
     "output_type": "execute_result"
    }
   ],
   "source": [
    "runtime = SingleThreadedAgentRuntime()\n",
    "await SimpleAgent.register(runtime, \"simple_agent\", lambda: SimpleAgent())"
   ]
  },
  {
   "cell_type": "markdown",
   "id": "3addd302",
   "metadata": {},
   "source": [
    "#### **Step 4:** Alright, let's start a runtime and send a message"
   ]
  },
  {
   "cell_type": "code",
   "execution_count": 9,
   "id": "41277bfc",
   "metadata": {},
   "outputs": [],
   "source": [
    "runtime.start()"
   ]
  },
  {
   "cell_type": "code",
   "execution_count": 10,
   "id": "e96d2dff",
   "metadata": {},
   "outputs": [
    {
     "name": "stdout",
     "output_type": "stream",
     "text": [
      ">>> This is simple_agent-default. You said 'Well hi there!' and I disagree.\n"
     ]
    }
   ],
   "source": [
    "agent_id = AgentId(\"simple_agent\", \"default\")\n",
    "response = await runtime.send_message(Message(\"Well hi there!\"), agent_id)\n",
    "print(\">>>\", response.content)"
   ]
  },
  {
   "cell_type": "code",
   "execution_count": 11,
   "id": "2b3c2c48",
   "metadata": {},
   "outputs": [],
   "source": [
    "await runtime.stop()\n",
    "await runtime.close()"
   ]
  },
  {
   "cell_type": "markdown",
   "id": "66ed2496",
   "metadata": {},
   "source": [
    "#### Now, something more interesting!"
   ]
  },
  {
   "cell_type": "markdown",
   "id": "3f8a6107",
   "metadata": {},
   "source": [
    "We'll use an AgentChat Assistant."
   ]
  },
  {
   "cell_type": "code",
   "execution_count": 24,
   "id": "dbda052c",
   "metadata": {},
   "outputs": [],
   "source": [
    "class MyLLMAgent(RoutedAgent):\n",
    "    \n",
    "    def __init__(self) -> None:\n",
    "        super().__init__(\"LLMAgent\")\n",
    "        model_client = OpenAIChatCompletionClient(model='gpt-4.1-nano')\n",
    "        self._delegate = AssistantAgent(\"LLMAgent\", model_client=model_client)\n",
    "\n",
    "    @message_handler\n",
    "    async def handle_my_message(self, message: Message, ctx: MessageContext) -> Message:\n",
    "        print(f\"{self.id.type} received message: {message.content}\")\n",
    "        text_message = TextMessage(content=message.content, source='user')\n",
    "        response = await self._delegate.on_messages([text_message], ctx.cancellation_token)\n",
    "        reply = response.chat_message.content\n",
    "        print(f\"{self.id.type} responded: {reply}\")\n",
    "        return Message(content=reply)"
   ]
  },
  {
   "cell_type": "code",
   "execution_count": 25,
   "id": "e21b84ee",
   "metadata": {},
   "outputs": [
    {
     "data": {
      "text/plain": [
       "AgentType(type='MyLLMAgent')"
      ]
     },
     "execution_count": 25,
     "metadata": {},
     "output_type": "execute_result"
    }
   ],
   "source": [
    "from autogen_core import SingleThreadedAgentRuntime\n",
    "\n",
    "runtime = SingleThreadedAgentRuntime()\n",
    "await SimpleAgent.register(runtime, \"simple_agent\", lambda: SimpleAgent())\n",
    "await MyLLMAgent.register(runtime, \"MyLLMAgent\", lambda: MyLLMAgent())"
   ]
  },
  {
   "cell_type": "code",
   "execution_count": 28,
   "id": "2f15fb8f",
   "metadata": {},
   "outputs": [
    {
     "name": "stdout",
     "output_type": "stream",
     "text": [
      "MyLLMAgent received message: Hi there!\n",
      "MyLLMAgent responded: Hello again! How can I help you today?\n",
      ">>> Hello again! How can I help you today?\n",
      ">>> This is simple_agent-default. You said 'Hello again! How can I help you today?' and I disagree.\n",
      "MyLLMAgent received message: This is simple_agent-default. You said 'Hello again! How can I help you today?' and I disagree.\n",
      "MyLLMAgent responded: Thank you for the feedback. How would you like me to respond?\n"
     ]
    }
   ],
   "source": [
    "runtime.start()\n",
    "\n",
    "response = await runtime.send_message(Message(\"Hi there!\"), AgentId(\"MyLLMAgent\", \"default\"))\n",
    "print(\">>>\", response.content)\n",
    "response = await runtime.send_message(Message(response.content), AgentId(\"simple_agent\", \"default\"))\n",
    "print(\">>>\", response.content)\n",
    "reponse = await runtime.send_message(Message(response.content), AgentId(\"MyLLMAgent\", \"default\"))\n",
    "\n",
    "\n"
   ]
  },
  {
   "cell_type": "code",
   "execution_count": null,
   "id": "b29e0190",
   "metadata": {},
   "outputs": [],
   "source": [
    "await runtime.stop()\n",
    "await runtime.close()"
   ]
  },
  {
   "cell_type": "markdown",
   "id": "c7e99e9c",
   "metadata": {},
   "source": [
    "#### Let's get 3 Agents busy this time!"
   ]
  },
  {
   "cell_type": "code",
   "execution_count": 90,
   "id": "f0d7231d",
   "metadata": {},
   "outputs": [],
   "source": [
    "class Player1Agent(RoutedAgent):\n",
    "    def __init__(self, name: str) -> None:\n",
    "        super().__init__(name)\n",
    "        model_client = OpenAIChatCompletionClient(model=\"gpt-4o-mini\", temperature=1.0)\n",
    "        self._delegate = AssistantAgent(name, model_client=model_client)\n",
    "\n",
    "    @message_handler\n",
    "    async def handle_my_message_type(self, message: Message, ctx: MessageContext) -> Message:\n",
    "        text_message = TextMessage(content=message.content, source=\"user\")\n",
    "        response = await self._delegate.on_messages([text_message], ctx.cancellation_token)\n",
    "        return Message(content=response.chat_message.content)\n",
    "    \n",
    "class Player2Agent(RoutedAgent):\n",
    "    def __init__(self, name: str) -> None:\n",
    "        super().__init__(name)\n",
    "        model_client = OpenAIChatCompletionClient(model=\"gpt-4o-mini\", temperature=1.5)\n",
    "        self._delegate = AssistantAgent(name, model_client=model_client)\n",
    "\n",
    "    @message_handler\n",
    "    async def handle_my_message_type(self, message: Message, ctx: MessageContext) -> Message:\n",
    "        text_message = TextMessage(content=message.content, source=\"user\")\n",
    "        response = await self._delegate.on_messages([text_message], ctx.cancellation_token)\n",
    "        return Message(content=response.chat_message.content)"
   ]
  },
  {
   "cell_type": "code",
   "execution_count": 91,
   "id": "16a1daa9",
   "metadata": {},
   "outputs": [],
   "source": [
    "JUDGE = \"You are judging a game of rock, paper, scissors. The players have made these choices:\\n\"\n",
    "\n",
    "class RockPaperScissorsAgent(RoutedAgent):\n",
    "    def __init__(self, name: str) -> None:\n",
    "        super().__init__(name)\n",
    "        model_client = OpenAIChatCompletionClient(model=\"gpt-4o-mini\", temperature=1)\n",
    "        self._delegate = AssistantAgent(name, model_client=model_client)\n",
    "\n",
    "    @message_handler\n",
    "    async def handle_my_message_type(self, message: Message, ctx: MessageContext) -> Message:\n",
    "        instruction = \"You are playing rock, paper, scissors. Respond only with the one word, one of the following: rock, paper, or scissors.\"\n",
    "        message = Message(content=instruction)\n",
    "        inner_1 = AgentId(\"player1\", \"default\")\n",
    "        inner_2 = AgentId(\"player2\", \"default\")\n",
    "        response1 = await self.send_message(message, inner_1)\n",
    "        response2 = await self.send_message(message, inner_2)\n",
    "        result = f\"Player 1: {response1.content}\\nPlayer 2: {response2.content}\\n\"\n",
    "        judgement = f\"{JUDGE}{result}Who wins?\"\n",
    "        message = TextMessage(content=judgement, source=\"user\")\n",
    "        response = await self._delegate.on_messages([message], ctx.cancellation_token)\n",
    "        return Message(content=result + response.chat_message.content)"
   ]
  },
  {
   "cell_type": "code",
   "execution_count": 92,
   "id": "192e84ac",
   "metadata": {},
   "outputs": [],
   "source": [
    "runtime = SingleThreadedAgentRuntime()\n",
    "await Player1Agent.register(runtime, \"player1\", lambda: Player1Agent(\"player1\"))\n",
    "await Player2Agent.register(runtime, \"player2\", lambda: Player2Agent(\"player2\"))\n",
    "await RockPaperScissorsAgent.register(runtime, \"rock_paper_scissors\", lambda: RockPaperScissorsAgent(\"rock_paper_scissors\"))\n",
    "runtime.start()"
   ]
  },
  {
   "cell_type": "code",
   "execution_count": 93,
   "id": "ef7604a3",
   "metadata": {},
   "outputs": [
    {
     "name": "stdout",
     "output_type": "stream",
     "text": [
      "Player 1: scissors\n",
      "Player 2: rock\n",
      "Player 2 wins because rock beats scissors. TERMINATE\n"
     ]
    }
   ],
   "source": [
    "\n",
    "agent_id = AgentId(\"rock_paper_scissors\", \"default\")\n",
    "message = Message(content=\"go\")\n",
    "response = await runtime.send_message(message, agent_id)\n",
    "print(response.content)"
   ]
  },
  {
   "cell_type": "code",
   "execution_count": 94,
   "id": "c0b4c144",
   "metadata": {},
   "outputs": [],
   "source": [
    "\n",
    "await runtime.stop()\n",
    "await runtime.close()"
   ]
  }
 ],
 "metadata": {
  "kernelspec": {
   "display_name": "Python 3",
   "language": "python",
   "name": "python3"
  },
  "language_info": {
   "codemirror_mode": {
    "name": "ipython",
    "version": 3
   },
   "file_extension": ".py",
   "mimetype": "text/x-python",
   "name": "python",
   "nbconvert_exporter": "python",
   "pygments_lexer": "ipython3",
   "version": "3.13.3"
  }
 },
 "nbformat": 4,
 "nbformat_minor": 5
}
