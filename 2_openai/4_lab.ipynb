{
 "cells": [
  {
   "cell_type": "markdown",
   "id": "bf7fc7e2",
   "metadata": {},
   "source": [
    "### Commercial Implications\n",
    "A Deep Research agent is broadly applicable to any business area, and to your own day-to-day activities. You can make use of this yourself!"
   ]
  },
  {
   "cell_type": "code",
   "execution_count": 1,
   "id": "7be105b0",
   "metadata": {},
   "outputs": [],
   "source": [
    "\n",
    "from agents import Agent, WebSearchTool, trace, Runner, gen_trace_id, function_tool\n",
    "from agents.model_settings import ModelSettings\n",
    "from pydantic import BaseModel, Field\n",
    "from dotenv import load_dotenv\n",
    "import asyncio\n",
    "import sendgrid\n",
    "import os\n",
    "from sendgrid.helpers.mail import Mail, Email, To, Content\n",
    "from typing import Dict\n",
    "from IPython.display import display, Markdown"
   ]
  },
  {
   "cell_type": "code",
   "execution_count": 2,
   "id": "e8cd87de",
   "metadata": {},
   "outputs": [
    {
     "data": {
      "text/plain": [
       "True"
      ]
     },
     "execution_count": 2,
     "metadata": {},
     "output_type": "execute_result"
    }
   ],
   "source": [
    "\n",
    "load_dotenv(override=True)"
   ]
  },
  {
   "cell_type": "markdown",
   "id": "69b3c7ad",
   "metadata": {},
   "source": [
    "### **OpenAI Hosted Tools**\n",
    "\n",
    "OpenAI Agents SDK includes the following hosted tools:\n",
    "\n",
    "The `WebSearchTool` lets an agent search the web.  \n",
    "The `FileSearchTool` allows retrieving information from your OpenAI Vector Stores.  \n",
    "The `ComputerTool` allows automating computer use tasks like taking screenshots and clicking.  "
   ]
  },
  {
   "cell_type": "markdown",
   "id": "ea6c7edd",
   "metadata": {},
   "source": [
    "#### *Important note - API charge of WebSearchTool*\n",
    "\n",
    "This is costing me 2.5 cents per call for OpenAI WebSearchTool. That can add up to \n",
    "3 for the next 2 labs. We'll use low cost Search tools with other platforms, so feel free to skip running this if the cost is a concern."
   ]
  },
  {
   "cell_type": "code",
   "execution_count": 8,
   "id": "29867a72",
   "metadata": {},
   "outputs": [],
   "source": [
    "INSTRUCTIONS = \"\"\"\n",
    "    You are a research assistant. Given a search term, you search the web for\n",
    "    that term and produce a concise summary of the results. The summary must be \n",
    "    2-3 paragraphs and less than 300 words. Capture the main points. Write succintly,\n",
    "    no need to have the complete sentence or good grammar. This will be consumed nt someone \n",
    "    synthesizing a report, so it's vital you capture the essence and ignore any fluff.\n",
    "    Do not include any addtional commentary other than the summary itself.\n",
    "\"\"\"\n",
    "\n",
    "\n",
    "search_agent = Agent(\n",
    "    name=\"Search Agent\",\n",
    "    instructions=INSTRUCTIONS,\n",
    "    model = 'gpt-4o-mini',\n",
    "    tools=[WebSearchTool(search_context_size=\"low\")],\n",
    "    model_settings=ModelSettings(tool_choice=\"required\")\n",
    ")"
   ]
  },
  {
   "cell_type": "code",
   "execution_count": 9,
   "id": "60a4ed63",
   "metadata": {},
   "outputs": [
    {
     "data": {
      "text/markdown": [
       "As of mid-2025, several AI agent frameworks have emerged, each offering unique capabilities for developing intelligent, autonomous systems.\n",
       "\n",
       "**LangChain** is a versatile framework that facilitates the creation of AI applications by integrating various tools, models, and data sources. Its modular design allows developers to build complex workflows efficiently. ([dev.to](https://dev.to/surgedatalab/best-5-frameworks-for-agentic-ai-in-2025-enabling-next-gen-intelligent-multi-agent-systems-40ce?utm_source=openai))\n",
       "\n",
       "**LangGraph**, an extension of LangChain, introduces a graph-based system for managing agent workflows. This approach is particularly useful for applications requiring complex decision-making processes, such as loan processing or insurance claims. ([phyniks.com](https://phyniks.com/blog/top-7-agentic-ai-frameworks-in-2025?utm_source=openai))\n",
       "\n",
       "**AutoGen**, developed by Microsoft, automates the generation of code and models needed for complex workflows. It leverages large language models to assist developers in building, fine-tuning, and deploying AI solutions with minimal manual coding, making it accessible even to those without extensive AI expertise. ([blog.mechcloud.io](https://blog.mechcloud.io/top-5-ai-agent-frameworks-in-2025?utm_source=openai))\n",
       "\n",
       "**CrewAI** is designed for orchestrating collaborative AI agents in complex, multi-step workflows. Its role-based architecture enables developers to define agents with specialized responsibilities, facilitating the creation of systems that mimic human decision-making processes. ([dev.to](https://dev.to/surgedatalab/best-5-frameworks-for-agentic-ai-in-2025-enabling-next-gen-intelligent-multi-agent-systems-40ce?utm_source=openai))\n",
       "\n",
       "**Eliza** is an open-source, Web3-friendly AI agent operating system that seamlessly integrates with blockchain applications. It allows developers to create AI agents capable of interacting with smart contracts and blockchain data, expanding the potential applications of AI in decentralized environments. ([arxiv.org](https://arxiv.org/abs/2501.06781?utm_source=openai))\n",
       "\n",
       "These frameworks represent the forefront of AI agent development in 2025, each contributing to the advancement of intelligent, autonomous systems across various domains. "
      ],
      "text/plain": [
       "<IPython.core.display.Markdown object>"
      ]
     },
     "metadata": {},
     "output_type": "display_data"
    }
   ],
   "source": [
    "message = \"Latest AI Agent Frameworks in 2025.\"\n",
    "\n",
    "with trace(\"Search\"):\n",
    "    result = await Runner.run(search_agent, message)\n",
    "\n",
    "display(Markdown(result.final_output))"
   ]
  },
  {
   "cell_type": "markdown",
   "id": "7fa510f4",
   "metadata": {},
   "source": [
    "### **We will now use Structured Outputs, and include a description of the fields**"
   ]
  },
  {
   "cell_type": "code",
   "execution_count": 12,
   "id": "29324683",
   "metadata": {},
   "outputs": [],
   "source": [
    "HOW_MANY_SEARCHES = 3\n",
    "\n",
    "INSTRUCTIONS = f\"You are a helpful research assistant. Given a query, come up with \\\n",
    "a set of web searches to perform to best answer the query. Output {HOW_MANY_SEARCHES} terms to query for\"\n",
    "\n",
    "\n",
    "class WebSearchItem(BaseModel):\n",
    "    reason: str\n",
    "    \"\"\"Your reasoning for why this search is important for this query.\"\"\"\n",
    "\n",
    "    query: str\n",
    "    \"\"\"The search term to use for the web search.\"\"\"\n",
    "\n",
    "\n",
    "class WebSearchPlan(BaseModel):\n",
    "    searches: list[WebSearchItem]\n",
    "    \"\"\"A list of web searches to perform to best answer the query.\"\"\"\n",
    "\n",
    "\n",
    "\n",
    "planner_agent = Agent(\n",
    "    name=\"Planner Agent\",\n",
    "    instructions=INSTRUCTIONS, \n",
    "    model = 'gpt-4o-mini',\n",
    "    output_type = WebSearchPlan\n",
    ")"
   ]
  },
  {
   "cell_type": "code",
   "execution_count": 13,
   "id": "6d3872f5",
   "metadata": {},
   "outputs": [
    {
     "name": "stdout",
     "output_type": "stream",
     "text": [
      "searches=[WebSearchItem(reason='To find recent developments and releases in AI agent frameworks specifically in the year 2025.', query='latest AI agent frameworks 2025'), WebSearchItem(reason='To gather information on the most popular and widely used AI frameworks and platforms in 2025.', query='popular AI frameworks 2025'), WebSearchItem(reason='To explore academic research and industry reports on advancements in AI frameworks for agents in 2025.', query='AI agent frameworks research 2025')]\n"
     ]
    }
   ],
   "source": [
    "message = \"Latest AI Agent Frameworks in 2025.\"\n",
    "\n",
    "with trace(\"Search\"):\n",
    "    result = await Runner.run(planner_agent, message)\n",
    "    print(result.final_output)"
   ]
  },
  {
   "cell_type": "code",
   "execution_count": 14,
   "id": "dcb70ac4",
   "metadata": {},
   "outputs": [],
   "source": [
    "@function_tool\n",
    "def send_email(subject: str, html_body: str) -> Dict[str, str]:\n",
    "    \"\"\" Send out an email with the given subject and HTML body \"\"\"\n",
    "    sg = sendgrid.SendGridAPIClient(api_key=os.environ.get('SENDGRID_API_KEY'))\n",
    "    from_email = Email(\"jai.300012723027@csvtu.ac.in\") # Change this to your verified email\n",
    "    to_email = To(\"ksharma9719@gmail.com\") # Change this to your email\n",
    "    content = Content(\"text/html\", html_body)\n",
    "    mail = Mail(from_email, to_email, subject, content).get()\n",
    "    response = sg.client.mail.send.post(request_body=mail)\n",
    "    return {\"status\": \"success\"}"
   ]
  },
  {
   "cell_type": "code",
   "execution_count": 15,
   "id": "b22f2c50",
   "metadata": {},
   "outputs": [
    {
     "data": {
      "text/plain": [
       "FunctionTool(name='send_email', description='Send out an email with the given subject and HTML body', params_json_schema={'properties': {'subject': {'title': 'Subject', 'type': 'string'}, 'html_body': {'title': 'Html Body', 'type': 'string'}}, 'required': ['subject', 'html_body'], 'title': 'send_email_args', 'type': 'object', 'additionalProperties': False}, on_invoke_tool=<function function_tool.<locals>._create_function_tool.<locals>._on_invoke_tool at 0x000001DA08A3F7E0>, strict_json_schema=True, is_enabled=True)"
      ]
     },
     "execution_count": 15,
     "metadata": {},
     "output_type": "execute_result"
    }
   ],
   "source": [
    "send_email"
   ]
  },
  {
   "cell_type": "code",
   "execution_count": 16,
   "id": "3037b1d3",
   "metadata": {},
   "outputs": [],
   "source": [
    "INSTRUCTIONS = \"\"\"\n",
    "    You are able to send a nicely formatted HTML email based on a detailed report.\n",
    "    You will be provided with detailed report. You should use your tool to send one email, \n",
    "    providing the report converted into clean, well presented HTML with an appropriate subject line.\n",
    "\"\"\"\n",
    "\n",
    "email_agent = Agent(\n",
    "    name = \"Email Agent\",\n",
    "    instructions = INSTRUCTIONS,\n",
    "    model='gpt-4o-mini',\n",
    "    tools=[send_email]\n",
    ")"
   ]
  },
  {
   "cell_type": "code",
   "execution_count": 17,
   "id": "929373da",
   "metadata": {},
   "outputs": [],
   "source": [
    "# report writer agent\n",
    "\n",
    "\n",
    "INSTRUCTIONS = (\n",
    "    \"You are a senior researcher tasked with writing a cohesive report for a research query. \"\n",
    "    \"You will be provided with the original query, and some initial research done by a research assistant.\\n\"\n",
    "    \"You should first come up with an outline for the report that describes the structure and \"\n",
    "    \"flow of the report. Then, generate the report and return that as your final output.\\n\"\n",
    "    \"The final output should be in markdown format, and it should be lengthy and detailed. Aim \"\n",
    "    \"for 5-10 pages of content, at least 1000 words.\"\n",
    ")\n",
    "\n",
    "\n",
    "class ReportData(BaseModel):\n",
    "    short_summary: str = Field(description=\"A short 2-3 sentence summary of the findings.\")\n",
    "\n",
    "    markdown_report: str = Field(description=\"The final report.\")\n",
    "\n",
    "    follow_up_questions: list[str] = Field(description=\"Suggested topics to research further.\")\n",
    "\n",
    "\n",
    "\n",
    "writer_agent = Agent(\n",
    "    name =\"Writer Agent\",\n",
    "    instructions = INSTRUCTIONS,\n",
    "    model = 'gpt-4o-mini',\n",
    "    output_type = ReportData\n",
    ")"
   ]
  },
  {
   "cell_type": "markdown",
   "id": "c5f6842f",
   "metadata": {},
   "source": [
    "> \n",
    "The next 3 functions will plan and execute the search, using planner_agent and search_agent"
   ]
  },
  {
   "cell_type": "code",
   "execution_count": 18,
   "id": "bf40d1ec",
   "metadata": {},
   "outputs": [],
   "source": [
    "async def plan_searches(query: str):\n",
    "    \"\"\" Use the planner_agent to plan which searches to run for the query \"\"\"\n",
    "    print(\"Planning searches...\")\n",
    "    result = await Runner.run(planner_agent, f\"Query: {query}\")\n",
    "    print(f\"Will perform {len(result.final_output.searches)} searches\")\n",
    "    return result.final_output\n",
    "\n",
    "\n",
    "async def perform_searches(search_plan: WebSearchPlan):\n",
    "    \"\"\" Call search() for each item in the search plan \"\"\"\n",
    "    print(\"Searching...\")\n",
    "    tasks = [asyncio.create_task(search(item)) for item in search_plan.searches]\n",
    "    results = await asyncio.gather(*tasks)\n",
    "    print(\"Finished searching\")\n",
    "    return results\n",
    "\n",
    "\n",
    "async def search(item: WebSearchItem):\n",
    "    \"\"\" Use the search agent to run a web search for each item in the search plan \"\"\"\n",
    "    input = f\"Search term: {item.query}\\nReason for searching: {item.reason}\"\n",
    "    result = await Runner.run(search_agent, input)\n",
    "    return result.final_output"
   ]
  },
  {
   "cell_type": "code",
   "execution_count": 19,
   "id": "ddb024ce",
   "metadata": {},
   "outputs": [],
   "source": [
    "async def write_report(query: str, search_results: list[str]):\n",
    "    \"\"\" Use the writer agent to write a report based on the search results\"\"\"\n",
    "    print(\"Thinking about report...\")\n",
    "    input = f\"Original query: {query}\\nSummarized search results: {search_results}\"\n",
    "    result = await Runner.run(writer_agent, input)\n",
    "    print(\"Finished writing report\")\n",
    "    return result.final_output\n",
    "\n",
    "\n",
    "async def send_email(report: ReportData):\n",
    "    \"\"\" Use the email agent to send an email with the report \"\"\"\n",
    "    print(\"Writing email...\")\n",
    "    result = await Runner.run(email_agent, report.markdown_report)\n",
    "    print(\"Email sent\")\n",
    "    return report"
   ]
  },
  {
   "cell_type": "markdown",
   "id": "a8564351",
   "metadata": {},
   "source": [
    "### **Showtime!**"
   ]
  },
  {
   "cell_type": "code",
   "execution_count": 20,
   "id": "6a2603cd",
   "metadata": {},
   "outputs": [
    {
     "name": "stdout",
     "output_type": "stream",
     "text": [
      "Starting research...\n",
      "Planning searches...\n",
      "Will perform 3 searches\n",
      "Searching...\n",
      "Finished searching\n",
      "Thinking about report...\n",
      "Finished writing report\n",
      "Writing email...\n",
      "Email sent\n",
      "Email sent!\n"
     ]
    }
   ],
   "source": [
    "query =\"Latest AI Agent frameworks in 2025\"\n",
    "\n",
    "with trace(\"Research trace\"):\n",
    "    print(\"Starting research...\")\n",
    "    search_plan = await plan_searches(query)\n",
    "    search_results = await perform_searches(search_plan)\n",
    "    report = await write_report(query, search_results)\n",
    "    await send_email(report)\n",
    "    print(\"Email sent!\")"
   ]
  },
  {
   "cell_type": "markdown",
   "id": "642eed42",
   "metadata": {},
   "source": [
    "#### Always look at the traces: https://platform.openai.com/traces\n"
   ]
  }
 ],
 "metadata": {
  "kernelspec": {
   "display_name": "Python 3",
   "language": "python",
   "name": "python3"
  },
  "language_info": {
   "codemirror_mode": {
    "name": "ipython",
    "version": 3
   },
   "file_extension": ".py",
   "mimetype": "text/x-python",
   "name": "python",
   "nbconvert_exporter": "python",
   "pygments_lexer": "ipython3",
   "version": "3.13.3"
  }
 },
 "nbformat": 4,
 "nbformat_minor": 5
}
