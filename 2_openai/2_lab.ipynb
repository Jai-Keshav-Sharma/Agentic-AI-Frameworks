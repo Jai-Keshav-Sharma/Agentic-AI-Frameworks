{
 "cells": [
  {
   "cell_type": "markdown",
   "id": "2633307c",
   "metadata": {},
   "source": [
    "We are going to build a Simple Agent System for generating cold sales outreach emails:\n",
    "1. Agent Workflow\n",
    "2. Use of tools to call functions\n",
    "3. Agent collaboration via tools and Hanfoffs"
   ]
  },
  {
   "cell_type": "code",
   "execution_count": 25,
   "id": "2900ada5",
   "metadata": {},
   "outputs": [],
   "source": [
    "from dotenv import load_dotenv\n",
    "from agents import Agent, Runner, trace, function_tool\n",
    "from openai.types.responses import ResponseTextDeltaEvent\n",
    "from typing import Dict\n",
    "import sendgrid\n",
    "import os\n",
    "from sendgrid.helpers.mail import Mail, Email, To, Content\n",
    "import asyncio"
   ]
  },
  {
   "cell_type": "code",
   "execution_count": 17,
   "id": "709d8b2c",
   "metadata": {},
   "outputs": [
    {
     "data": {
      "text/plain": [
       "True"
      ]
     },
     "execution_count": 17,
     "metadata": {},
     "output_type": "execute_result"
    }
   ],
   "source": [
    "load_dotenv(override=True)"
   ]
  },
  {
   "cell_type": "markdown",
   "id": "bcee063b",
   "metadata": {},
   "source": [
    "## **Step 1. Agent Workflow**"
   ]
  },
  {
   "cell_type": "code",
   "execution_count": 18,
   "id": "f950d823",
   "metadata": {},
   "outputs": [],
   "source": [
    "instruction1 = \"\"\"\n",
    "    You are a sales agent working for ComplAI, \n",
    "    a company that provides SaaS tool for ensuring SOC2 compliance and preparing for audits, powered by AI.\n",
    "    You write professional, serious cold emails.\n",
    "\"\"\"\n",
    "\n",
    "instruction2 = \"\"\"\n",
    "    You are a humorous, engaging sales agent working for ComplAI,\n",
    "    a company that provides SaaS tool for ensuring SOC2 compliance and preparing for audits, powered by AI.\n",
    "    You write witty, engaging cold emails that are likely to get a response.\n",
    "\"\"\"\n",
    "\n",
    "instruction3 = \"\"\"\n",
    "    You are a busy sales agent working for ComplAI,\n",
    "    a company that provides SaaS tool for ensuring SOC2 compliance and preparing for audits, powered by AI.\n",
    "    You write concise, to the point cold emails that are likely to get a response.\n",
    "\"\"\""
   ]
  },
  {
   "cell_type": "code",
   "execution_count": 19,
   "id": "04b26f7b",
   "metadata": {},
   "outputs": [],
   "source": [
    "sales_agent1 = Agent(\n",
    "    name=\"Professional Sales Agent\",\n",
    "    instructions=instruction1,\n",
    "    model = 'gpt-4.1-nano'\n",
    ")\n",
    "\n",
    "sales_agent2 = Agent(\n",
    "    name=\"Engaging Sales Agent\",\n",
    "    instructions=instruction2,\n",
    "    model='gpt-4.1-nano'\n",
    ")\n",
    "\n",
    "sales_agent3 = Agent(\n",
    "    name = \"Busy Sales Agent\", \n",
    "    instructions=instruction3,\n",
    "    model = 'gpt-4.1-nano'\n",
    ")"
   ]
  },
  {
   "cell_type": "code",
   "execution_count": null,
   "id": "195146b3",
   "metadata": {},
   "outputs": [
    {
     "name": "stdout",
     "output_type": "stream",
     "text": [
      "Subject: Simplify Your SOC2 Compliance Process with ComplAI\n",
      "\n",
      "Dear [Recipient's Name],\n",
      "\n",
      "I hope this message finds you well. As organizations like yours strive to meet evolving security standards, maintaining SOC2 compliance remains a critical yet complex challenge.\n",
      "\n",
      "At ComplAI, we offer an AI-powered SaaS platform designed to streamline your compliance journey—reducing manual effort, identifying gaps proactively, and preparing you thoroughly for audits.\n",
      "\n",
      "Would you be open to a brief conversation to see how ComplAI can help simplify and accelerate your SOC2 compliance process?\n",
      "\n",
      "Looking forward to your response.\n",
      "\n",
      "Best regards,  \n",
      "[Your Name]  \n",
      "[Your Position]  \n",
      "ComplAI  \n",
      "[Your Contact Information]"
     ]
    }
   ],
   "source": [
    "result = Runner.run_streamed(sales_agent1, input=\"Write a cold sales email.\")\n",
    "\n",
    "# boiler-plate code for printing the text output\n",
    "\n",
    "async for event in result.stream_events():\n",
    "    if event.type == \"raw_response_event\" and isinstance(event.data, ResponseTextDeltaEvent):\n",
    "        print(event.data.delta, end=\"\", flush=True)"
   ]
  },
  {
   "cell_type": "code",
   "execution_count": null,
   "id": "8c675e4b",
   "metadata": {},
   "outputs": [
    {
     "name": "stdout",
     "output_type": "stream",
     "text": [
      "Subject: Simplify Your SOC2 Compliance and Audit Preparation with ComplAI\n",
      "\n",
      "Dear [Recipient’s Name],\n",
      "\n",
      "I hope this message finds you well. As your organization continues to grow, maintaining SOC2 compliance and preparing for audits can become increasingly complex and resource-intensive.\n",
      "\n",
      "At ComplAI, we offer an AI-powered SaaS platform designed to streamline your compliance processes, automate documentation, and ensure readiness for audits—saving you time, reducing risks, and providing peace of mind.\n",
      "\n",
      "Would you be open to a brief conversation to explore how ComplAI can support your compliance goals?\n",
      "\n",
      "Looking forward to your response.\n",
      "\n",
      "Best regards,  \n",
      "[Your Name]  \n",
      "[Your Position]  \n",
      "ComplAI  \n",
      "[Your Contact Information] \n",
      "\n",
      "\n",
      "Subject: Is Your SOC2 Compliance as Smooth as Your Coffee? ☕\n",
      "\n",
      "Hi [Name],\n",
      "\n",
      "Imagine tackling SOC2 audits with the ease of brewing your morning coffee—no spilled beans, just perfectly brewed compliance. Sounds dreamy, right? That’s exactly what ComplAI can do for your team.\n",
      "\n",
      "Our AI-powered platform simplifies SOC2 prep, cuts down audit prep time, and helps you spot issues before they become problems—so you can focus on what you do best: growing your business.\n",
      "\n",
      "Let’s chat about turning compliance chaos into caffeine-fueled clarity. How does a quick demo sound?\n",
      "\n",
      "Looking forward to making compliance your new favorite morning routine!\n",
      "\n",
      "Cheers,  \n",
      "[Your Name]  \n",
      "ComplAI — Where compliant meets clever  \n",
      "[Your Contact Info] \n",
      "\n",
      "\n",
      "Subject: Simplify Your SOC2 Compliance with AI-Powered SaaS\n",
      "\n",
      "Hi [Name],  \n",
      "\n",
      "Struggling to prepare for SOC2 audits? ComplAI streamlines compliance with AI-driven tools, saving your team time and reducing stress.  \n",
      "\n",
      "Would you be open to a quick chat?  \n",
      "\n",
      "Best,  \n",
      "[Your Name]  \n",
      "ComplAI \n",
      "\n",
      "\n"
     ]
    }
   ],
   "source": [
    "# Printing all cold emails\n",
    "\n",
    "message = \"Write a cold sales email.\"\n",
    "\n",
    "with trace(\"Parallel cold emails\"):\n",
    "    results = await asyncio.gather(\n",
    "        Runner.run(sales_agent1, input=message),\n",
    "        Runner.run(sales_agent2, input=message),\n",
    "        Runner.run(sales_agent3, input=message)\n",
    "    )\n",
    "\n",
    "\n",
    "outputs = [result.final_output for result in results]\n",
    "\n",
    "for output in outputs:\n",
    "    print(output , \"\\n\\n\")"
   ]
  },
  {
   "cell_type": "code",
   "execution_count": 36,
   "id": "21ca52e1",
   "metadata": {},
   "outputs": [],
   "source": [
    "# Agent to pick best cold sales email\n",
    "\n",
    "sales_picker = Agent(\n",
    "    name=\"Sales Picker\", \n",
    "    instructions=\"\"\"\n",
    "        You have to pick the best cold sales email out of all that are provided.\n",
    "        Imagine you are a customer and pick the email that you are most likely to respond to.\n",
    "        Do not give an explanation, just reply only and only with the best cold sales email.\n",
    "    \"\"\",\n",
    "    model='gpt-4o-mini'\n",
    ")"
   ]
  },
  {
   "cell_type": "code",
   "execution_count": 38,
   "id": "d8e3e730",
   "metadata": {},
   "outputs": [
    {
     "name": "stdout",
     "output_type": "stream",
     "text": [
      "Best sales email: \n",
      "\n",
      " Subject: Is your SOC2 compliance feeling more like a minefield than a roadmap? 🚧📝\n",
      "\n",
      "Hi [First Name],\n",
      "\n",
      "Let’s be honest — navigating SOC2 compliance can sometimes feel like trying to assemble furniture without the instructions. You know the pain: endless documentation, bewildering audits, and a looming deadline that keeps you awake at night.\n",
      "\n",
      "That’s where ComplAI comes in. We’re like the friendly GPS for your compliance journey — powered by AI, tuned for simplicity, and designed to get you across the finish line without losing your mind.\n",
      "\n",
      "How about a quick chat? I promise it’ll be more fun than reading SP 800-171... and with better results.\n",
      "\n",
      "Looking forward to helping you turn compliance chaos into a well-oiled machine.\n",
      "\n",
      "Best,  \n",
      "[Your Name]  \n",
      "ComplAI — Your AI Sidekick for SOC2 Success  \n",
      "[Your Contact Info]\n"
     ]
    }
   ],
   "source": [
    "# Picking the best cold sales email\n",
    "\n",
    "message = \"Write a cold sales email.\"\n",
    "\n",
    "with trace(\"Selection from sales people\"):\n",
    "    results = await asyncio.gather(\n",
    "        Runner.run(sales_agent1, message),\n",
    "        Runner.run(sales_agent2, message),\n",
    "        Runner.run(sales_agent3, message)\n",
    "    )\n",
    "\n",
    "    outputs = [result.final_output for result in results]\n",
    "\n",
    "    emails = \"Cold sales emails: \\n\\n\".join(outputs)\n",
    "\n",
    "    best = await Runner.run(sales_picker, input=emails)\n",
    "\n",
    "    print(f\"Best sales email: \\n\\n {best.final_output}\")"
   ]
  },
  {
   "cell_type": "markdown",
   "id": "3fdff39c",
   "metadata": {},
   "source": [
    "> Check the traces here: \n",
    "https://platform.openai.com/traces"
   ]
  },
  {
   "cell_type": "markdown",
   "id": "62927864",
   "metadata": {},
   "source": [
    "## **Steps 2. and 3. Tools and Agent Interactions**"
   ]
  },
  {
   "cell_type": "code",
   "execution_count": 39,
   "id": "9a6a2557",
   "metadata": {},
   "outputs": [
    {
     "data": {
      "text/plain": [
       "Agent(name='Professional Sales Agent', handoff_description=None, tools=[], mcp_servers=[], mcp_config={}, instructions='\\n    You are a sales agent working for ComplAI, \\n    a company that provides SaaS tool for ensuring SOC2 compliance and preparing for audits, powered by AI.\\n    You write professional, serious cold emails.\\n', prompt=None, handoffs=[], model='gpt-4.1-nano', model_settings=ModelSettings(temperature=None, top_p=None, frequency_penalty=None, presence_penalty=None, tool_choice=None, parallel_tool_calls=None, truncation=None, max_tokens=None, reasoning=None, metadata=None, store=None, include_usage=None, response_include=None, extra_query=None, extra_body=None, extra_headers=None, extra_args=None), input_guardrails=[], output_guardrails=[], output_type=None, hooks=None, tool_use_behavior='run_llm_again', reset_tool_choice=True)"
      ]
     },
     "execution_count": 39,
     "metadata": {},
     "output_type": "execute_result"
    }
   ],
   "source": [
    "# What does the sales_agent looks like? \n",
    "\n",
    "sales_agent1"
   ]
  },
  {
   "cell_type": "code",
   "execution_count": 40,
   "id": "7f77dba6",
   "metadata": {},
   "outputs": [],
   "source": [
    "# Boiler plate code to send emails using SendGrid\n",
    "\n",
    "@function_tool\n",
    "def send_email(body: str):\n",
    "    \"\"\"Send out an email with the given body to all the prospects.\"\"\"\n",
    "\n",
    "    sg = sendgrid.SendGridAPIClient(api_key=os.getenv(\"SENDGRID_API_KEY\"))\n",
    "    from_email = Email(\"jai.300012723027@csvtu.ac.in\")\n",
    "    to_email = To(\"ksharma9719@gmail.com\")\n",
    "    content = Content(\"text/plain\", body)\n",
    "    mail = Mail(from_email, to_email, \"Sales Email\", content).get()\n",
    "    sg.client.mail.send.post(request_body=mail)\n",
    "    return {'status': 'success'}"
   ]
  },
  {
   "cell_type": "markdown",
   "id": "d27e6cd7",
   "metadata": {},
   "source": [
    "> Because we use the @function_tool decorator just above the fucntion declaration, it has automatically been converted to a Tool, as a result, the boiler plate json has been created automatically."
   ]
  },
  {
   "cell_type": "code",
   "execution_count": null,
   "id": "aaf2c42d",
   "metadata": {},
   "outputs": [
    {
     "data": {
      "text/plain": [
       "FunctionTool(name='send_email', description='Send out an email with the given body to all the prospects.', params_json_schema={'properties': {'body': {'title': 'Body', 'type': 'string'}}, 'required': ['body'], 'title': 'send_email_args', 'type': 'object', 'additionalProperties': False}, on_invoke_tool=<function function_tool.<locals>._create_function_tool.<locals>._on_invoke_tool at 0x0000029DB00EF1A0>, strict_json_schema=True, is_enabled=True)"
      ]
     },
     "execution_count": 41,
     "metadata": {},
     "output_type": "execute_result"
    }
   ],
   "source": [
    "# have a look at it\n",
    "\n",
    "send_email  "
   ]
  },
  {
   "cell_type": "markdown",
   "id": "8bdb9385",
   "metadata": {},
   "source": [
    "#### *We can convert Agent into Tools too!*"
   ]
  },
  {
   "cell_type": "code",
   "execution_count": null,
   "id": "aab1f577",
   "metadata": {},
   "outputs": [
    {
     "data": {
      "text/plain": [
       "FunctionTool(name='sales_agent1', description='Write a cold sales email.', params_json_schema={'properties': {'input': {'title': 'Input', 'type': 'string'}}, 'required': ['input'], 'title': 'sales_agent1_args', 'type': 'object', 'additionalProperties': False}, on_invoke_tool=<function function_tool.<locals>._create_function_tool.<locals>._on_invoke_tool at 0x0000029DB09A1BC0>, strict_json_schema=True, is_enabled=True)"
      ]
     },
     "execution_count": 44,
     "metadata": {},
     "output_type": "execute_result"
    }
   ],
   "source": [
    "tool1 = sales_agent1.as_tool(tool_name=\"sales_agent1\", tool_description=\"Write a cold sales email.\")\n",
    "tool1   \n",
    "\n",
    "# sales_agent1 became a FunctionTool Object now"
   ]
  },
  {
   "cell_type": "markdown",
   "id": "9658567c",
   "metadata": {},
   "source": [
    "#### *Gathering all the Tools together!*"
   ]
  },
  {
   "cell_type": "code",
   "execution_count": 45,
   "id": "ff87b5c9",
   "metadata": {},
   "outputs": [
    {
     "data": {
      "text/plain": [
       "[FunctionTool(name='sales_agent1', description='Write a cold sales email.', params_json_schema={'properties': {'input': {'title': 'Input', 'type': 'string'}}, 'required': ['input'], 'title': 'sales_agent1_args', 'type': 'object', 'additionalProperties': False}, on_invoke_tool=<function function_tool.<locals>._create_function_tool.<locals>._on_invoke_tool at 0x0000029DB09A1EE0>, strict_json_schema=True, is_enabled=True),\n",
       " FunctionTool(name='sales_agent2', description='Write a cold sales email.', params_json_schema={'properties': {'input': {'title': 'Input', 'type': 'string'}}, 'required': ['input'], 'title': 'sales_agent2_args', 'type': 'object', 'additionalProperties': False}, on_invoke_tool=<function function_tool.<locals>._create_function_tool.<locals>._on_invoke_tool at 0x0000029DB09A2DE0>, strict_json_schema=True, is_enabled=True),\n",
       " FunctionTool(name='sales_agent3', description='Write a cold sales email.', params_json_schema={'properties': {'input': {'title': 'Input', 'type': 'string'}}, 'required': ['input'], 'title': 'sales_agent3_args', 'type': 'object', 'additionalProperties': False}, on_invoke_tool=<function function_tool.<locals>._create_function_tool.<locals>._on_invoke_tool at 0x0000029DB09A32E0>, strict_json_schema=True, is_enabled=True),\n",
       " FunctionTool(name='send_email', description='Send out an email with the given body to all the prospects.', params_json_schema={'properties': {'body': {'title': 'Body', 'type': 'string'}}, 'required': ['body'], 'title': 'send_email_args', 'type': 'object', 'additionalProperties': False}, on_invoke_tool=<function function_tool.<locals>._create_function_tool.<locals>._on_invoke_tool at 0x0000029DB00EF1A0>, strict_json_schema=True, is_enabled=True)]"
      ]
     },
     "execution_count": 45,
     "metadata": {},
     "output_type": "execute_result"
    }
   ],
   "source": [
    "message = \"Write a cold sales email.\"\n",
    "\n",
    "tool1 = sales_agent1.as_tool(tool_name=\"sales_agent1\", tool_description=\"Write a cold sales email.\")\n",
    "tool2 = sales_agent2.as_tool(tool_name=\"sales_agent2\", tool_description=\"Write a cold sales email.\")\n",
    "tool3 = sales_agent3.as_tool(tool_name=\"sales_agent3\", tool_description=\"Write a cold sales email.\")\n",
    "\n",
    "tools = [tool1, tool2, tool3, send_email]\n",
    "\n",
    "tools"
   ]
  },
  {
   "cell_type": "markdown",
   "id": "705e3bee",
   "metadata": {},
   "source": [
    "### **Time for the Sales Manager -- Our Planning Agent**"
   ]
  },
  {
   "cell_type": "code",
   "execution_count": null,
   "id": "0745c831",
   "metadata": {},
   "outputs": [],
   "source": [
    "instructions = \"\"\"\n",
    "    You are a Sales Manager working for ComplAI. You use tools provided to you to generate cold sales emails.\n",
    "    You NEVER generate cold sales emails yourself. You ONLY use tools to generate them.\n",
    "    You try all the three sales_agent tools before choosing the best one.\n",
    "    You pick the single best email and send it using send_email tool, ONLY the best email and nothing else.\n",
    "\"\"\"\n",
    "\n",
    "sales_manager = Agent(\n",
    "    name=\"Sales Manager\",\n",
    "    instructions=instructions,\n",
    "    model = \"gpt-4o-mini\",\n",
    "    tools = tools\n",
    ")\n",
    "\n",
    "message = \"Send a cold sales email to 'Dear CEO'\"\n",
    "\n",
    "with trace(\"Sales Manager\"):\n",
    "    result = await Runner.run(sales_manager, message)\n",
    "\n",
    "# EMail sent successfully"
   ]
  },
  {
   "cell_type": "code",
   "execution_count": 48,
   "id": "26852d87",
   "metadata": {},
   "outputs": [
    {
     "name": "stdout",
     "output_type": "stream",
     "text": [
      "RunResult:\n",
      "- Last agent: Agent(name=\"Sales Manager\", ...)\n",
      "- Final output (str):\n",
      "    The cold sales email has been successfully sent to the CEO. If you need anything else, feel free to ask!\n",
      "- 9 new item(s)\n",
      "- 3 raw response(s)\n",
      "- 0 input guardrail result(s)\n",
      "- 0 output guardrail result(s)\n",
      "(See `RunResult` for more details)\n"
     ]
    }
   ],
   "source": [
    "print(result)"
   ]
  },
  {
   "cell_type": "markdown",
   "id": "8402b612",
   "metadata": {},
   "source": [
    "> *Remember to chech the traces: https://platform.openai.com/traces*"
   ]
  },
  {
   "cell_type": "markdown",
   "id": "9988ca91",
   "metadata": {},
   "source": [
    "> *Remember to chech the traces: https://platform.openai.com/traces*"
   ]
  },
  {
   "cell_type": "markdown",
   "id": "5bdc56e4",
   "metadata": {},
   "source": [
    "---\n",
    "Handoffs represent a way an agent can delegate to an agent, passing control to it.\n",
    "Handoffs and Agents-as-tools are similar:\n",
    "\n",
    "    1. In both cases, an Agent can collaborate with another Agent  \n",
    "    2. With tools, control passes back  \n",
    "    3. With handoffs, control passes across  \n",
    "\n",
    "--- "
   ]
  },
  {
   "cell_type": "code",
   "execution_count": 49,
   "id": "5c70f402",
   "metadata": {},
   "outputs": [],
   "source": [
    "subject_instructions = \"You can write a subject for a cold sales email. \\\n",
    "You are given a message and you need to write a subject for an email that is likely to get a response.\"\n",
    "\n",
    "html_instructions = \"You can convert a text email body to an HTML email body. \\\n",
    "You are given a text email body which might have some markdown \\\n",
    "and you need to convert it to an HTML email body with simple, clear, compelling layout and design.\"\n",
    "\n",
    "subject_writer = Agent(\n",
    "    name=\"Email subject writer\", \n",
    "    instructions=subject_instructions, \n",
    "    model=\"gpt-4o-mini\"\n",
    ")\n",
    "\n",
    "subject_tool = subject_writer.as_tool(tool_name=\"subject_writer\", tool_description=\"Write a subject for a cold sales email\")\n",
    "\n",
    "html_converter = Agent(name=\"HTML email body converter\", instructions=html_instructions, model=\"gpt-4o-mini\")\n",
    "html_tool = html_converter.as_tool(tool_name=\"html_converter\",tool_description=\"Convert a text email body to an HTML email body\")\n"
   ]
  },
  {
   "cell_type": "code",
   "execution_count": 51,
   "id": "d45c5c42",
   "metadata": {},
   "outputs": [],
   "source": [
    "@function_tool\n",
    "def send_html_email(subject: str, html_body: str) -> Dict[str, str]:\n",
    "    \n",
    "    \"\"\" Send out an email with the given subject and HTML body to all sales prospects \"\"\"\n",
    "    sg = sendgrid.SendGridAPIClient(api_key=os.environ.get('SENDGRID_API_KEY'))\n",
    "    from_email = Email(\"jai.300012723027@csvtu.ac.in\")  # Change to your verified sender\n",
    "    to_email = To(\"ksharma9719@gmail.com\")  # Change to your recipient\n",
    "    content = Content(\"text/html\", html_body)\n",
    "    mail = Mail(from_email, to_email, subject, content).get()\n",
    "    sg.client.mail.send.post(request_body=mail)\n",
    "    return {\"status\": \"success\"}"
   ]
  },
  {
   "cell_type": "code",
   "execution_count": 52,
   "id": "0d537697",
   "metadata": {},
   "outputs": [],
   "source": [
    "tools = [subject_tool, html_tool, send_html_email]"
   ]
  },
  {
   "cell_type": "code",
   "execution_count": 53,
   "id": "162b2f63",
   "metadata": {},
   "outputs": [
    {
     "data": {
      "text/plain": [
       "[FunctionTool(name='subject_writer', description='Write a subject for a cold sales email', params_json_schema={'properties': {'input': {'title': 'Input', 'type': 'string'}}, 'required': ['input'], 'title': 'subject_writer_args', 'type': 'object', 'additionalProperties': False}, on_invoke_tool=<function function_tool.<locals>._create_function_tool.<locals>._on_invoke_tool at 0x0000029DB0A00D60>, strict_json_schema=True, is_enabled=True),\n",
       " FunctionTool(name='html_converter', description='Convert a text email body to an HTML email body', params_json_schema={'properties': {'input': {'title': 'Input', 'type': 'string'}}, 'required': ['input'], 'title': 'html_converter_args', 'type': 'object', 'additionalProperties': False}, on_invoke_tool=<function function_tool.<locals>._create_function_tool.<locals>._on_invoke_tool at 0x0000029DB0A00E00>, strict_json_schema=True, is_enabled=True),\n",
       " FunctionTool(name='send_html_email', description='Send out an email with the given subject and HTML body to all sales prospects', params_json_schema={'properties': {'subject': {'title': 'Subject', 'type': 'string'}, 'html_body': {'title': 'Html Body', 'type': 'string'}}, 'required': ['subject', 'html_body'], 'title': 'send_html_email_args', 'type': 'object', 'additionalProperties': False}, on_invoke_tool=<function function_tool.<locals>._create_function_tool.<locals>._on_invoke_tool at 0x0000029DB0A004A0>, strict_json_schema=True, is_enabled=True)]"
      ]
     },
     "execution_count": 53,
     "metadata": {},
     "output_type": "execute_result"
    }
   ],
   "source": [
    "tools"
   ]
  },
  {
   "cell_type": "markdown",
   "id": "b3b5595b",
   "metadata": {},
   "source": [
    "#### Let's try handoff!"
   ]
  },
  {
   "cell_type": "code",
   "execution_count": null,
   "id": "55247732",
   "metadata": {},
   "outputs": [],
   "source": [
    "\n",
    "\n",
    "instructions =\"You are an email formatter and sender. You receive the body of an email to be sent. \\\n",
    "You first use the subject_writer tool to write a subject for the email, then use the html_converter tool to convert the body to HTML. \\\n",
    "Finally, you use the send_html_email tool to send the email with the subject and HTML body.\"\n",
    "\n",
    "\n",
    "emailer_agent = Agent(\n",
    "    name=\"Email Manager\",\n",
    "    instructions=instructions,\n",
    "    tools=tools,\n",
    "    model=\"gpt-4o-mini\",\n",
    "    handoff_description=\"Convert an email to HTML and send it\")"
   ]
  },
  {
   "cell_type": "markdown",
   "id": "22ecc058",
   "metadata": {},
   "source": [
    "> Now we have 3 tools and 1 handoff !"
   ]
  },
  {
   "cell_type": "code",
   "execution_count": 55,
   "id": "67818f59",
   "metadata": {},
   "outputs": [
    {
     "name": "stdout",
     "output_type": "stream",
     "text": [
      "[FunctionTool(name='sales_agent1', description='Write a cold sales email.', params_json_schema={'properties': {'input': {'title': 'Input', 'type': 'string'}}, 'required': ['input'], 'title': 'sales_agent1_args', 'type': 'object', 'additionalProperties': False}, on_invoke_tool=<function function_tool.<locals>._create_function_tool.<locals>._on_invoke_tool at 0x0000029DB09A1EE0>, strict_json_schema=True, is_enabled=True), FunctionTool(name='sales_agent2', description='Write a cold sales email.', params_json_schema={'properties': {'input': {'title': 'Input', 'type': 'string'}}, 'required': ['input'], 'title': 'sales_agent2_args', 'type': 'object', 'additionalProperties': False}, on_invoke_tool=<function function_tool.<locals>._create_function_tool.<locals>._on_invoke_tool at 0x0000029DB09A2DE0>, strict_json_schema=True, is_enabled=True), FunctionTool(name='sales_agent3', description='Write a cold sales email.', params_json_schema={'properties': {'input': {'title': 'Input', 'type': 'string'}}, 'required': ['input'], 'title': 'sales_agent3_args', 'type': 'object', 'additionalProperties': False}, on_invoke_tool=<function function_tool.<locals>._create_function_tool.<locals>._on_invoke_tool at 0x0000029DB09A32E0>, strict_json_schema=True, is_enabled=True)]\n",
      "[Agent(name='Email Manager', handoff_description='Convert an email to HTML and send it', tools=[FunctionTool(name='subject_writer', description='Write a subject for a cold sales email', params_json_schema={'properties': {'input': {'title': 'Input', 'type': 'string'}}, 'required': ['input'], 'title': 'subject_writer_args', 'type': 'object', 'additionalProperties': False}, on_invoke_tool=<function function_tool.<locals>._create_function_tool.<locals>._on_invoke_tool at 0x0000029DB0A00D60>, strict_json_schema=True, is_enabled=True), FunctionTool(name='html_converter', description='Convert a text email body to an HTML email body', params_json_schema={'properties': {'input': {'title': 'Input', 'type': 'string'}}, 'required': ['input'], 'title': 'html_converter_args', 'type': 'object', 'additionalProperties': False}, on_invoke_tool=<function function_tool.<locals>._create_function_tool.<locals>._on_invoke_tool at 0x0000029DB0A00E00>, strict_json_schema=True, is_enabled=True), FunctionTool(name='send_html_email', description='Send out an email with the given subject and HTML body to all sales prospects', params_json_schema={'properties': {'subject': {'title': 'Subject', 'type': 'string'}, 'html_body': {'title': 'Html Body', 'type': 'string'}}, 'required': ['subject', 'html_body'], 'title': 'send_html_email_args', 'type': 'object', 'additionalProperties': False}, on_invoke_tool=<function function_tool.<locals>._create_function_tool.<locals>._on_invoke_tool at 0x0000029DB0A004A0>, strict_json_schema=True, is_enabled=True)], mcp_servers=[], mcp_config={}, instructions='You are an email formatter and sender. You receive the body of an email to be sent. You first use the subject_writer tool to write a subject for the email, then use the html_converter tool to convert the body to HTML. Finally, you use the send_html_email tool to send the email with the subject and HTML body.', prompt=None, handoffs=[], model='gpt-4o-mini', model_settings=ModelSettings(temperature=None, top_p=None, frequency_penalty=None, presence_penalty=None, tool_choice=None, parallel_tool_calls=None, truncation=None, max_tokens=None, reasoning=None, metadata=None, store=None, include_usage=None, response_include=None, extra_query=None, extra_body=None, extra_headers=None, extra_args=None), input_guardrails=[], output_guardrails=[], output_type=None, hooks=None, tool_use_behavior='run_llm_again', reset_tool_choice=True)]\n"
     ]
    }
   ],
   "source": [
    "tools = [tool1, tool2, tool3]\n",
    "handoffs = [emailer_agent]\n",
    "print(tools)\n",
    "print(handoffs)"
   ]
  },
  {
   "cell_type": "markdown",
   "id": "4415ef85",
   "metadata": {},
   "source": [
    "> Sales Manager will handoff to emailer agent"
   ]
  },
  {
   "cell_type": "code",
   "execution_count": 58,
   "id": "bb7ff265",
   "metadata": {},
   "outputs": [],
   "source": [
    "sales_manager_instructions = \"You are a sales manager working for ComplAI. You use the tools given to you to generate cold sales emails. \\\n",
    "You never generate sales emails yourself; you always use the tools. \\\n",
    "You try all 3 sales agent tools at least once before choosing the best one. \\\n",
    "You can use the tools multiple times if you're not satisfied with the results from the first try. \\\n",
    "You select the single best email using your own judgement of which email will be most effective. \\\n",
    "After picking the email, you handoff to the Email Manager agent to format and send the email.\"\n",
    "\n",
    "\n",
    "sales_manager = Agent(\n",
    "    name=\"Sales Manager\",\n",
    "    instructions=sales_manager_instructions,\n",
    "    tools=tools,\n",
    "    handoffs=handoffs,\n",
    "    model=\"gpt-4o-mini\")\n",
    "\n",
    "message = \"Send out a cold sales email addressed to Dear CEO from Alice\"\n",
    "\n",
    "with trace(\"Automated SDR\"):\n",
    "    result = await Runner.run(sales_manager, message)"
   ]
  },
  {
   "cell_type": "code",
   "execution_count": 57,
   "id": "9568bd83",
   "metadata": {},
   "outputs": [
    {
     "name": "stdout",
     "output_type": "stream",
     "text": [
      "RunResult:\n",
      "- Last agent: Agent(name=\"Email Manager\", ...)\n",
      "- Final output (str):\n",
      "    The cold sales email has been successfully sent to the CEO. If you need any further assistance or would like to send another email, feel free to ask!\n",
      "- 16 new item(s)\n",
      "- 5 raw response(s)\n",
      "- 0 input guardrail result(s)\n",
      "- 0 output guardrail result(s)\n",
      "(See `RunResult` for more details)\n"
     ]
    }
   ],
   "source": [
    "print(result)"
   ]
  },
  {
   "cell_type": "markdown",
   "id": "4ba6d9cb",
   "metadata": {},
   "source": [
    "> *Remember to chech the traces: https://platform.openai.com/traces*"
   ]
  },
  {
   "cell_type": "markdown",
   "id": "0ef33f34",
   "metadata": {},
   "source": [
    "### **Commercial implications**\n",
    "This is immediately applicable to Sales Automation; but more generally this could be applied to end-to-end automation of any business process through conversations and tools. Think of ways you could apply an Agent solution like this in your day job."
   ]
  }
 ],
 "metadata": {
  "kernelspec": {
   "display_name": "Python 3",
   "language": "python",
   "name": "python3"
  },
  "language_info": {
   "codemirror_mode": {
    "name": "ipython",
    "version": 3
   },
   "file_extension": ".py",
   "mimetype": "text/x-python",
   "name": "python",
   "nbconvert_exporter": "python",
   "pygments_lexer": "ipython3",
   "version": "3.13.3"
  }
 },
 "nbformat": 4,
 "nbformat_minor": 5
}
