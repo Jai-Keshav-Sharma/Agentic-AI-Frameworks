{
 "cells": [
  {
   "cell_type": "markdown",
   "id": "c13644bd",
   "metadata": {},
   "source": [
    "> Docs: `https://openai.github.io/openai-agents-python/`"
   ]
  },
  {
   "cell_type": "code",
   "execution_count": 4,
   "id": "c4b49bbc",
   "metadata": {},
   "outputs": [],
   "source": [
    "from dotenv import load_dotenv\n",
    "from agents import Agent, Runner, trace"
   ]
  },
  {
   "cell_type": "code",
   "execution_count": 5,
   "id": "f27f405f",
   "metadata": {},
   "outputs": [
    {
     "data": {
      "text/plain": [
       "True"
      ]
     },
     "execution_count": 5,
     "metadata": {},
     "output_type": "execute_result"
    }
   ],
   "source": [
    "load_dotenv(override=True)"
   ]
  },
  {
   "cell_type": "code",
   "execution_count": null,
   "id": "4c8f54c1",
   "metadata": {},
   "outputs": [],
   "source": [
    "# make an agent with name, instructions and model\n",
    "\n",
    "agent = Agent(name=\"Jokester\", instructions=\"You are a professional joke teller\", model='gpt-4.1-nano')"
   ]
  },
  {
   "cell_type": "code",
   "execution_count": 9,
   "id": "63cec554",
   "metadata": {},
   "outputs": [
    {
     "name": "stdout",
     "output_type": "stream",
     "text": [
      "Agent(name='Jokester', handoff_description=None, tools=[], mcp_servers=[], mcp_config={}, instructions='You are a professional joke teller', prompt=None, handoffs=[], model='gpt-4.1-nano', model_settings=ModelSettings(temperature=None, top_p=None, frequency_penalty=None, presence_penalty=None, tool_choice=None, parallel_tool_calls=None, truncation=None, max_tokens=None, reasoning=None, metadata=None, store=None, include_usage=None, response_include=None, extra_query=None, extra_body=None, extra_headers=None, extra_args=None), input_guardrails=[], output_guardrails=[], output_type=None, hooks=None, tool_use_behavior='run_llm_again', reset_tool_choice=True)\n"
     ]
    }
   ],
   "source": [
    "print(agent)"
   ]
  },
  {
   "cell_type": "code",
   "execution_count": null,
   "id": "76474404",
   "metadata": {},
   "outputs": [
    {
     "name": "stdout",
     "output_type": "stream",
     "text": [
      "RunResult:\n",
      "- Last agent: Agent(name=\"Jokester\", ...)\n",
      "- Final output (str):\n",
      "    Alright, here’s a classic for you:\n",
      "    \n",
      "    Why did the scarecrow win an award? \n",
      "    \n",
      "    Because he was outstanding in his field!\n",
      "- 1 new item(s)\n",
      "- 1 raw response(s)\n",
      "- 0 input guardrail result(s)\n",
      "- 0 output guardrail result(s)\n",
      "(See `RunResult` for more details)\n"
     ]
    }
   ],
   "source": [
    "# Run the joke with Runner.run(agert, prompt), then print final output\n",
    "\n",
    "result = await Runner.run(agent, \"tell me the best joke of all time\")\n",
    "print(result)"
   ]
  },
  {
   "cell_type": "code",
   "execution_count": 8,
   "id": "dcc95eab",
   "metadata": {},
   "outputs": [
    {
     "name": "stdout",
     "output_type": "stream",
     "text": [
      "Alright, here’s a classic for you:\n",
      "\n",
      "Why did the scarecrow win an award? \n",
      "\n",
      "Because he was outstanding in his field!\n"
     ]
    }
   ],
   "source": [
    "print(result.final_output)"
   ]
  },
  {
   "cell_type": "code",
   "execution_count": 10,
   "id": "f96397be",
   "metadata": {},
   "outputs": [
    {
     "name": "stdout",
     "output_type": "stream",
     "text": [
      "Sure! Here's a classic favorite:\n",
      "\n",
      "Why don’t scientists trust atoms?\n",
      "\n",
      "Because they make up everything!\n"
     ]
    }
   ],
   "source": [
    "with trace(\"telling a joke\"):\n",
    "    result = await Runner.run(agent, \"tell me the best joke of all time\")\n",
    "    print(result.final_output)"
   ]
  },
  {
   "cell_type": "markdown",
   "id": "c87ea1ec",
   "metadata": {},
   "source": [
    "### Get the traces here: ⬇️"
   ]
  },
  {
   "cell_type": "markdown",
   "id": "28c17e66",
   "metadata": {},
   "source": [
    "> https://platform.openai.com/traces"
   ]
  }
 ],
 "metadata": {
  "kernelspec": {
   "display_name": "Python 3",
   "language": "python",
   "name": "python3"
  },
  "language_info": {
   "codemirror_mode": {
    "name": "ipython",
    "version": 3
   },
   "file_extension": ".py",
   "mimetype": "text/x-python",
   "name": "python",
   "nbconvert_exporter": "python",
   "pygments_lexer": "ipython3",
   "version": "3.13.3"
  }
 },
 "nbformat": 4,
 "nbformat_minor": 5
}
