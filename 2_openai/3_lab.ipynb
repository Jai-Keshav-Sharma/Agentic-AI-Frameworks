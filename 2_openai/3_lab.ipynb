{
 "cells": [
  {
   "cell_type": "code",
   "execution_count": 1,
   "id": "8d8b361b",
   "metadata": {},
   "outputs": [],
   "source": [
    "from dotenv import load_dotenv\n",
    "from openai import AsyncOpenAI\n",
    "from agents import Agent, Runner, trace, function_tool, OpenAIChatCompletionsModel, input_guardrail, GuardrailFunctionOutput\n",
    "from typing import Dict\n",
    "import sendgrid\n",
    "import os\n",
    "from sendgrid.helpers.mail import Mail, Email, To, Content\n",
    "from pydantic import BaseModel"
   ]
  },
  {
   "cell_type": "code",
   "execution_count": 2,
   "id": "df6f0f28",
   "metadata": {},
   "outputs": [
    {
     "data": {
      "text/plain": [
       "True"
      ]
     },
     "execution_count": 2,
     "metadata": {},
     "output_type": "execute_result"
    }
   ],
   "source": [
    "load_dotenv(override=True)"
   ]
  },
  {
   "cell_type": "code",
   "execution_count": 3,
   "id": "ffb24aa3",
   "metadata": {},
   "outputs": [
    {
     "name": "stdout",
     "output_type": "stream",
     "text": [
      "OPENAI_API_KEY Present:  sk-proj-\n",
      "GROQ_API_KEY Present:  gsk_LGQu\n"
     ]
    }
   ],
   "source": [
    "openai_api_key = os.getenv(\"OPENAI_API_KEY\")\n",
    "groq_api_key = os.getenv(\"GROQ_API_KEY\")\n",
    "\n",
    "\n",
    "if openai_api_key:\n",
    "    print(\"OPENAI_API_KEY Present: \", openai_api_key[:8])\n",
    "\n",
    "if groq_api_key:\n",
    "    print(\"GROQ_API_KEY Present: \", groq_api_key[:8])"
   ]
  },
  {
   "cell_type": "code",
   "execution_count": 4,
   "id": "f1650a55",
   "metadata": {},
   "outputs": [],
   "source": [
    "GROQ_BASE_URL = \"https://api.groq.com/openai/v1\""
   ]
  },
  {
   "cell_type": "code",
   "execution_count": 5,
   "id": "2d769b55",
   "metadata": {},
   "outputs": [],
   "source": [
    "groq_client = AsyncOpenAI(base_url=GROQ_BASE_URL, api_key=groq_api_key)"
   ]
  },
  {
   "cell_type": "code",
   "execution_count": 6,
   "id": "ab583edd",
   "metadata": {},
   "outputs": [],
   "source": [
    "groq_model = OpenAIChatCompletionsModel(model='llama-3.3-70b-versatile', openai_client=groq_client)"
   ]
  },
  {
   "cell_type": "code",
   "execution_count": 7,
   "id": "d81bcd27",
   "metadata": {},
   "outputs": [],
   "source": [
    "instructions1 = \"You are a sales agent working for ComplAI, \\\n",
    "a company that provides a SaaS tool for ensuring SOC2 compliance and preparing for audits, powered by AI. \\\n",
    "You write professional, serious cold emails.\"\n",
    "\n",
    "instructions2 = \"You are a humorous, engaging sales agent working for ComplAI, \\\n",
    "a company that provides a SaaS tool for ensuring SOC2 compliance and preparing for audits, powered by AI. \\\n",
    "You write witty, engaging cold emails that are likely to get a response.\"\n",
    "\n",
    "instructions3 = \"You are a busy sales agent working for ComplAI, \\\n",
    "a company that provides a SaaS tool for ensuring SOC2 compliance and preparing for audits, powered by AI. \\\n",
    "You write concise, to the point cold emails.\"\n",
    "\n",
    "sales_agent1 = Agent(\n",
    "    name=\"Groq Sales Agent 1\",\n",
    "    instructions=instructions1,\n",
    "    model=groq_model\n",
    ")\n",
    "\n",
    "sales_agent2 = Agent(\n",
    "    name=\"Groq Sales Agent 2\",\n",
    "    instructions=instructions1,\n",
    "    model=groq_model\n",
    ")\n",
    "sales_agent3 = Agent(\n",
    "    name=\"Groq Sales Agent 3\",\n",
    "    instructions=instructions1,\n",
    "    model=groq_model\n",
    ")"
   ]
  },
  {
   "cell_type": "code",
   "execution_count": 8,
   "id": "26026e20",
   "metadata": {},
   "outputs": [],
   "source": [
    "description=\"Write a cold sales email.\"\n",
    "\n",
    "tool1 = sales_agent1.as_tool(tool_name='sales_agent1', tool_description=description)\n",
    "tool2 = sales_agent2.as_tool(tool_name='sales_agent2', tool_description=description)\n",
    "tool3 = sales_agent3.as_tool(tool_name='sales_agent3', tool_description=description)"
   ]
  },
  {
   "cell_type": "code",
   "execution_count": 9,
   "id": "35e4dcf1",
   "metadata": {},
   "outputs": [],
   "source": [
    "@function_tool\n",
    "def send_html_mail(subject: str, html_body: str) -> Dict[str, str]:\n",
    "    \"\"\"Send out an email with the given subject and the given body to all sales prospects.\"\"\"\n",
    "\n",
    "    sg = sendgrid.SendGridAPIClient(api_key=os.getenv(\"SENDGRID_API_KEY\"))\n",
    "    from_email = Email(\"jai.300012723027@csvtu.ac.in\")\n",
    "    to_email = To(\"ksharma9719@gmail.com\")\n",
    "    content = Content(\"text/html\", html_body)\n",
    "    mail = Mail(from_email, to_email, subject, content).get()\n",
    "    response = sg.client.mail.send.post(request_body=mail)\n",
    "    return {'status': 'success'}"
   ]
  },
  {
   "cell_type": "code",
   "execution_count": 10,
   "id": "5077d966",
   "metadata": {},
   "outputs": [],
   "source": [
    "subject_instructions = \"You can write a subject for a cold sales email. \\\n",
    "You are given a message and you need to write a subject for an email that is likely to get a response.\"\n",
    "\n",
    "html_instructions = \"You can convert a text email body to an HTML email body. \\\n",
    "You are given a text email body which might have some markdown \\\n",
    "and you need to convert it to an HTML email body with simple, clear, compelling layout and design.\"\n",
    "\n",
    "subject_writer = Agent(\n",
    "    name = \"Subject Writer\",\n",
    "    instructions=subject_instructions,\n",
    "    model = 'gpt-4.1-nano'\n",
    ")\n",
    "subject_tool = subject_writer.as_tool(tool_name = \"subject_writer\", tool_description=\"Write a subject for a cold sales email.\")\n",
    "\n",
    "\n",
    "html_converter = Agent(name=\"HTML email body converter\", instructions=html_instructions, model=\"gpt-4.1-nano\")\n",
    "html_tool = html_converter.as_tool(tool_name=\"html_converter\",tool_description=\"Convert a text email body to an HTML email body\")"
   ]
  },
  {
   "cell_type": "code",
   "execution_count": 11,
   "id": "759f105d",
   "metadata": {},
   "outputs": [],
   "source": [
    "\n",
    "email_tools = [subject_tool, html_tool, send_html_mail]"
   ]
  },
  {
   "cell_type": "code",
   "execution_count": 12,
   "id": "1113cf45",
   "metadata": {},
   "outputs": [],
   "source": [
    "instructions =\"You are an email formatter and sender. You receive the body of an email to be sent. \\\n",
    "You first use the subject_writer tool to write a subject for the email, then use the html_converter tool to convert the body to HTML. \\\n",
    "Finally, you use the send_html_email tool to send the email with the subject and HTML body.\"\n",
    "\n",
    "\n",
    "emailer_agent = Agent(\n",
    "    name=\"Emailer Agent\",\n",
    "    tools = email_tools,\n",
    "    model = 'gpt-4o-mini',\n",
    "    instructions=instructions,\n",
    "    handoff_description=\"Convert an Email to HTML and send it.\"\n",
    ")"
   ]
  },
  {
   "cell_type": "code",
   "execution_count": null,
   "id": "445245db",
   "metadata": {},
   "outputs": [],
   "source": [
    "tools = [tool1, tool2, tool3]\n",
    "\n",
    "sales_manager_instructions = \"You are a sales manager working for ComplAI. You use the tools given to you to generate cold sales emails. \\\n",
    "You never generate sales emails yourself; you always use the tools. \\\n",
    "You try all 3 sales agent tools at least once before choosing the best one. \\\n",
    "You can use the tools multiple times if you're not satisfied with the results from the first try. \\\n",
    "You select the single best email using your own judgement of which email will be most effective. \\\n",
    "After picking the email, you handoff to the Email Manager agent to format and send the email.\"\n",
    "\n",
    "\n",
    "sales_manager = Agent(\n",
    "    name=\"Sales Manager\",\n",
    "    instructions=sales_manager_instructions,\n",
    "    tools = tools,\n",
    "    handoffs = [emailer_agent],\n",
    "    model = 'gpt-4o-mini'\n",
    ")\n",
    "\n",
    "message = \"send a cold sales email to Dear CEO from Jai Keshav Sharma\"\n",
    "\n",
    "with trace(\"Automated SDR\"):\n",
    "    result = await Runner.run(sales_manager, message)"
   ]
  },
  {
   "cell_type": "markdown",
   "id": "9a364d2c",
   "metadata": {},
   "source": [
    "Check out the traces: https://platform.openai.com/traces"
   ]
  },
  {
   "cell_type": "markdown",
   "id": "bd2edc69",
   "metadata": {},
   "source": [
    "### **Introducing Guardrails**"
   ]
  },
  {
   "cell_type": "markdown",
   "id": "8f3e480d",
   "metadata": {},
   "source": [
    "Guardrails can either be applied to input or output, not anywhere else."
   ]
  },
  {
   "cell_type": "code",
   "execution_count": 26,
   "id": "db4a30b0",
   "metadata": {},
   "outputs": [],
   "source": [
    "class NameCheckOutput(BaseModel):\n",
    "    is_name_in_message: bool\n",
    "    name: str\n",
    "\n",
    "guardrail_agent = Agent( \n",
    "    name=\"Name check\",\n",
    "    instructions=\"Check if the user is including someone's personal name in what they want you to do.\",\n",
    "    output_type=NameCheckOutput,\n",
    "    model=\"gpt-4o-mini\"\n",
    ")"
   ]
  },
  {
   "cell_type": "code",
   "execution_count": 27,
   "id": "248dac33",
   "metadata": {},
   "outputs": [],
   "source": [
    "@input_guardrail\n",
    "async def guardrail_against_name(ctx, agent, message):\n",
    "    result = await Runner.run(guardrail_agent, message, context=ctx.context)\n",
    "    is_name_in_message = result.final_output.is_name_in_message\n",
    "    return GuardrailFunctionOutput(output_info={\"found_name\": result.final_output},tripwire_triggered=is_name_in_message)"
   ]
  },
  {
   "cell_type": "code",
   "execution_count": null,
   "id": "6888ae61",
   "metadata": {},
   "outputs": [
    {
     "ename": "InputGuardrailTripwireTriggered",
     "evalue": "Guardrail InputGuardrail triggered tripwire",
     "output_type": "error",
     "traceback": [
      "\u001b[1;31m---------------------------------------------------------------------------\u001b[0m",
      "\u001b[1;31mInputGuardrailTripwireTriggered\u001b[0m           Traceback (most recent call last)",
      "Cell \u001b[1;32mIn[28], line 13\u001b[0m\n\u001b[0;32m     10\u001b[0m message \u001b[38;5;241m=\u001b[39m \u001b[38;5;124m\"\u001b[39m\u001b[38;5;124mSend out a cold sales email addressed to Dear CEO from Alice\u001b[39m\u001b[38;5;124m\"\u001b[39m\n\u001b[0;32m     12\u001b[0m \u001b[38;5;28;01mwith\u001b[39;00m trace(\u001b[38;5;124m\"\u001b[39m\u001b[38;5;124mProtected Automated SDR\u001b[39m\u001b[38;5;124m\"\u001b[39m):\n\u001b[1;32m---> 13\u001b[0m     result \u001b[38;5;241m=\u001b[39m \u001b[38;5;28;01mawait\u001b[39;00m Runner\u001b[38;5;241m.\u001b[39mrun(careful_sales_manager, message)\n",
      "File \u001b[1;32mc:\\Python313\\Lib\\site-packages\\agents\\run.py:206\u001b[0m, in \u001b[0;36mRunner.run\u001b[1;34m(cls, starting_agent, input, context, max_turns, hooks, run_config, previous_response_id, session)\u001b[0m\n\u001b[0;32m    179\u001b[0m \u001b[38;5;250m\u001b[39m\u001b[38;5;124;03m\"\"\"Run a workflow starting at the given agent. The agent will run in a loop until a final\u001b[39;00m\n\u001b[0;32m    180\u001b[0m \u001b[38;5;124;03moutput is generated. The loop runs like so:\u001b[39;00m\n\u001b[0;32m    181\u001b[0m \u001b[38;5;124;03m1. The agent is invoked with the given input.\u001b[39;00m\n\u001b[1;32m   (...)\u001b[0m\n\u001b[0;32m    203\u001b[0m \u001b[38;5;124;03m    agent. Agents may perform handoffs, so we don't know the specific type of the output.\u001b[39;00m\n\u001b[0;32m    204\u001b[0m \u001b[38;5;124;03m\"\"\"\u001b[39;00m\n\u001b[0;32m    205\u001b[0m runner \u001b[38;5;241m=\u001b[39m DEFAULT_AGENT_RUNNER\n\u001b[1;32m--> 206\u001b[0m \u001b[38;5;28;01mreturn\u001b[39;00m \u001b[38;5;28;01mawait\u001b[39;00m runner\u001b[38;5;241m.\u001b[39mrun(\n\u001b[0;32m    207\u001b[0m     starting_agent,\n\u001b[0;32m    208\u001b[0m     \u001b[38;5;28minput\u001b[39m,\n\u001b[0;32m    209\u001b[0m     context\u001b[38;5;241m=\u001b[39mcontext,\n\u001b[0;32m    210\u001b[0m     max_turns\u001b[38;5;241m=\u001b[39mmax_turns,\n\u001b[0;32m    211\u001b[0m     hooks\u001b[38;5;241m=\u001b[39mhooks,\n\u001b[0;32m    212\u001b[0m     run_config\u001b[38;5;241m=\u001b[39mrun_config,\n\u001b[0;32m    213\u001b[0m     previous_response_id\u001b[38;5;241m=\u001b[39mprevious_response_id,\n\u001b[0;32m    214\u001b[0m     session\u001b[38;5;241m=\u001b[39msession,\n\u001b[0;32m    215\u001b[0m )\n",
      "File \u001b[1;32mc:\\Python313\\Lib\\site-packages\\agents\\run.py:412\u001b[0m, in \u001b[0;36mAgentRunner.run\u001b[1;34m(self, starting_agent, input, **kwargs)\u001b[0m\n\u001b[0;32m    407\u001b[0m logger\u001b[38;5;241m.\u001b[39mdebug(\n\u001b[0;32m    408\u001b[0m     \u001b[38;5;124mf\u001b[39m\u001b[38;5;124m\"\u001b[39m\u001b[38;5;124mRunning agent \u001b[39m\u001b[38;5;132;01m{\u001b[39;00mcurrent_agent\u001b[38;5;241m.\u001b[39mname\u001b[38;5;132;01m}\u001b[39;00m\u001b[38;5;124m (turn \u001b[39m\u001b[38;5;132;01m{\u001b[39;00mcurrent_turn\u001b[38;5;132;01m}\u001b[39;00m\u001b[38;5;124m)\u001b[39m\u001b[38;5;124m\"\u001b[39m,\n\u001b[0;32m    409\u001b[0m )\n\u001b[0;32m    411\u001b[0m \u001b[38;5;28;01mif\u001b[39;00m current_turn \u001b[38;5;241m==\u001b[39m \u001b[38;5;241m1\u001b[39m:\n\u001b[1;32m--> 412\u001b[0m     input_guardrail_results, turn_result \u001b[38;5;241m=\u001b[39m \u001b[38;5;28;01mawait\u001b[39;00m asyncio\u001b[38;5;241m.\u001b[39mgather(\n\u001b[0;32m    413\u001b[0m         \u001b[38;5;28mself\u001b[39m\u001b[38;5;241m.\u001b[39m_run_input_guardrails(\n\u001b[0;32m    414\u001b[0m             starting_agent,\n\u001b[0;32m    415\u001b[0m             starting_agent\u001b[38;5;241m.\u001b[39minput_guardrails\n\u001b[0;32m    416\u001b[0m             \u001b[38;5;241m+\u001b[39m (run_config\u001b[38;5;241m.\u001b[39minput_guardrails \u001b[38;5;129;01mor\u001b[39;00m []),\n\u001b[0;32m    417\u001b[0m             copy\u001b[38;5;241m.\u001b[39mdeepcopy(prepared_input),\n\u001b[0;32m    418\u001b[0m             context_wrapper,\n\u001b[0;32m    419\u001b[0m         ),\n\u001b[0;32m    420\u001b[0m         \u001b[38;5;28mself\u001b[39m\u001b[38;5;241m.\u001b[39m_run_single_turn(\n\u001b[0;32m    421\u001b[0m             agent\u001b[38;5;241m=\u001b[39mcurrent_agent,\n\u001b[0;32m    422\u001b[0m             all_tools\u001b[38;5;241m=\u001b[39mall_tools,\n\u001b[0;32m    423\u001b[0m             original_input\u001b[38;5;241m=\u001b[39moriginal_input,\n\u001b[0;32m    424\u001b[0m             generated_items\u001b[38;5;241m=\u001b[39mgenerated_items,\n\u001b[0;32m    425\u001b[0m             hooks\u001b[38;5;241m=\u001b[39mhooks,\n\u001b[0;32m    426\u001b[0m             context_wrapper\u001b[38;5;241m=\u001b[39mcontext_wrapper,\n\u001b[0;32m    427\u001b[0m             run_config\u001b[38;5;241m=\u001b[39mrun_config,\n\u001b[0;32m    428\u001b[0m             should_run_agent_start_hooks\u001b[38;5;241m=\u001b[39mshould_run_agent_start_hooks,\n\u001b[0;32m    429\u001b[0m             tool_use_tracker\u001b[38;5;241m=\u001b[39mtool_use_tracker,\n\u001b[0;32m    430\u001b[0m             previous_response_id\u001b[38;5;241m=\u001b[39mprevious_response_id,\n\u001b[0;32m    431\u001b[0m         ),\n\u001b[0;32m    432\u001b[0m     )\n\u001b[0;32m    433\u001b[0m \u001b[38;5;28;01melse\u001b[39;00m:\n\u001b[0;32m    434\u001b[0m     turn_result \u001b[38;5;241m=\u001b[39m \u001b[38;5;28;01mawait\u001b[39;00m \u001b[38;5;28mself\u001b[39m\u001b[38;5;241m.\u001b[39m_run_single_turn(\n\u001b[0;32m    435\u001b[0m         agent\u001b[38;5;241m=\u001b[39mcurrent_agent,\n\u001b[0;32m    436\u001b[0m         all_tools\u001b[38;5;241m=\u001b[39mall_tools,\n\u001b[1;32m   (...)\u001b[0m\n\u001b[0;32m    444\u001b[0m         previous_response_id\u001b[38;5;241m=\u001b[39mprevious_response_id,\n\u001b[0;32m    445\u001b[0m     )\n",
      "File \u001b[1;32mc:\\Python313\\Lib\\site-packages\\agents\\run.py:1058\u001b[0m, in \u001b[0;36mAgentRunner._run_input_guardrails\u001b[1;34m(cls, agent, guardrails, input, context)\u001b[0m\n\u001b[0;32m   1051\u001b[0m         t\u001b[38;5;241m.\u001b[39mcancel()\n\u001b[0;32m   1052\u001b[0m     _error_tracing\u001b[38;5;241m.\u001b[39mattach_error_to_current_span(\n\u001b[0;32m   1053\u001b[0m         SpanError(\n\u001b[0;32m   1054\u001b[0m             message\u001b[38;5;241m=\u001b[39m\u001b[38;5;124m\"\u001b[39m\u001b[38;5;124mGuardrail tripwire triggered\u001b[39m\u001b[38;5;124m\"\u001b[39m,\n\u001b[0;32m   1055\u001b[0m             data\u001b[38;5;241m=\u001b[39m{\u001b[38;5;124m\"\u001b[39m\u001b[38;5;124mguardrail\u001b[39m\u001b[38;5;124m\"\u001b[39m: result\u001b[38;5;241m.\u001b[39mguardrail\u001b[38;5;241m.\u001b[39mget_name()},\n\u001b[0;32m   1056\u001b[0m         )\n\u001b[0;32m   1057\u001b[0m     )\n\u001b[1;32m-> 1058\u001b[0m     \u001b[38;5;28;01mraise\u001b[39;00m InputGuardrailTripwireTriggered(result)\n\u001b[0;32m   1059\u001b[0m \u001b[38;5;28;01melse\u001b[39;00m:\n\u001b[0;32m   1060\u001b[0m     guardrail_results\u001b[38;5;241m.\u001b[39mappend(result)\n",
      "\u001b[1;31mInputGuardrailTripwireTriggered\u001b[0m: Guardrail InputGuardrail triggered tripwire"
     ]
    }
   ],
   "source": [
    "careful_sales_manager = Agent(\n",
    "    name=\"Sales Manager\",\n",
    "    instructions=sales_manager_instructions,\n",
    "    tools=tools,\n",
    "    handoffs=[emailer_agent],\n",
    "    model=\"gpt-4o-mini\",\n",
    "    input_guardrails=[guardrail_against_name]\n",
    "    )\n",
    "\n",
    "message = \"Send out a cold sales email addressed to Dear CEO from Alice\"  # will trigger the tripwire \n",
    "\n",
    "with trace(\"Protected Automated SDR\"):\n",
    "    result = await Runner.run(careful_sales_manager, message)"
   ]
  },
  {
   "cell_type": "code",
   "execution_count": 29,
   "id": "415f7770",
   "metadata": {},
   "outputs": [],
   "source": [
    "# won't trigger the tripwire\n",
    "\n",
    "message = \"Send out a cold sales email addressed to Dear CEO from Head of Business Development\"\n",
    "\n",
    "with trace(\"Protected Automated SDR\"):\n",
    "    result = await Runner.run(careful_sales_manager, message)"
   ]
  },
  {
   "cell_type": "markdown",
   "id": "92088701",
   "metadata": {},
   "source": [
    "Check out the trace: https://platform.openai.com/traces"
   ]
  }
 ],
 "metadata": {
  "kernelspec": {
   "display_name": "Python 3",
   "language": "python",
   "name": "python3"
  },
  "language_info": {
   "codemirror_mode": {
    "name": "ipython",
    "version": 3
   },
   "file_extension": ".py",
   "mimetype": "text/x-python",
   "name": "python",
   "nbconvert_exporter": "python",
   "pygments_lexer": "ipython3",
   "version": "3.13.3"
  }
 },
 "nbformat": 4,
 "nbformat_minor": 5
}
