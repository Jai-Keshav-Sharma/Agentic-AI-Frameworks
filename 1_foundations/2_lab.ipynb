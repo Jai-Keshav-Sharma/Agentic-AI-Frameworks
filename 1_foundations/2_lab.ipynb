{
 "cells": [
  {
   "cell_type": "code",
   "execution_count": 2,
   "id": "629a3828",
   "metadata": {},
   "outputs": [],
   "source": [
    "import os\n",
    "import json\n",
    "from dotenv import load_dotenv\n",
    "from openai import OpenAI\n",
    "from IPython.display import Markdown, display"
   ]
  },
  {
   "cell_type": "code",
   "execution_count": 3,
   "id": "60149360",
   "metadata": {},
   "outputs": [
    {
     "data": {
      "text/plain": [
       "True"
      ]
     },
     "execution_count": 3,
     "metadata": {},
     "output_type": "execute_result"
    }
   ],
   "source": [
    "# Always remember to do this\n",
    "load_dotenv(override=True)"
   ]
  },
  {
   "cell_type": "code",
   "execution_count": 4,
   "id": "33b8c506",
   "metadata": {},
   "outputs": [
    {
     "name": "stdout",
     "output_type": "stream",
     "text": [
      "OpenAI API Key present and starts with sk-proj-\n",
      "DeepSeek API Key present and starts with sk-9b42e\n",
      "Groq API Key present and starts with gsk_LGQu\n"
     ]
    }
   ],
   "source": [
    "openai_api_key = os.getenv('OPENAI_API_KEY')\n",
    "deepseek_api_key = os.getenv('DEEPSEEK_API_KEY')\n",
    "groq_api_key = os.getenv('GROQ_API_KEY')\n",
    "\n",
    "if openai_api_key:\n",
    "    print(f\"OpenAI API Key present and starts with {openai_api_key[:8]}\")\n",
    "else:\n",
    "    print(\"OPENAI API KEY not found!\")\n",
    "\n",
    "\n",
    "if deepseek_api_key:\n",
    "    print(f\"DeepSeek API Key present and starts with {deepseek_api_key[:8]}\")\n",
    "else:\n",
    "    print(\"DEEPSEEK API KEY not found!\")\n",
    "\n",
    "\n",
    "if groq_api_key:\n",
    "    print(f\"Groq API Key present and starts with {groq_api_key[:8]}\")\n",
    "else:\n",
    "    print(\"Groq API KEY not found!\")"
   ]
  },
  {
   "cell_type": "code",
   "execution_count": 5,
   "id": "735f6a0b",
   "metadata": {},
   "outputs": [],
   "source": [
    "request = \"Please come up with a challenging, nuanced question that i can ask a number of LLMs to evaluate their intelligence.\"\n",
    "request += \"Answer only with the question, no explanation.\"\n",
    "messages = [{'role': \"user\", 'content': request}]"
   ]
  },
  {
   "cell_type": "code",
   "execution_count": 6,
   "id": "eb9c4d9a",
   "metadata": {},
   "outputs": [
    {
     "name": "stdout",
     "output_type": "stream",
     "text": [
      "[{'role': 'user', 'content': 'Please come up with a challenging, nuanced question that i can ask a number of LLMs to evaluate their intelligence.Answer only with the question, no explanation.'}]\n"
     ]
    }
   ],
   "source": [
    "print(messages)"
   ]
  },
  {
   "cell_type": "code",
   "execution_count": 7,
   "id": "9b5d01b5",
   "metadata": {},
   "outputs": [
    {
     "name": "stdout",
     "output_type": "stream",
     "text": [
      "How would you approach resolving a moral dilemma where the greater good conflicts with individual rights, and what factors would you consider in your decision-making process?\n"
     ]
    }
   ],
   "source": [
    "openai = OpenAI()\n",
    "\n",
    "response = openai.chat.completions.create(\n",
    "    model='gpt-4o-mini',\n",
    "    messages=messages\n",
    ")\n",
    "\n",
    "question = response.choices[0].message.content\n",
    "print(question)"
   ]
  },
  {
   "cell_type": "code",
   "execution_count": 8,
   "id": "532810f1",
   "metadata": {},
   "outputs": [],
   "source": [
    "competitors =[]\n",
    "answers = []\n",
    "messages = [{'role': 'user', 'content': question}]"
   ]
  },
  {
   "cell_type": "code",
   "execution_count": null,
   "id": "f5b2e430",
   "metadata": {},
   "outputs": [
    {
     "data": {
      "text/markdown": [
       "Resolving a moral dilemma where the greater good conflicts with individual rights requires careful consideration of several factors. Here is how I would approach the situation:\n",
       "\n",
       "1. **Define the Conflict**: Clearly outline what the greater good entails and how it conflicts with individual rights. Understanding the specifics of both sides is crucial for a balanced evaluation.\n",
       "\n",
       "2. **Evaluate the Stakes**: Assess the potential consequences for both the individual rights that are at risk and the greater good being proposed. This includes considering the scope of impact (who is affected and how significantly) and the duration of effects (short-term vs. long-term consequences).\n",
       "\n",
       "3. **Consider Ethical Frameworks**: Analyze the situation through various ethical lenses:\n",
       "   - **Utilitarianism**: Does the action maximize overall happiness or benefit for the majority, even at the expense of the individual’s rights?\n",
       "   - **Deontological ethics**: Are there moral duties or rights that should not be compromised, regardless of the consequences?\n",
       "   - **Virtue ethics**: What would a virtuous person (one exhibiting traits like justice, compassion, and integrity) do in this situation?\n",
       "\n",
       "4. **Consult Stakeholders**: Engage with affected parties, including the individual whose rights may be compromised and representatives of the greater good perspective. Understanding their viewpoints can provide valuable insight and foster empathy.\n",
       "\n",
       "5. **Weigh Alternatives**: Identify any potential compromises or alternatives that could achieve a balance between protecting individual rights and contributing to the greater good. This might include partial measures that protect individuals while addressing the needs of the larger group.\n",
       "\n",
       "6. **Reflect on Precedents and Consistency**: Consider previous similar situations and their outcomes. Evaluating how decisions were made in analogous cases can provide guidance and help maintain consistency in moral reasoning.\n",
       "\n",
       "7. **Allow for Emotion and Intuition**: Recognize that moral decisions often invoke strong emotions. Trusting one’s intuition, while still guided by rational analysis, can be vital in navigating complex dilemmas.\n",
       "\n",
       "8. **Seek Counsel**: Sometimes it is beneficial to involve a third party, such as a mediator, ethicist, or trusted advisor, who can provide a different perspective or facilitate discussion to reach a more informed decision.\n",
       "\n",
       "9. **Make the Decision and Reflect**: After thorough deliberation, make a decision that best aligns with your values and ethical considerations, and be prepared to take responsibility for the consequences. Afterward, reflect on the decision and its impacts to learn for future dilemmas.\n",
       "\n",
       "10. **Commit to Justice and Repair**: No matter the outcome, consider how to mitigate harm done to the individual or address any injustices the decision may have caused. This can involve providing support, reparations, or avenues for the individual to voice their concerns.\n",
       "\n",
       "Taking a comprehensive, empathetic, and principled approach can help navigate the complexities of moral dilemmas involving individual rights and the greater good."
      ],
      "text/plain": [
       "<IPython.core.display.Markdown object>"
      ]
     },
     "metadata": {},
     "output_type": "display_data"
    }
   ],
   "source": [
    "# competitor - 1\n",
    "\n",
    "model_name = \"gpt-4o-mini\"\n",
    "\n",
    "response = openai.chat.completions.create(model=model_name, messages=messages)\n",
    "answer = response.choices[0].message.content\n",
    "\n",
    "display(Markdown(answer))\n",
    "competitors.append(model_name)\n",
    "answers.append(answer)"
   ]
  },
  {
   "cell_type": "code",
   "execution_count": 10,
   "id": "7aae965b",
   "metadata": {},
   "outputs": [
    {
     "name": "stdout",
     "output_type": "stream",
     "text": [
      "[{'role': 'user', 'content': 'How would you approach resolving a moral dilemma where the greater good conflicts with individual rights, and what factors would you consider in your decision-making process?'}]\n",
      "['Resolving a moral dilemma where the greater good conflicts with individual rights requires careful consideration of several factors. Here is how I would approach the situation:\\n\\n1. **Define the Conflict**: Clearly outline what the greater good entails and how it conflicts with individual rights. Understanding the specifics of both sides is crucial for a balanced evaluation.\\n\\n2. **Evaluate the Stakes**: Assess the potential consequences for both the individual rights that are at risk and the greater good being proposed. This includes considering the scope of impact (who is affected and how significantly) and the duration of effects (short-term vs. long-term consequences).\\n\\n3. **Consider Ethical Frameworks**: Analyze the situation through various ethical lenses:\\n   - **Utilitarianism**: Does the action maximize overall happiness or benefit for the majority, even at the expense of the individual’s rights?\\n   - **Deontological ethics**: Are there moral duties or rights that should not be compromised, regardless of the consequences?\\n   - **Virtue ethics**: What would a virtuous person (one exhibiting traits like justice, compassion, and integrity) do in this situation?\\n\\n4. **Consult Stakeholders**: Engage with affected parties, including the individual whose rights may be compromised and representatives of the greater good perspective. Understanding their viewpoints can provide valuable insight and foster empathy.\\n\\n5. **Weigh Alternatives**: Identify any potential compromises or alternatives that could achieve a balance between protecting individual rights and contributing to the greater good. This might include partial measures that protect individuals while addressing the needs of the larger group.\\n\\n6. **Reflect on Precedents and Consistency**: Consider previous similar situations and their outcomes. Evaluating how decisions were made in analogous cases can provide guidance and help maintain consistency in moral reasoning.\\n\\n7. **Allow for Emotion and Intuition**: Recognize that moral decisions often invoke strong emotions. Trusting one’s intuition, while still guided by rational analysis, can be vital in navigating complex dilemmas.\\n\\n8. **Seek Counsel**: Sometimes it is beneficial to involve a third party, such as a mediator, ethicist, or trusted advisor, who can provide a different perspective or facilitate discussion to reach a more informed decision.\\n\\n9. **Make the Decision and Reflect**: After thorough deliberation, make a decision that best aligns with your values and ethical considerations, and be prepared to take responsibility for the consequences. Afterward, reflect on the decision and its impacts to learn for future dilemmas.\\n\\n10. **Commit to Justice and Repair**: No matter the outcome, consider how to mitigate harm done to the individual or address any injustices the decision may have caused. This can involve providing support, reparations, or avenues for the individual to voice their concerns.\\n\\nTaking a comprehensive, empathetic, and principled approach can help navigate the complexities of moral dilemmas involving individual rights and the greater good.']\n"
     ]
    }
   ],
   "source": [
    "print(messages)\n",
    "print(answers)"
   ]
  },
  {
   "cell_type": "code",
   "execution_count": null,
   "id": "33bce0bf",
   "metadata": {},
   "outputs": [
    {
     "data": {
      "text/markdown": [
       "Resolving a moral dilemma where the greater good conflicts with individual rights requires a thoughtful and multi-step approach. Here's a framework to consider:\n",
       "\n",
       "1. **Define the dilemma**: Clearly articulate the conflict between the greater good and individual rights. Identify the key stakeholders, their interests, and the potential consequences of different actions.\n",
       "2. **Gather information**: Collect relevant data, facts, and perspectives to understand the situation. Consider the short-term and long-term effects of different decisions.\n",
       "3. **Evaluate the moral principles**: Identify the moral principles at stake, such as autonomy, justice, beneficence, non-maleficence, and respect for persons. Consider how these principles apply to the situation and which ones may be in conflict.\n",
       "4. **Consider the consequences**: Weigh the potential consequences of different actions on both the individual and the greater good. Think about the potential harm or benefit to each party and the potential long-term effects.\n",
       "5. **Apply ethical theories**: Draw on ethical theories, such as utilitarianism, deontology, or virtue ethics, to guide your decision-making. Consider the moral rules, duties, and virtues that apply to the situation.\n",
       "6. **Respect individual rights**: Recognize the importance of individual rights and autonomy. Consider whether the individual's rights can be protected or compromised in a way that still achieves the greater good.\n",
       "7. **Consider alternative solutions**: Explore alternative solutions that balance individual rights with the greater good. Look for creative solutions that minimize harm and maximize benefits.\n",
       "8. **Seek diverse perspectives**: Consult with stakeholders, experts, and individuals with different perspectives to gain a more comprehensive understanding of the situation.\n",
       "9. **Reflect on personal values**: Consider your own values and biases and how they may influence your decision. Be aware of your own moral compass and how it may impact your judgment.\n",
       "10. **Make a decision**: Based on your analysis, make a decision that balances individual rights with the greater good. Be prepared to justify your decision and consider the potential consequences.\n",
       "\n",
       "Factors to consider in the decision-making process:\n",
       "\n",
       "1. **Proportionality**: Is the potential benefit to the greater good proportionate to the potential harm to the individual?\n",
       "2. **Necessity**: Is the action necessary to achieve the greater good, or are there alternative solutions that can achieve the same goal with less harm to the individual?\n",
       "3. **Minimizing harm**: Can the harm to the individual be minimized or mitigated in some way?\n",
       "4. **Respect for autonomy**: Can the individual's autonomy be respected and protected in the decision-making process?\n",
       "5. **Distributive justice**: How will the benefits and burdens be distributed among different stakeholders?\n",
       "6. **Long-term consequences**: What are the potential long-term consequences of the decision, and how may they impact the individual and the greater good?\n",
       "7. **Moral rules and duties**: Are there any moral rules or duties that apply to the situation, such as a duty to protect vulnerable individuals or a duty to promote the greater good?\n",
       "8. **Cultural and social context**: How may cultural and social factors influence the decision and the potential consequences?\n",
       "9. **Power dynamics**: How may power imbalances between stakeholders impact the decision and the potential consequences?\n",
       "10. **Accountability**: How will the decision be held accountable, and what mechanisms will be in place to ensure that the decision is fair and just?\n",
       "\n",
       "By considering these factors and following a structured decision-making process, you can make a more informed and balanced decision that takes into account both the greater good and individual rights."
      ],
      "text/plain": [
       "<IPython.core.display.Markdown object>"
      ]
     },
     "metadata": {},
     "output_type": "display_data"
    }
   ],
   "source": [
    "# competitor - 2\n",
    "\n",
    "model_name = \"llama-3.3-70b-versatile\"\n",
    "\n",
    "groq = OpenAI(api_key=groq_api_key, base_url=\"https://api.groq.com/openai/v1\")\n",
    "response = groq.chat.completions.create(model=model_name, messages = messages)\n",
    "answer = response.choices[0].message.content\n",
    "\n",
    "display(Markdown(answer))\n",
    "competitors.append(model_name)\n",
    "answers.append(answer)"
   ]
  },
  {
   "cell_type": "code",
   "execution_count": 14,
   "id": "e4b15d29",
   "metadata": {},
   "outputs": [
    {
     "name": "stdout",
     "output_type": "stream",
     "text": [
      "['gpt-4o-mini', 'llama-3.3-70b-versatile']\n",
      "['Resolving a moral dilemma where the greater good conflicts with individual rights requires careful consideration of several factors. Here is how I would approach the situation:\\n\\n1. **Define the Conflict**: Clearly outline what the greater good entails and how it conflicts with individual rights. Understanding the specifics of both sides is crucial for a balanced evaluation.\\n\\n2. **Evaluate the Stakes**: Assess the potential consequences for both the individual rights that are at risk and the greater good being proposed. This includes considering the scope of impact (who is affected and how significantly) and the duration of effects (short-term vs. long-term consequences).\\n\\n3. **Consider Ethical Frameworks**: Analyze the situation through various ethical lenses:\\n   - **Utilitarianism**: Does the action maximize overall happiness or benefit for the majority, even at the expense of the individual’s rights?\\n   - **Deontological ethics**: Are there moral duties or rights that should not be compromised, regardless of the consequences?\\n   - **Virtue ethics**: What would a virtuous person (one exhibiting traits like justice, compassion, and integrity) do in this situation?\\n\\n4. **Consult Stakeholders**: Engage with affected parties, including the individual whose rights may be compromised and representatives of the greater good perspective. Understanding their viewpoints can provide valuable insight and foster empathy.\\n\\n5. **Weigh Alternatives**: Identify any potential compromises or alternatives that could achieve a balance between protecting individual rights and contributing to the greater good. This might include partial measures that protect individuals while addressing the needs of the larger group.\\n\\n6. **Reflect on Precedents and Consistency**: Consider previous similar situations and their outcomes. Evaluating how decisions were made in analogous cases can provide guidance and help maintain consistency in moral reasoning.\\n\\n7. **Allow for Emotion and Intuition**: Recognize that moral decisions often invoke strong emotions. Trusting one’s intuition, while still guided by rational analysis, can be vital in navigating complex dilemmas.\\n\\n8. **Seek Counsel**: Sometimes it is beneficial to involve a third party, such as a mediator, ethicist, or trusted advisor, who can provide a different perspective or facilitate discussion to reach a more informed decision.\\n\\n9. **Make the Decision and Reflect**: After thorough deliberation, make a decision that best aligns with your values and ethical considerations, and be prepared to take responsibility for the consequences. Afterward, reflect on the decision and its impacts to learn for future dilemmas.\\n\\n10. **Commit to Justice and Repair**: No matter the outcome, consider how to mitigate harm done to the individual or address any injustices the decision may have caused. This can involve providing support, reparations, or avenues for the individual to voice their concerns.\\n\\nTaking a comprehensive, empathetic, and principled approach can help navigate the complexities of moral dilemmas involving individual rights and the greater good.', \"Resolving a moral dilemma where the greater good conflicts with individual rights requires a thoughtful and multi-step approach. Here's a framework to consider:\\n\\n1. **Define the dilemma**: Clearly articulate the conflict between the greater good and individual rights. Identify the key stakeholders, their interests, and the potential consequences of different actions.\\n2. **Gather information**: Collect relevant data, facts, and perspectives to understand the situation. Consider the short-term and long-term effects of different decisions.\\n3. **Evaluate the moral principles**: Identify the moral principles at stake, such as autonomy, justice, beneficence, non-maleficence, and respect for persons. Consider how these principles apply to the situation and which ones may be in conflict.\\n4. **Consider the consequences**: Weigh the potential consequences of different actions on both the individual and the greater good. Think about the potential harm or benefit to each party and the potential long-term effects.\\n5. **Apply ethical theories**: Draw on ethical theories, such as utilitarianism, deontology, or virtue ethics, to guide your decision-making. Consider the moral rules, duties, and virtues that apply to the situation.\\n6. **Respect individual rights**: Recognize the importance of individual rights and autonomy. Consider whether the individual's rights can be protected or compromised in a way that still achieves the greater good.\\n7. **Consider alternative solutions**: Explore alternative solutions that balance individual rights with the greater good. Look for creative solutions that minimize harm and maximize benefits.\\n8. **Seek diverse perspectives**: Consult with stakeholders, experts, and individuals with different perspectives to gain a more comprehensive understanding of the situation.\\n9. **Reflect on personal values**: Consider your own values and biases and how they may influence your decision. Be aware of your own moral compass and how it may impact your judgment.\\n10. **Make a decision**: Based on your analysis, make a decision that balances individual rights with the greater good. Be prepared to justify your decision and consider the potential consequences.\\n\\nFactors to consider in the decision-making process:\\n\\n1. **Proportionality**: Is the potential benefit to the greater good proportionate to the potential harm to the individual?\\n2. **Necessity**: Is the action necessary to achieve the greater good, or are there alternative solutions that can achieve the same goal with less harm to the individual?\\n3. **Minimizing harm**: Can the harm to the individual be minimized or mitigated in some way?\\n4. **Respect for autonomy**: Can the individual's autonomy be respected and protected in the decision-making process?\\n5. **Distributive justice**: How will the benefits and burdens be distributed among different stakeholders?\\n6. **Long-term consequences**: What are the potential long-term consequences of the decision, and how may they impact the individual and the greater good?\\n7. **Moral rules and duties**: Are there any moral rules or duties that apply to the situation, such as a duty to protect vulnerable individuals or a duty to promote the greater good?\\n8. **Cultural and social context**: How may cultural and social factors influence the decision and the potential consequences?\\n9. **Power dynamics**: How may power imbalances between stakeholders impact the decision and the potential consequences?\\n10. **Accountability**: How will the decision be held accountable, and what mechanisms will be in place to ensure that the decision is fair and just?\\n\\nBy considering these factors and following a structured decision-making process, you can make a more informed and balanced decision that takes into account both the greater good and individual rights.\"]\n"
     ]
    }
   ],
   "source": [
    "print(competitors)\n",
    "print(answers)"
   ]
  },
  {
   "cell_type": "code",
   "execution_count": 16,
   "id": "35cc9919",
   "metadata": {},
   "outputs": [
    {
     "name": "stdout",
     "output_type": "stream",
     "text": [
      "Competitor: gpt-4o-mini\n",
      "\n",
      "Resolving a moral dilemma where the greater good conflicts with individual rights requires careful consideration of several factors. Here is how I would approach the situation:\n",
      "\n",
      "1. **Define the Conflict**: Clearly outline what the greater good entails and how it conflicts with individual rights. Understanding the specifics of both sides is crucial for a balanced evaluation.\n",
      "\n",
      "2. **Evaluate the Stakes**: Assess the potential consequences for both the individual rights that are at risk and the greater good being proposed. This includes considering the scope of impact (who is affected and how significantly) and the duration of effects (short-term vs. long-term consequences).\n",
      "\n",
      "3. **Consider Ethical Frameworks**: Analyze the situation through various ethical lenses:\n",
      "   - **Utilitarianism**: Does the action maximize overall happiness or benefit for the majority, even at the expense of the individual’s rights?\n",
      "   - **Deontological ethics**: Are there moral duties or rights that should not be compromised, regardless of the consequences?\n",
      "   - **Virtue ethics**: What would a virtuous person (one exhibiting traits like justice, compassion, and integrity) do in this situation?\n",
      "\n",
      "4. **Consult Stakeholders**: Engage with affected parties, including the individual whose rights may be compromised and representatives of the greater good perspective. Understanding their viewpoints can provide valuable insight and foster empathy.\n",
      "\n",
      "5. **Weigh Alternatives**: Identify any potential compromises or alternatives that could achieve a balance between protecting individual rights and contributing to the greater good. This might include partial measures that protect individuals while addressing the needs of the larger group.\n",
      "\n",
      "6. **Reflect on Precedents and Consistency**: Consider previous similar situations and their outcomes. Evaluating how decisions were made in analogous cases can provide guidance and help maintain consistency in moral reasoning.\n",
      "\n",
      "7. **Allow for Emotion and Intuition**: Recognize that moral decisions often invoke strong emotions. Trusting one’s intuition, while still guided by rational analysis, can be vital in navigating complex dilemmas.\n",
      "\n",
      "8. **Seek Counsel**: Sometimes it is beneficial to involve a third party, such as a mediator, ethicist, or trusted advisor, who can provide a different perspective or facilitate discussion to reach a more informed decision.\n",
      "\n",
      "9. **Make the Decision and Reflect**: After thorough deliberation, make a decision that best aligns with your values and ethical considerations, and be prepared to take responsibility for the consequences. Afterward, reflect on the decision and its impacts to learn for future dilemmas.\n",
      "\n",
      "10. **Commit to Justice and Repair**: No matter the outcome, consider how to mitigate harm done to the individual or address any injustices the decision may have caused. This can involve providing support, reparations, or avenues for the individual to voice their concerns.\n",
      "\n",
      "Taking a comprehensive, empathetic, and principled approach can help navigate the complexities of moral dilemmas involving individual rights and the greater good.\n",
      "\n",
      "Competitor: llama-3.3-70b-versatile\n",
      "\n",
      "Resolving a moral dilemma where the greater good conflicts with individual rights requires a thoughtful and multi-step approach. Here's a framework to consider:\n",
      "\n",
      "1. **Define the dilemma**: Clearly articulate the conflict between the greater good and individual rights. Identify the key stakeholders, their interests, and the potential consequences of different actions.\n",
      "2. **Gather information**: Collect relevant data, facts, and perspectives to understand the situation. Consider the short-term and long-term effects of different decisions.\n",
      "3. **Evaluate the moral principles**: Identify the moral principles at stake, such as autonomy, justice, beneficence, non-maleficence, and respect for persons. Consider how these principles apply to the situation and which ones may be in conflict.\n",
      "4. **Consider the consequences**: Weigh the potential consequences of different actions on both the individual and the greater good. Think about the potential harm or benefit to each party and the potential long-term effects.\n",
      "5. **Apply ethical theories**: Draw on ethical theories, such as utilitarianism, deontology, or virtue ethics, to guide your decision-making. Consider the moral rules, duties, and virtues that apply to the situation.\n",
      "6. **Respect individual rights**: Recognize the importance of individual rights and autonomy. Consider whether the individual's rights can be protected or compromised in a way that still achieves the greater good.\n",
      "7. **Consider alternative solutions**: Explore alternative solutions that balance individual rights with the greater good. Look for creative solutions that minimize harm and maximize benefits.\n",
      "8. **Seek diverse perspectives**: Consult with stakeholders, experts, and individuals with different perspectives to gain a more comprehensive understanding of the situation.\n",
      "9. **Reflect on personal values**: Consider your own values and biases and how they may influence your decision. Be aware of your own moral compass and how it may impact your judgment.\n",
      "10. **Make a decision**: Based on your analysis, make a decision that balances individual rights with the greater good. Be prepared to justify your decision and consider the potential consequences.\n",
      "\n",
      "Factors to consider in the decision-making process:\n",
      "\n",
      "1. **Proportionality**: Is the potential benefit to the greater good proportionate to the potential harm to the individual?\n",
      "2. **Necessity**: Is the action necessary to achieve the greater good, or are there alternative solutions that can achieve the same goal with less harm to the individual?\n",
      "3. **Minimizing harm**: Can the harm to the individual be minimized or mitigated in some way?\n",
      "4. **Respect for autonomy**: Can the individual's autonomy be respected and protected in the decision-making process?\n",
      "5. **Distributive justice**: How will the benefits and burdens be distributed among different stakeholders?\n",
      "6. **Long-term consequences**: What are the potential long-term consequences of the decision, and how may they impact the individual and the greater good?\n",
      "7. **Moral rules and duties**: Are there any moral rules or duties that apply to the situation, such as a duty to protect vulnerable individuals or a duty to promote the greater good?\n",
      "8. **Cultural and social context**: How may cultural and social factors influence the decision and the potential consequences?\n",
      "9. **Power dynamics**: How may power imbalances between stakeholders impact the decision and the potential consequences?\n",
      "10. **Accountability**: How will the decision be held accountable, and what mechanisms will be in place to ensure that the decision is fair and just?\n",
      "\n",
      "By considering these factors and following a structured decision-making process, you can make a more informed and balanced decision that takes into account both the greater good and individual rights.\n",
      "\n"
     ]
    }
   ],
   "source": [
    "for competitor, answer in zip(competitors, answers):\n",
    "    print(f\"Competitor: {competitor}\\n\\n{answer}\\n\")"
   ]
  },
  {
   "cell_type": "code",
   "execution_count": null,
   "id": "08a29258",
   "metadata": {},
   "outputs": [],
   "source": [
    "# Binding together the competitors and their responses\n",
    "\n",
    "together = \"\"\n",
    "for index, answer in enumerate(answers):\n",
    "    together += f\"# Response from Competitor {index + 1}\\n\\n\"\n",
    "    together += answer + \"\\n\\n\""
   ]
  },
  {
   "cell_type": "code",
   "execution_count": 22,
   "id": "c73b042e",
   "metadata": {},
   "outputs": [
    {
     "name": "stdout",
     "output_type": "stream",
     "text": [
      "Response from Competitor 1\n",
      "\n",
      "Resolving a moral dilemma where the greater good conflicts with individual rights requires careful consideration of several factors. Here is how I would approach the situation:\n",
      "\n",
      "1. **Define the Conflict**: Clearly outline what the greater good entails and how it conflicts with individual rights. Understanding the specifics of both sides is crucial for a balanced evaluation.\n",
      "\n",
      "2. **Evaluate the Stakes**: Assess the potential consequences for both the individual rights that are at risk and the greater good being proposed. This includes considering the scope of impact (who is affected and how significantly) and the duration of effects (short-term vs. long-term consequences).\n",
      "\n",
      "3. **Consider Ethical Frameworks**: Analyze the situation through various ethical lenses:\n",
      "   - **Utilitarianism**: Does the action maximize overall happiness or benefit for the majority, even at the expense of the individual’s rights?\n",
      "   - **Deontological ethics**: Are there moral duties or rights that should not be compromised, regardless of the consequences?\n",
      "   - **Virtue ethics**: What would a virtuous person (one exhibiting traits like justice, compassion, and integrity) do in this situation?\n",
      "\n",
      "4. **Consult Stakeholders**: Engage with affected parties, including the individual whose rights may be compromised and representatives of the greater good perspective. Understanding their viewpoints can provide valuable insight and foster empathy.\n",
      "\n",
      "5. **Weigh Alternatives**: Identify any potential compromises or alternatives that could achieve a balance between protecting individual rights and contributing to the greater good. This might include partial measures that protect individuals while addressing the needs of the larger group.\n",
      "\n",
      "6. **Reflect on Precedents and Consistency**: Consider previous similar situations and their outcomes. Evaluating how decisions were made in analogous cases can provide guidance and help maintain consistency in moral reasoning.\n",
      "\n",
      "7. **Allow for Emotion and Intuition**: Recognize that moral decisions often invoke strong emotions. Trusting one’s intuition, while still guided by rational analysis, can be vital in navigating complex dilemmas.\n",
      "\n",
      "8. **Seek Counsel**: Sometimes it is beneficial to involve a third party, such as a mediator, ethicist, or trusted advisor, who can provide a different perspective or facilitate discussion to reach a more informed decision.\n",
      "\n",
      "9. **Make the Decision and Reflect**: After thorough deliberation, make a decision that best aligns with your values and ethical considerations, and be prepared to take responsibility for the consequences. Afterward, reflect on the decision and its impacts to learn for future dilemmas.\n",
      "\n",
      "10. **Commit to Justice and Repair**: No matter the outcome, consider how to mitigate harm done to the individual or address any injustices the decision may have caused. This can involve providing support, reparations, or avenues for the individual to voice their concerns.\n",
      "\n",
      "Taking a comprehensive, empathetic, and principled approach can help navigate the complexities of moral dilemmas involving individual rights and the greater good.\n",
      "\n",
      "Response from Competitor 2\n",
      "\n",
      "Resolving a moral dilemma where the greater good conflicts with individual rights requires a thoughtful and multi-step approach. Here's a framework to consider:\n",
      "\n",
      "1. **Define the dilemma**: Clearly articulate the conflict between the greater good and individual rights. Identify the key stakeholders, their interests, and the potential consequences of different actions.\n",
      "2. **Gather information**: Collect relevant data, facts, and perspectives to understand the situation. Consider the short-term and long-term effects of different decisions.\n",
      "3. **Evaluate the moral principles**: Identify the moral principles at stake, such as autonomy, justice, beneficence, non-maleficence, and respect for persons. Consider how these principles apply to the situation and which ones may be in conflict.\n",
      "4. **Consider the consequences**: Weigh the potential consequences of different actions on both the individual and the greater good. Think about the potential harm or benefit to each party and the potential long-term effects.\n",
      "5. **Apply ethical theories**: Draw on ethical theories, such as utilitarianism, deontology, or virtue ethics, to guide your decision-making. Consider the moral rules, duties, and virtues that apply to the situation.\n",
      "6. **Respect individual rights**: Recognize the importance of individual rights and autonomy. Consider whether the individual's rights can be protected or compromised in a way that still achieves the greater good.\n",
      "7. **Consider alternative solutions**: Explore alternative solutions that balance individual rights with the greater good. Look for creative solutions that minimize harm and maximize benefits.\n",
      "8. **Seek diverse perspectives**: Consult with stakeholders, experts, and individuals with different perspectives to gain a more comprehensive understanding of the situation.\n",
      "9. **Reflect on personal values**: Consider your own values and biases and how they may influence your decision. Be aware of your own moral compass and how it may impact your judgment.\n",
      "10. **Make a decision**: Based on your analysis, make a decision that balances individual rights with the greater good. Be prepared to justify your decision and consider the potential consequences.\n",
      "\n",
      "Factors to consider in the decision-making process:\n",
      "\n",
      "1. **Proportionality**: Is the potential benefit to the greater good proportionate to the potential harm to the individual?\n",
      "2. **Necessity**: Is the action necessary to achieve the greater good, or are there alternative solutions that can achieve the same goal with less harm to the individual?\n",
      "3. **Minimizing harm**: Can the harm to the individual be minimized or mitigated in some way?\n",
      "4. **Respect for autonomy**: Can the individual's autonomy be respected and protected in the decision-making process?\n",
      "5. **Distributive justice**: How will the benefits and burdens be distributed among different stakeholders?\n",
      "6. **Long-term consequences**: What are the potential long-term consequences of the decision, and how may they impact the individual and the greater good?\n",
      "7. **Moral rules and duties**: Are there any moral rules or duties that apply to the situation, such as a duty to protect vulnerable individuals or a duty to promote the greater good?\n",
      "8. **Cultural and social context**: How may cultural and social factors influence the decision and the potential consequences?\n",
      "9. **Power dynamics**: How may power imbalances between stakeholders impact the decision and the potential consequences?\n",
      "10. **Accountability**: How will the decision be held accountable, and what mechanisms will be in place to ensure that the decision is fair and just?\n",
      "\n",
      "By considering these factors and following a structured decision-making process, you can make a more informed and balanced decision that takes into account both the greater good and individual rights.\n",
      "\n",
      "\n"
     ]
    }
   ],
   "source": [
    "print(together)"
   ]
  },
  {
   "cell_type": "code",
   "execution_count": null,
   "id": "f319c0c5",
   "metadata": {},
   "outputs": [],
   "source": [
    "# to judge the competitors\n",
    "\n",
    "judge = f\"\"\"\n",
    "You are judging a competition between {len(competitors)} competitors.\n",
    "Each model has been given this question:\n",
    "\n",
    "{question}\n",
    "\n",
    "Your job is to evaluate each response for the clarity and strength of argument, and rank them in order of best to worst.\n",
    "Respons with JSON, and only JSON, with the following format:\n",
    "{{'results': [\"first best competitor number\", \"second best competitor number\", \"third best conpetitor number\", ...]}}\n",
    "\n",
    "Here are the responses from each competitor:\n",
    "\n",
    "{together}\n",
    "\n",
    "You respond with JSON with the ranked order of competitors, NOTHING ELSE. Do not include Markdown formatting and code blocks.\n",
    "\"\"\""
   ]
  },
  {
   "cell_type": "code",
   "execution_count": 30,
   "id": "eb3ac7c2",
   "metadata": {},
   "outputs": [
    {
     "name": "stdout",
     "output_type": "stream",
     "text": [
      "\n",
      "You are judging a competition between 2 competitors.\n",
      "Each model has been given this question:\n",
      "\n",
      "How would you approach resolving a moral dilemma where the greater good conflicts with individual rights, and what factors would you consider in your decision-making process?\n",
      "\n",
      "Your job is to evaluate each response for the clarity and strength of argument, and rank them in order of best to worst.\n",
      "Respons with JSON, and only JSON, with the following format:\n",
      "{'results': [\"first best competitor number\", \"second best competitor number\", \"third best conpetitor number\", ...]}\n",
      "\n",
      "Here are the responses from each competitor:\n",
      "\n",
      "Response from Competitor 1\n",
      "\n",
      "Resolving a moral dilemma where the greater good conflicts with individual rights requires careful consideration of several factors. Here is how I would approach the situation:\n",
      "\n",
      "1. **Define the Conflict**: Clearly outline what the greater good entails and how it conflicts with individual rights. Understanding the specifics of both sides is crucial for a balanced evaluation.\n",
      "\n",
      "2. **Evaluate the Stakes**: Assess the potential consequences for both the individual rights that are at risk and the greater good being proposed. This includes considering the scope of impact (who is affected and how significantly) and the duration of effects (short-term vs. long-term consequences).\n",
      "\n",
      "3. **Consider Ethical Frameworks**: Analyze the situation through various ethical lenses:\n",
      "   - **Utilitarianism**: Does the action maximize overall happiness or benefit for the majority, even at the expense of the individual’s rights?\n",
      "   - **Deontological ethics**: Are there moral duties or rights that should not be compromised, regardless of the consequences?\n",
      "   - **Virtue ethics**: What would a virtuous person (one exhibiting traits like justice, compassion, and integrity) do in this situation?\n",
      "\n",
      "4. **Consult Stakeholders**: Engage with affected parties, including the individual whose rights may be compromised and representatives of the greater good perspective. Understanding their viewpoints can provide valuable insight and foster empathy.\n",
      "\n",
      "5. **Weigh Alternatives**: Identify any potential compromises or alternatives that could achieve a balance between protecting individual rights and contributing to the greater good. This might include partial measures that protect individuals while addressing the needs of the larger group.\n",
      "\n",
      "6. **Reflect on Precedents and Consistency**: Consider previous similar situations and their outcomes. Evaluating how decisions were made in analogous cases can provide guidance and help maintain consistency in moral reasoning.\n",
      "\n",
      "7. **Allow for Emotion and Intuition**: Recognize that moral decisions often invoke strong emotions. Trusting one’s intuition, while still guided by rational analysis, can be vital in navigating complex dilemmas.\n",
      "\n",
      "8. **Seek Counsel**: Sometimes it is beneficial to involve a third party, such as a mediator, ethicist, or trusted advisor, who can provide a different perspective or facilitate discussion to reach a more informed decision.\n",
      "\n",
      "9. **Make the Decision and Reflect**: After thorough deliberation, make a decision that best aligns with your values and ethical considerations, and be prepared to take responsibility for the consequences. Afterward, reflect on the decision and its impacts to learn for future dilemmas.\n",
      "\n",
      "10. **Commit to Justice and Repair**: No matter the outcome, consider how to mitigate harm done to the individual or address any injustices the decision may have caused. This can involve providing support, reparations, or avenues for the individual to voice their concerns.\n",
      "\n",
      "Taking a comprehensive, empathetic, and principled approach can help navigate the complexities of moral dilemmas involving individual rights and the greater good.\n",
      "\n",
      "Response from Competitor 2\n",
      "\n",
      "Resolving a moral dilemma where the greater good conflicts with individual rights requires a thoughtful and multi-step approach. Here's a framework to consider:\n",
      "\n",
      "1. **Define the dilemma**: Clearly articulate the conflict between the greater good and individual rights. Identify the key stakeholders, their interests, and the potential consequences of different actions.\n",
      "2. **Gather information**: Collect relevant data, facts, and perspectives to understand the situation. Consider the short-term and long-term effects of different decisions.\n",
      "3. **Evaluate the moral principles**: Identify the moral principles at stake, such as autonomy, justice, beneficence, non-maleficence, and respect for persons. Consider how these principles apply to the situation and which ones may be in conflict.\n",
      "4. **Consider the consequences**: Weigh the potential consequences of different actions on both the individual and the greater good. Think about the potential harm or benefit to each party and the potential long-term effects.\n",
      "5. **Apply ethical theories**: Draw on ethical theories, such as utilitarianism, deontology, or virtue ethics, to guide your decision-making. Consider the moral rules, duties, and virtues that apply to the situation.\n",
      "6. **Respect individual rights**: Recognize the importance of individual rights and autonomy. Consider whether the individual's rights can be protected or compromised in a way that still achieves the greater good.\n",
      "7. **Consider alternative solutions**: Explore alternative solutions that balance individual rights with the greater good. Look for creative solutions that minimize harm and maximize benefits.\n",
      "8. **Seek diverse perspectives**: Consult with stakeholders, experts, and individuals with different perspectives to gain a more comprehensive understanding of the situation.\n",
      "9. **Reflect on personal values**: Consider your own values and biases and how they may influence your decision. Be aware of your own moral compass and how it may impact your judgment.\n",
      "10. **Make a decision**: Based on your analysis, make a decision that balances individual rights with the greater good. Be prepared to justify your decision and consider the potential consequences.\n",
      "\n",
      "Factors to consider in the decision-making process:\n",
      "\n",
      "1. **Proportionality**: Is the potential benefit to the greater good proportionate to the potential harm to the individual?\n",
      "2. **Necessity**: Is the action necessary to achieve the greater good, or are there alternative solutions that can achieve the same goal with less harm to the individual?\n",
      "3. **Minimizing harm**: Can the harm to the individual be minimized or mitigated in some way?\n",
      "4. **Respect for autonomy**: Can the individual's autonomy be respected and protected in the decision-making process?\n",
      "5. **Distributive justice**: How will the benefits and burdens be distributed among different stakeholders?\n",
      "6. **Long-term consequences**: What are the potential long-term consequences of the decision, and how may they impact the individual and the greater good?\n",
      "7. **Moral rules and duties**: Are there any moral rules or duties that apply to the situation, such as a duty to protect vulnerable individuals or a duty to promote the greater good?\n",
      "8. **Cultural and social context**: How may cultural and social factors influence the decision and the potential consequences?\n",
      "9. **Power dynamics**: How may power imbalances between stakeholders impact the decision and the potential consequences?\n",
      "10. **Accountability**: How will the decision be held accountable, and what mechanisms will be in place to ensure that the decision is fair and just?\n",
      "\n",
      "By considering these factors and following a structured decision-making process, you can make a more informed and balanced decision that takes into account both the greater good and individual rights.\n",
      "\n",
      "\n",
      "\n",
      "You respond with JSON with the ranked order of competitors, NOTHING ELSE. Do not include Markdown formatting and code blocks.\n",
      "\n"
     ]
    }
   ],
   "source": [
    "print(judge)"
   ]
  },
  {
   "cell_type": "code",
   "execution_count": 31,
   "id": "b1772c59",
   "metadata": {},
   "outputs": [],
   "source": [
    "judge_messages = [{'role': 'user', 'content': judge}]"
   ]
  },
  {
   "cell_type": "code",
   "execution_count": 34,
   "id": "74377c96",
   "metadata": {},
   "outputs": [
    {
     "name": "stdout",
     "output_type": "stream",
     "text": [
      "{\"results\": [\"1\", \"2\"]}\n"
     ]
    }
   ],
   "source": [
    "openai = OpenAI()\n",
    "\n",
    "response = openai.chat.completions.create(\n",
    "    model = 'o3-mini',\n",
    "    messages = judge_messages\n",
    ")\n",
    "\n",
    "results = response.choices[0].message.content\n",
    "print(results)"
   ]
  },
  {
   "cell_type": "code",
   "execution_count": null,
   "id": "3b6f8f38",
   "metadata": {},
   "outputs": [
    {
     "name": "stdout",
     "output_type": "stream",
     "text": [
      "Rank 1: gpt-4o-mini\n",
      "Rank 2: llama-3.3-70b-versatile\n"
     ]
    }
   ],
   "source": [
    "# Results\n",
    "\n",
    "results_dict = json.loads(results)     # Parses a JSON string and converts it into a Python dictionary.   {'results': ['1', '3', '2']}\n",
    "ranks = results_dict[\"results\"]        # Retrieves the list of ranked competitor numbers from the dictionary.\n",
    "for index, result in enumerate(ranks): \n",
    "    competitor = competitors[int(result) - 1]\n",
    "    print(f\"Rank {index + 1}: {competitor}\")\n"
   ]
  },
  {
   "cell_type": "markdown",
   "id": "86a8754b",
   "metadata": {},
   "source": [
    "### Commercial Implications\n",
    "---\n",
    "These kinds of patterns - to send a task to multiple models, and evaluate results, are common where u need to improve the quality of your LLM Response. This approach can be universally applied to business projects wher accuracy is critical."
   ]
  }
 ],
 "metadata": {
  "kernelspec": {
   "display_name": "Python 3",
   "language": "python",
   "name": "python3"
  },
  "language_info": {
   "codemirror_mode": {
    "name": "ipython",
    "version": 3
   },
   "file_extension": ".py",
   "mimetype": "text/x-python",
   "name": "python",
   "nbconvert_exporter": "python",
   "pygments_lexer": "ipython3",
   "version": "3.13.3"
  }
 },
 "nbformat": 4,
 "nbformat_minor": 5
}
