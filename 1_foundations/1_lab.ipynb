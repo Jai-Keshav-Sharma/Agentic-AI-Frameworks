{
 "cells": [
  {
   "cell_type": "code",
   "execution_count": 1,
   "id": "fdaa998b",
   "metadata": {},
   "outputs": [],
   "source": [
    "from dotenv import load_dotenv"
   ]
  },
  {
   "cell_type": "code",
   "execution_count": 2,
   "id": "ac569ecd",
   "metadata": {},
   "outputs": [
    {
     "data": {
      "text/plain": [
       "True"
      ]
     },
     "execution_count": 2,
     "metadata": {},
     "output_type": "execute_result"
    }
   ],
   "source": [
    "load_dotenv(override = True)"
   ]
  },
  {
   "cell_type": "code",
   "execution_count": 3,
   "id": "1c9d25f2",
   "metadata": {},
   "outputs": [
    {
     "name": "stdout",
     "output_type": "stream",
     "text": [
      "OpenAI API exists and begins with:  sk-pro\n"
     ]
    }
   ],
   "source": [
    "import os\n",
    "openai_api_key = os.getenv(\"OPENAI_API_KEY\")\n",
    "\n",
    "\n",
    "if openai_api_key:\n",
    "    print(\"OpenAI API exists and begins with: \", openai_api_key[:6])\n",
    "else:\n",
    "    print(\"OpenAI API does not exist\")\n",
    "\n",
    "\n",
    "\n",
    "\n",
    "\n",
    "\n",
    "\n"
   ]
  },
  {
   "cell_type": "code",
   "execution_count": 4,
   "id": "f85c3677",
   "metadata": {},
   "outputs": [],
   "source": [
    "from openai import OpenAI"
   ]
  },
  {
   "cell_type": "code",
   "execution_count": 5,
   "id": "a7f75b03",
   "metadata": {},
   "outputs": [],
   "source": [
    "openai = OpenAI()"
   ]
  },
  {
   "cell_type": "code",
   "execution_count": 6,
   "id": "e9341a0f",
   "metadata": {},
   "outputs": [],
   "source": [
    "messages = [{\"role\": \"user\", \"content\": \"what is 2 + 2?\"}]"
   ]
  },
  {
   "cell_type": "code",
   "execution_count": 7,
   "id": "b02fdbe4",
   "metadata": {},
   "outputs": [
    {
     "name": "stdout",
     "output_type": "stream",
     "text": [
      "2 + 2 equals 4.\n"
     ]
    }
   ],
   "source": [
    "response = openai.chat.completions.create(\n",
    "    model = \"gpt-4.1-nano\",\n",
    "    messages=messages\n",
    ")\n",
    "\n",
    "print(response.choices[0].message.content)"
   ]
  },
  {
   "cell_type": "code",
   "execution_count": 8,
   "id": "6c7d28a1",
   "metadata": {},
   "outputs": [],
   "source": [
    "question = \"please prepare a hard, challenging question to assess someone's IQ. Respond only with the question.\"\n",
    "messages = [{\"role\": \"user\", \"content\": question}]"
   ]
  },
  {
   "cell_type": "code",
   "execution_count": 9,
   "id": "2c8b3e65",
   "metadata": {},
   "outputs": [
    {
     "name": "stdout",
     "output_type": "stream",
     "text": [
      "A farmer has 17 sheep, and all but nine run away. How many sheep does the farmer have left?\n"
     ]
    }
   ],
   "source": [
    "response = openai.chat.completions.create(\n",
    "    model = \"gpt-4.1-nano\",\n",
    "    messages = messages\n",
    ")\n",
    "\n",
    "question = response.choices[0].message.content\n",
    "print(question)"
   ]
  },
  {
   "cell_type": "code",
   "execution_count": 10,
   "id": "999e1480",
   "metadata": {},
   "outputs": [],
   "source": [
    "messages = [{\"role\" : \"user\", \"content\": question}]"
   ]
  },
  {
   "cell_type": "code",
   "execution_count": 11,
   "id": "21416c9c",
   "metadata": {},
   "outputs": [
    {
     "name": "stdout",
     "output_type": "stream",
     "text": [
      "The farmer initially has 17 sheep. The phrase \"all but nine run away\" means that 9 sheep did not run away. Therefore, the farmer still has **9** sheep left.\n"
     ]
    }
   ],
   "source": [
    "response = openai.chat.completions.create(\n",
    "    model = \"gpt-4.1-nano\",\n",
    "    messages = messages\n",
    ")\n",
    "\n",
    "answer = response.choices[0].message.content\n",
    "print(answer)"
   ]
  },
  {
   "cell_type": "code",
   "execution_count": 12,
   "id": "724e7046",
   "metadata": {},
   "outputs": [
    {
     "data": {
      "text/markdown": [
       "The farmer initially has 17 sheep. The phrase \"all but nine run away\" means that 9 sheep did not run away. Therefore, the farmer still has **9** sheep left."
      ],
      "text/plain": [
       "<IPython.core.display.Markdown object>"
      ]
     },
     "metadata": {},
     "output_type": "display_data"
    }
   ],
   "source": [
    "# answer we got from the llm is in markdown format\n",
    "\n",
    "from IPython.display import display, Markdown\n",
    "\n",
    "display(Markdown(answer))"
   ]
  },
  {
   "cell_type": "markdown",
   "id": "6610aef9",
   "metadata": {},
   "source": [
    "## Exercise"
   ]
  },
  {
   "cell_type": "code",
   "execution_count": 13,
   "id": "f994e2ec",
   "metadata": {},
   "outputs": [],
   "source": [
    "# asking the llm to pick a business area\n",
    "messages = [{\"role\":\"user\", \"content\": \"pick a business area that might be worth for an agentic ai opportunity\"}]"
   ]
  },
  {
   "cell_type": "code",
   "execution_count": 14,
   "id": "0590531d",
   "metadata": {},
   "outputs": [
    {
     "name": "stdout",
     "output_type": "stream",
     "text": [
      "A promising business area for an agentic AI opportunity is the **Financial Services and Investment Management Sector**.\n",
      "\n",
      "**Why this area?**\n",
      "- **Decision-Making Complexity:** Financial markets involve complex, rapidly changing data requiring advanced analysis.\n",
      "- **Autonomous Trading:** Agentic AI can execute trades, optimize portfolios, and adapt strategies in real-time without human intervention.\n",
      "- **Risk Management:** AI agents can continuously monitor market risks, regulatory changes, and internal compliance, autonomously adjusting strategies.\n",
      "- **Personalized Financial Advice:** AI agents can tailor investment recommendations to individual clients based on their financial goals and risk appetite.\n",
      "- **Operational Efficiency:** Automating routine tasks like transaction processing, reporting, and compliance checks reduces costs and errors.\n",
      "\n",
      "**Potential Opportunities:**\n",
      "- Developing autonomous trading agents that learn and adapt continuously.\n",
      "- Creating AI-driven financial advisors for personalized wealth management.\n",
      "- Implementing AI systems for fraud detection and regulatory compliance.\n",
      "- Enhancing predictive analytics for market trends and economic indicators.\n",
      "\n",
      "This sector's high data complexity and the critical importance of timely, accurate decision-making make it well-suited for advanced agentic AI solutions, offering competitive advantages and innovation potential.\n"
     ]
    }
   ],
   "source": [
    "response = openai.chat.completions.create(\n",
    "    model = \"gpt-4.1-nano\",\n",
    "    messages = messages\n",
    ")\n",
    "\n",
    "business_area = response.choices[0].message.content\n",
    "print(business_area)"
   ]
  },
  {
   "cell_type": "code",
   "execution_count": 15,
   "id": "d5e14db1",
   "metadata": {},
   "outputs": [],
   "source": [
    "messages = [{\"role\":\"user\", \"content\": f\"give me a pain point in {business_area}.\"}]"
   ]
  },
  {
   "cell_type": "code",
   "execution_count": 16,
   "id": "66153735",
   "metadata": {},
   "outputs": [
    {
     "name": "stdout",
     "output_type": "stream",
     "text": [
      "A significant pain point in the Financial Services and Investment Management Sector is **the challenge of ensuring transparency, interpretability, and trust in AI-driven decision-making processes**. \n",
      "\n",
      "**Details:**\n",
      "- Financial institutions are heavily regulated and require clear explanations for automated decisions, especially in trading, risk management, and client advising.\n",
      "- Many advanced AI models (like deep learning) operate as “black boxes,” making it difficult for human stakeholders to understand the rationale behind specific recommendations or trading actions.\n",
      "- Lack of transparency can lead to regulatory penalties, diminished client trust, and difficulty in compliance audits.\n",
      "- Moreover, complex models may inadvertently incorporate biases or make errors that go unnoticed without proper interpretability, risking significant financial and reputational damage.\n",
      "\n",
      "**Implication:**\n",
      "Developing agentic AI systems that are inherently explainable or that can provide understandable and auditable decision-trails is crucial. Addressing this pain point enables firms to leverage the power of advanced AI while maintaining regulatory compliance and fostering stakeholder trust, thus unlocking the full potential of autonomous financial solutions.\n"
     ]
    }
   ],
   "source": [
    "response = openai.chat.completions.create(\n",
    "    model = \"gpt-4.1-nano\",\n",
    "    messages = messages\n",
    ")\n",
    "\n",
    "pain_point = response.choices[0].message.content\n",
    "print(pain_point)"
   ]
  },
  {
   "cell_type": "code",
   "execution_count": 17,
   "id": "04941751",
   "metadata": {},
   "outputs": [],
   "source": [
    "messages = [{\"role\": \"user\", \"content\": f\"give me a solution to {pain_point}.\"}]"
   ]
  },
  {
   "cell_type": "code",
   "execution_count": 18,
   "id": "b69a7515",
   "metadata": {},
   "outputs": [
    {
     "data": {
      "text/markdown": [
       "To address the significant pain point of transparency, interpretability, and trust in AI-driven decision-making within the Financial Services and Investment Management Sector, I propose a comprehensive, multi-faceted solution that combines advanced explainability techniques with robust governance and stakeholder engagement:\n",
       "\n",
       "### 1. Implement Explainable AI (XAI) Frameworks\n",
       "- **Use Interpretable Models When Possible:** Employ inherently transparent models such as decision trees, linear models, or rule-based systems for high-stakes decisions, and reserve complex models for auxiliary tasks.\n",
       "- **Apply Model-Agnostic Explainability Tools:** Utilize tools like LIME (Local Interpretable Model-agnostic Explanations), SHAP (SHapley Additive exPlanations), or counterfactual explanations to elucidate decisions from complex models.\n",
       "- **Develop Layered Explanations:** Provide both high-level summaries for non-technical stakeholders and detailed technical insights for regulators and auditors.\n",
       "\n",
       "### 2. Build an Auditable Decision Trail\n",
       "- **Decision Logging:** Maintain comprehensive logs capturing data inputs, model outputs, and explanation summaries for each decision.\n",
       "- **Version Control and Provenance:** Track model versions, training data sources, and parameter changes to ensure reproducibility.\n",
       "- **Automated Compliance Checks:** Integrate rule-based checks that verify decisions against regulatory requirements and risk thresholds.\n",
       "\n",
       "### 3. Foster Agentic, Explainable AI Architectures\n",
       "- **Hybrid Models:** Combine rule-based systems with machine learning components, allowing the AI to make nuanced decisions while remaining explainable.\n",
       "- **Interpretable AI Modules:** Develop specialized modules that generate explanations alongside recommendations, enabling transparent decision flows.\n",
       "- **Human-in-the-Loop Integration:** Design workflows where AI outputs are reviewed and validated by human experts, enhancing accountability.\n",
       "\n",
       "### 4. Establish Robust Governance and Training\n",
       "- **Explainability Governance Framework:** Form committees and processes to oversee AI interpretability, bias detection, and compliance.\n",
       "- **Stakeholder Education:** Train models’ users, compliance officers, and clients on interpreting AI explanations and understanding decision rationales.\n",
       "- **Regular Audits and Bias Checks:** Conduct frequent reviews to identify unintended biases or inaccuracies, with mechanisms for remediation.\n",
       "\n",
       "### 5. Leverage Regulatory-Ready Technologies\n",
       "- **Compliance-Oriented Toolkits:** Adopt AI platforms designed with regulatory standards (e.g., GDPR, MiFID II) in mind, supporting explainability and auditability.\n",
       "- **Transparent Reporting Dashboards:** Create dashboards for regulators and stakeholders summarizing AI decision processes, rationale, and compliance status.\n",
       "\n",
       "---\n",
       "\n",
       "### Benefits of This Approach:\n",
       "- Ensures regulatory compliance by providing clear, auditable decision trails.\n",
       "- Builds client and stakeholder trust through transparent communication.\n",
       "- Enhances model robustness by detecting biases and errors early.\n",
       "- Facilitates smoother audits and reduces regulatory penalties.\n",
       "\n",
       "---\n",
       "\n",
       "### Implementation Roadmap:\n",
       "1. **Assessment & Planning:** Audit existing AI models and data flows; identify areas lacking transparency.\n",
       "2. **Pilot Projects:** Deploy explainability tools and hybrid models in select decision domains.\n",
       "3. **Training & Governance Setup:** Establish oversight teams, training programs, and documentation standards.\n",
       "4. **Full-Scale Deployment:** Integrate explainability mechanisms into core AI systems with continuous monitoring.\n",
       "5. **Continuous Improvement:** Regularly update models, explanations, and governance practices in response to regulatory changes and technological advancements.\n",
       "\n",
       "By embedding explainability into AI systems' design and governance, financial institutions can confidently harness the power of AI while upholding transparency, regulatory compliance, and stakeholder trust."
      ],
      "text/plain": [
       "<IPython.core.display.Markdown object>"
      ]
     },
     "metadata": {},
     "output_type": "display_data"
    }
   ],
   "source": [
    "response = openai.chat.completions.create(\n",
    "    model = \"gpt-4.1-nano\",\n",
    "    messages = messages\n",
    ")\n",
    "\n",
    "solution = response.choices[0].message.content\n",
    "display(Markdown(solution))"
   ]
  }
 ],
 "metadata": {
  "kernelspec": {
   "display_name": "Python 3",
   "language": "python",
   "name": "python3"
  },
  "language_info": {
   "codemirror_mode": {
    "name": "ipython",
    "version": 3
   },
   "file_extension": ".py",
   "mimetype": "text/x-python",
   "name": "python",
   "nbconvert_exporter": "python",
   "pygments_lexer": "ipython3",
   "version": "3.13.3"
  }
 },
 "nbformat": 4,
 "nbformat_minor": 5
}
