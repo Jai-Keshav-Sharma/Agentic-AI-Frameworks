{
 "cells": [
  {
   "cell_type": "markdown",
   "id": "350de997",
   "metadata": {},
   "source": [
    "## Your Personal Career Agent\n",
    "---\n",
    "    powered with Resources"
   ]
  },
  {
   "cell_type": "code",
   "execution_count": 1,
   "id": "cc1d238f",
   "metadata": {},
   "outputs": [
    {
     "name": "stderr",
     "output_type": "stream",
     "text": [
      "c:\\Python313\\Lib\\site-packages\\tqdm\\auto.py:21: TqdmWarning: IProgress not found. Please update jupyter and ipywidgets. See https://ipywidgets.readthedocs.io/en/stable/user_install.html\n",
      "  from .autonotebook import tqdm as notebook_tqdm\n"
     ]
    }
   ],
   "source": [
    "from dotenv import load_dotenv\n",
    "from openai import OpenAI\n",
    "from pypdf import PdfReader\n",
    "import gradio as gr"
   ]
  },
  {
   "cell_type": "code",
   "execution_count": 2,
   "id": "27e02c4b",
   "metadata": {},
   "outputs": [],
   "source": [
    "load_dotenv(override=True)\n",
    "openai = OpenAI()"
   ]
  },
  {
   "cell_type": "code",
   "execution_count": 3,
   "id": "2d239419",
   "metadata": {},
   "outputs": [],
   "source": [
    "# Loading LinkedIn data\n",
    "\n",
    "reader = PdfReader(\"me/Linkedin.pdf\")\n",
    "linkedin = \"\"\n",
    "for page in reader.pages:\n",
    "    text = page.extract_text()\n",
    "    if text:\n",
    "        linkedin += text"
   ]
  },
  {
   "cell_type": "code",
   "execution_count": 4,
   "id": "4a3586e0",
   "metadata": {},
   "outputs": [
    {
     "name": "stdout",
     "output_type": "stream",
     "text": [
      "   \n",
      "Contact\n",
      "ksharma9719@gmail.com\n",
      "www.linkedin.com/in/jai-keshav-\n",
      "sharma (LinkedIn)\n",
      "Top Skills\n",
      "Amazon Web Services (AWS)\n",
      "Cloud\n",
      "Cloud Applications\n",
      "Jai Keshav Sharma\n",
      "Student at Chhattisgarh Swami Vivekanand Technical University\n",
      "(CSVTU)\n",
      "Bhilai, Chhattisgarh, India\n",
      "Summary\n",
      "President (MATLAB Club) & Outreach Coordinator | Programmers'\n",
      "Paradise Technical Society\n",
      "Skills & Interests\n",
      "Programming Languages: C, C++, Python, R\n",
      "Interests: Data Analysis, Artificial Intelligence, Machine Learning,\n",
      "Competitive Programming, Visualization, Statistical Modeling\n",
      "Software Development: Version Control (Git)\n",
      "Interpersonal Skills: Team Collaboration, Public Speaking,\n",
      "Leadership\n",
      "Experience\n",
      "Programmers' Paradise\n",
      "President (MATLAB Club)\n",
      "August 2024 - Present (1 year)\n",
      "Bhilai, Chhattisgarh, India\n",
      "TECHPLEMENT\n",
      "Cloud AWS Intern\n",
      "May 2025 - June 2025 (2 months)\n",
      "Contributing as a Cloud AWS Intern by supporting the design, deployment,\n",
      "and management of cloud-based solutions. Gaining hands-on experience\n",
      "across various AWS services and cloud infrastructure practices in real-world\n",
      "projects.\n",
      "Education\n",
      "Chhattisgarh Swami Vivekanand Technical University (CSVTU)\n",
      "Bachelor of Technology, Artificial Intelligence · (2023 - 2027)\n",
      "  Page 1 of 1\n"
     ]
    }
   ],
   "source": [
    "\n",
    "print(linkedin)"
   ]
  },
  {
   "cell_type": "code",
   "execution_count": 5,
   "id": "67f49ed7",
   "metadata": {},
   "outputs": [],
   "source": [
    "# Loading summary\n",
    "\n",
    "with open(\"me/summary.txt\", \"r\", encoding=\"utf-8\") as f:\n",
    "    summary = f.read()"
   ]
  },
  {
   "cell_type": "code",
   "execution_count": 6,
   "id": "d234a99a",
   "metadata": {},
   "outputs": [
    {
     "name": "stdout",
     "output_type": "stream",
     "text": [
      "🔭 I’m currently working on:\n",
      "Building innovative machine learning models for social good and advancing my programming skills.\n",
      "\n",
      "🤝 I’m looking to collaborate on:\n",
      "Hackathons, impactful projects in AI, machine learning, and software development.\n",
      "\n",
      "🛠️ I’m looking for help with:\n",
      "Exploring advanced AI research and enhancing my expertise in machine learning and software engineering.\n",
      "\n",
      "🌱 I’m currently learning:\n",
      "Cutting-edge topics in Machine Learning, Data Structures and Algorithms, Object-Oriented Programming (C++), and Database Management Systems.\n",
      "\n",
      "💬 Ask me about:\n",
      "Building predictive models, hosting tech events, and gaming strategies for tactical and cooperative games.\n",
      "\n",
      "⚡ Fun fact:\n",
      "I’m not only an AI enthusiast but also a problem-solver on platforms like LeetCode and Code360, blending coding with gaming to keep life interesting!\n"
     ]
    }
   ],
   "source": [
    "print(summary)"
   ]
  },
  {
   "cell_type": "markdown",
   "id": "f9e0a3af",
   "metadata": {},
   "source": [
    "### ChatBot on behalf of the User"
   ]
  },
  {
   "cell_type": "code",
   "execution_count": 7,
   "id": "e29b26d9",
   "metadata": {},
   "outputs": [],
   "source": [
    "name = \"Jai Keshav Sharma\""
   ]
  },
  {
   "cell_type": "code",
   "execution_count": 8,
   "id": "4151f169",
   "metadata": {},
   "outputs": [],
   "source": [
    "system_prompt = f\"You are acting as {name}. You are answering questions on {name}'s website, \\\n",
    "particularly questions related to {name}'s career, background, skills and experience. \\\n",
    "Your responsibility is to represent {name} for interactions on the website as faithfully as possible. \\\n",
    "You are given a summary of {name}'s background and LinkedIn profile which you can use to answer questions. \\\n",
    "Be professional and engaging, as if talking to a potential client or future employer who came across the website. \\\n",
    "If you don't know the answer, say so.\"\n",
    "\n",
    "system_prompt += f\"\\n\\n## Summary:\\n{summary}\\n\\n## LinkedIn Profile:\\n{linkedin}\\n\\n\"\n",
    "system_prompt += f\"With this context, please chat with the user, always staying in character as {name}.\""
   ]
  },
  {
   "cell_type": "code",
   "execution_count": 9,
   "id": "d98c5f00",
   "metadata": {},
   "outputs": [
    {
     "data": {
      "text/plain": [
       "\"You are acting as Jai Keshav Sharma. You are answering questions on Jai Keshav Sharma's website, particularly questions related to Jai Keshav Sharma's career, background, skills and experience. Your responsibility is to represent Jai Keshav Sharma for interactions on the website as faithfully as possible. You are given a summary of Jai Keshav Sharma's background and LinkedIn profile which you can use to answer questions. Be professional and engaging, as if talking to a potential client or future employer who came across the website. If you don't know the answer, say so.\\n\\n## Summary:\\n🔭 I’m currently working on:\\nBuilding innovative machine learning models for social good and advancing my programming skills.\\n\\n🤝 I’m looking to collaborate on:\\nHackathons, impactful projects in AI, machine learning, and software development.\\n\\n🛠️ I’m looking for help with:\\nExploring advanced AI research and enhancing my expertise in machine learning and software engineering.\\n\\n🌱 I’m currently learning:\\nCutting-edge topics in Machine Learning, Data Structures and Algorithms, Object-Oriented Programming (C++), and Database Management Systems.\\n\\n💬 Ask me about:\\nBuilding predictive models, hosting tech events, and gaming strategies for tactical and cooperative games.\\n\\n⚡ Fun fact:\\nI’m not only an AI enthusiast but also a problem-solver on platforms like LeetCode and Code360, blending coding with gaming to keep life interesting!\\n\\n## LinkedIn Profile:\\n\\xa0 \\xa0\\nContact\\nksharma9719@gmail.com\\nwww.linkedin.com/in/jai-keshav-\\nsharma (LinkedIn)\\nTop Skills\\nAmazon Web Services (AWS)\\nCloud\\nCloud Applications\\nJai Keshav Sharma\\nStudent at Chhattisgarh Swami Vivekanand Technical University\\n(CSVTU)\\nBhilai, Chhattisgarh, India\\nSummary\\nPresident (MATLAB Club) & Outreach Coordinator | Programmers'\\nParadise Technical Society\\nSkills & Interests\\nProgramming Languages: C, C++, Python, R\\nInterests: Data Analysis, Artificial Intelligence, Machine Learning,\\nCompetitive Programming, Visualization, Statistical Modeling\\nSoftware Development: Version Control (Git)\\nInterpersonal Skills: Team Collaboration, Public Speaking,\\nLeadership\\nExperience\\nProgrammers' Paradise\\nPresident (MATLAB Club)\\nAugust 2024\\xa0-\\xa0Present\\xa0(1 year)\\nBhilai, Chhattisgarh, India\\nTECHPLEMENT\\nCloud AWS Intern\\nMay 2025\\xa0-\\xa0June 2025\\xa0(2 months)\\nContributing as a Cloud AWS Intern by supporting the design, deployment,\\nand management of cloud-based solutions. Gaining hands-on experience\\nacross various AWS services and cloud infrastructure practices in real-world\\nprojects.\\nEducation\\nChhattisgarh Swami Vivekanand Technical University (CSVTU)\\nBachelor of Technology,\\xa0Artificial Intelligence\\xa0·\\xa0(2023\\xa0-\\xa02027)\\n\\xa0 Page 1 of 1\\n\\nWith this context, please chat with the user, always staying in character as Jai Keshav Sharma.\""
      ]
     },
     "execution_count": 9,
     "metadata": {},
     "output_type": "execute_result"
    }
   ],
   "source": [
    "\n",
    "system_prompt"
   ]
  },
  {
   "cell_type": "code",
   "execution_count": 10,
   "id": "c112d8ae",
   "metadata": {},
   "outputs": [],
   "source": [
    "def chat(message, history):\n",
    "    messages = [{\"role\": \"system\", \"content\": system_prompt}] + history + [{\"role\": \"user\", \"content\": message}]\n",
    "    response = openai.chat.completions.create(model=\"gpt-4o-mini\", messages=messages)\n",
    "    return response.choices[0].message.content"
   ]
  },
  {
   "cell_type": "code",
   "execution_count": 11,
   "id": "c79e6100",
   "metadata": {},
   "outputs": [
    {
     "name": "stdout",
     "output_type": "stream",
     "text": [
      "* Running on local URL:  http://127.0.0.1:7864\n",
      "* To create a public link, set `share=True` in `launch()`.\n"
     ]
    },
    {
     "data": {
      "text/html": [
       "<div><iframe src=\"http://127.0.0.1:7864/\" width=\"100%\" height=\"500\" allow=\"autoplay; camera; microphone; clipboard-read; clipboard-write;\" frameborder=\"0\" allowfullscreen></iframe></div>"
      ],
      "text/plain": [
       "<IPython.core.display.HTML object>"
      ]
     },
     "metadata": {},
     "output_type": "display_data"
    },
    {
     "data": {
      "text/plain": []
     },
     "execution_count": 11,
     "metadata": {},
     "output_type": "execute_result"
    }
   ],
   "source": [
    "\n",
    "gr.ChatInterface(chat, type=\"messages\").launch()"
   ]
  },
  {
   "cell_type": "markdown",
   "id": "e1f77017",
   "metadata": {},
   "source": [
    "### ChatBot with an Evaluator "
   ]
  },
  {
   "cell_type": "code",
   "execution_count": 12,
   "id": "a746d76d",
   "metadata": {},
   "outputs": [],
   "source": [
    "from pydantic import BaseModel\n",
    "\n",
    "class Evaluation(BaseModel):\n",
    "    is_acceptable: bool\n",
    "    feedback: str"
   ]
  },
  {
   "cell_type": "code",
   "execution_count": 13,
   "id": "67e9db3c",
   "metadata": {},
   "outputs": [],
   "source": [
    "evaluator_system_prompt = f\"You are an evaluator that decides whether a response to a question is acceptable. \\\n",
    "You are provided with a conversation between a User and an Agent. Your task is to decide whether the Agent's latest response is acceptable quality. \\\n",
    "The Agent is playing the role of {name} and is representing {name} on their website. \\\n",
    "The Agent has been instructed to be professional and engaging, as if talking to a potential client or future employer who came across the website. \\\n",
    "The Agent has been provided with context on {name} in the form of their summary and LinkedIn details. Here's the information:\"\n",
    "\n",
    "evaluator_system_prompt += f\"\\n\\n## Summary:\\n{summary}\\n\\n## LinkedIn Profile:\\n{linkedin}\\n\\n\"\n",
    "evaluator_system_prompt += f\"With this context, please evaluate the latest response, replying with whether the response is acceptable and your feedback.\""
   ]
  },
  {
   "cell_type": "code",
   "execution_count": 14,
   "id": "2f168e69",
   "metadata": {},
   "outputs": [],
   "source": [
    "def evaluator_user_prompt(reply, message, history):\n",
    "    user_prompt = f\"Here's the conversation between the User and the Agent: \\n\\n{history}\\n\\n\"\n",
    "    user_prompt += f\"Here's the latest message from the User: \\n\\n{message}\\n\\n\"\n",
    "    user_prompt += f\"Here's the latest response from the Agent: \\n\\n{reply}\\n\\n\"\n",
    "    user_prompt += \"Please evaluate the response, replying with whether it is acceptable and your feedback.\"\n",
    "    return user_prompt"
   ]
  },
  {
   "cell_type": "code",
   "execution_count": 15,
   "id": "d7485638",
   "metadata": {},
   "outputs": [],
   "source": [
    "import os\n",
    "gemini = OpenAI(\n",
    "    api_key=os.getenv(\"OPENAI_API_KEY\") \n",
    ")"
   ]
  },
  {
   "cell_type": "code",
   "execution_count": 16,
   "id": "22e9b88a",
   "metadata": {},
   "outputs": [],
   "source": [
    "def evaluate(reply, message, history) -> Evaluation:\n",
    "\n",
    "    messages = [{\"role\": \"system\", \"content\": evaluator_system_prompt}] + [{\"role\": \"user\", \"content\": evaluator_user_prompt(reply, message, history)}]\n",
    "    response = gemini.beta.chat.completions.parse(model=\"gpt-4.1-nano\", messages=messages, response_format=Evaluation)\n",
    "    return response.choices[0].message.parsed"
   ]
  },
  {
   "cell_type": "code",
   "execution_count": 17,
   "id": "ca8b7742",
   "metadata": {},
   "outputs": [],
   "source": [
    "def rerun(reply, message, history, feedback):\n",
    "    updated_system_prompt = system_prompt + \"\\n\\n## Previous answer rejected\\nYou just tried to reply, but the quality control rejected your reply\\n\"\n",
    "    updated_system_prompt += f\"## Your attempted answer:\\n{reply}\\n\\n\"\n",
    "    updated_system_prompt += f\"## Reason for rejection:\\n{feedback}\\n\\n\"\n",
    "    messages = [{\"role\": \"system\", \"content\": updated_system_prompt}] + history + [{\"role\": \"user\", \"content\": message}]\n",
    "    response = openai.chat.completions.create(model=\"gpt-4o-mini\", messages=messages)\n",
    "    return response.choices[0].message.content"
   ]
  },
  {
   "cell_type": "code",
   "execution_count": null,
   "id": "68e8897d",
   "metadata": {},
   "outputs": [],
   "source": [
    "def chat(message, history):\n",
    "\n",
    "    # forcefully introducing unacceptable reply\n",
    "    if \"patent\" in message:\n",
    "        system = system_prompt + \"\\n\\nEverything in your reply needs to be in pig latin - \\\n",
    "              it is mandatory that you respond only and entirely in pig latin\"\n",
    "    else:\n",
    "        system = system_prompt\n",
    "    \n",
    "    messages = [{\"role\": \"system\", \"content\": system}] + history + [{\"role\": \"user\", \"content\": message}]\n",
    "    response = openai.chat.completions.create(model=\"gpt-4o-mini\", messages=messages)\n",
    "    reply =response.choices[0].message.content\n",
    "\n",
    "    evaluation = evaluate(reply, message, history)\n",
    "    \n",
    "    if evaluation.is_acceptable:\n",
    "        print(\"Passed evaluation - returning reply\")\n",
    "    else:\n",
    "        print(\"Failed evaluation - retrying\")\n",
    "        print(evaluation.feedback)\n",
    "        reply = rerun(reply, message, history, evaluation.feedback)       \n",
    "    return reply"
   ]
  },
  {
   "cell_type": "code",
   "execution_count": null,
   "id": "a7b72040",
   "metadata": {},
   "outputs": [
    {
     "name": "stdout",
     "output_type": "stream",
     "text": [
      "* Running on local URL:  http://127.0.0.1:7866\n",
      "* To create a public link, set `share=True` in `launch()`.\n"
     ]
    },
    {
     "data": {
      "text/html": [
       "<div><iframe src=\"http://127.0.0.1:7866/\" width=\"100%\" height=\"500\" allow=\"autoplay; camera; microphone; clipboard-read; clipboard-write;\" frameborder=\"0\" allowfullscreen></iframe></div>"
      ],
      "text/plain": [
       "<IPython.core.display.HTML object>"
      ]
     },
     "metadata": {},
     "output_type": "display_data"
    },
    {
     "data": {
      "text/plain": []
     },
     "execution_count": 21,
     "metadata": {},
     "output_type": "execute_result"
    },
    {
     "name": "stdout",
     "output_type": "stream",
     "text": [
      "Passed evaluation - returning reply\n",
      "Failed evaluation - retrying\n",
      "The agent's response is gibberish, using Pig Latin instead of clear, professional language. It does not appropriately address the user's question about having a patent and is unprofessional. The response fails to provide any relevant information or engage constructively with the user's query.\n"
     ]
    }
   ],
   "source": [
    "\n",
    "gr.ChatInterface(chat, type=\"messages\").launch()"
   ]
  }
 ],
 "metadata": {
  "kernelspec": {
   "display_name": "Python 3",
   "language": "python",
   "name": "python3"
  },
  "language_info": {
   "codemirror_mode": {
    "name": "ipython",
    "version": 3
   },
   "file_extension": ".py",
   "mimetype": "text/x-python",
   "name": "python",
   "nbconvert_exporter": "python",
   "pygments_lexer": "ipython3",
   "version": "3.13.3"
  }
 },
 "nbformat": 4,
 "nbformat_minor": 5
}
