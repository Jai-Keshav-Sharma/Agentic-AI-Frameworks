{
 "cells": [
  {
   "cell_type": "markdown",
   "metadata": {},
   "source": [
    "## Welcome to Week 4, Day 4\n",
    "\n",
    "This is the start of an AWESOME project! Really simple and very effective."
   ]
  },
  {
   "cell_type": "code",
   "execution_count": 1,
   "metadata": {},
   "outputs": [],
   "source": [
    "from typing import Annotated\n",
    "from typing_extensions import TypedDict\n",
    "from langgraph.graph import StateGraph, START\n",
    "from langgraph.graph.message import add_messages\n",
    "from dotenv import load_dotenv\n",
    "from IPython.display import Image, display\n",
    "import gradio as gr\n",
    "from langgraph.prebuilt import ToolNode, tools_condition\n",
    "import requests\n",
    "import os\n",
    "from langchain.agents import Tool\n",
    "\n",
    "from langchain_openai import ChatOpenAI\n",
    "from langgraph.checkpoint.memory import MemorySaver"
   ]
  },
  {
   "cell_type": "code",
   "execution_count": 2,
   "metadata": {},
   "outputs": [
    {
     "data": {
      "text/plain": [
       "True"
      ]
     },
     "execution_count": 2,
     "metadata": {},
     "output_type": "execute_result"
    }
   ],
   "source": [
    "load_dotenv(override=True)"
   ]
  },
  {
   "cell_type": "markdown",
   "metadata": {},
   "source": [
    "### Asynchronous LangGraph\n",
    "\n",
    "To run a tool:  \n",
    "Sync: `tool.run(inputs)`  \n",
    "Async: `await tool.arun(inputs)`\n",
    "\n",
    "To invoke the graph:  \n",
    "Sync: `graph.invoke(state)`  \n",
    "Async: `await graph.ainvoke(state)`"
   ]
  },
  {
   "cell_type": "code",
   "execution_count": 3,
   "metadata": {},
   "outputs": [],
   "source": [
    "class State(TypedDict):\n",
    "    \n",
    "    messages: Annotated[list, add_messages]\n",
    "\n",
    "\n",
    "graph_builder = StateGraph(State)"
   ]
  },
  {
   "cell_type": "code",
   "execution_count": 4,
   "metadata": {},
   "outputs": [],
   "source": [
    "pushover_token = os.getenv(\"PUSHOVER_TOKEN\")\n",
    "pushover_user = os.getenv(\"PUSHOVER_USER\")\n",
    "pushover_url = \"https://api.pushover.net/1/messages.json\"\n",
    "\n",
    "def push(text: str):\n",
    "    \"\"\"Send a push notification to the user\"\"\"\n",
    "    requests.post(pushover_url, data = {\"token\": pushover_token, \"user\": pushover_user, \"message\": text})\n",
    "\n",
    "tool_push = Tool(\n",
    "        name=\"send_push_notification\",\n",
    "        func=push,\n",
    "        description=\"useful for when you want to send a push notification\"\n",
    "    )"
   ]
  },
  {
   "cell_type": "markdown",
   "metadata": {},
   "source": [
    "### Next: Install Playwright\n",
    "\n",
    "On Windows and MacOS:  \n",
    "`playwright install`\n",
    "\n",
    "On Linux:  \n",
    "`playwright install —with-reps chromium`\n",
    "\n",
    "Student Mariano R. mentioned that you might also need to do this in a cursor terminal:\n",
    "\n",
    "`uv run playwright install chromium`"
   ]
  },
  {
   "cell_type": "code",
   "execution_count": 5,
   "metadata": {},
   "outputs": [],
   "source": [
    "!playwright install"
   ]
  },
  {
   "cell_type": "markdown",
   "metadata": {},
   "source": [
    "## And now - after Installing Playwright, a heads up for Windows PC Users:\n",
    "\n",
    "While executing the next few cells, you might hit a problem with the Playwright browser raising a NotImplementedError.\n",
    "\n",
    "This should work when we move to python modules, but it can cause problems in Windows in a notebook.\n",
    "\n",
    "If you it this error and would like to run the notebook, you need to make a small change which seems quite hacky! You need to do this AFTER installing Playwright (prior cells)\n",
    "\n",
    "1. Right click in `.venv` in the File Explorer on the left and select \"Find in folder\"\n",
    "2. Search for `asyncio.set_event_loop_policy(WindowsSelectorEventLoopPolicy())`  \n",
    "3. That code should be found in a line of code in a file called `kernelapp.py`\n",
    "4. Comment out the entire else clause that this line is a part of - see the fragment below. Be sure to have the \"pass\" statement after the ImportError line.\n",
    "5. Restart the kernel by pressing the \"Restart\" button above\n",
    "\n",
    "```python\n",
    "        if sys.platform.startswith(\"win\") and sys.version_info >= (3, 8):\n",
    "            import asyncio\n",
    " \n",
    "            try:\n",
    "                from asyncio import WindowsProactorEventLoopPolicy, WindowsSelectorEventLoopPolicy\n",
    "            except ImportError:\n",
    "                pass\n",
    "                # not affected\n",
    "           # else:\n",
    "            #    if type(asyncio.get_event_loop_policy()) is WindowsProactorEventLoopPolicy:\n",
    "                    # WindowsProactorEventLoopPolicy is not compatible with tornado 6\n",
    "                    # fallback to the pre-3.8 default of Selector\n",
    "                    # asyncio.set_event_loop_policy(WindowsSelectorEventLoopPolicy())\n",
    "```\n",
    "\n",
    "Thank you to student Nicolas for finding this, and to Kalyan, Yaki, Zibin and Bhaskar for confirming that this worked for them! And to Vladislav for the extra pointers.\n",
    "\n",
    "As an alternative, you can just move to a Python module (which we do anyway in Day 5)"
   ]
  },
  {
   "cell_type": "code",
   "execution_count": 6,
   "metadata": {},
   "outputs": [],
   "source": [
    "# Introducing nest_asyncio\n",
    "# Python async code only allows for one \"event loop\" processing aynchronous events.\n",
    "# The `nest_asyncio` library patches this, and is used for special situations, if you need to run a nested event loop.\n",
    "\n",
    "import nest_asyncio\n",
    "nest_asyncio.apply()"
   ]
  },
  {
   "cell_type": "markdown",
   "metadata": {},
   "source": [
    "### The LangChain community\n",
    "\n",
    "One of the remarkable things about LangChain is the rich community around it.\n",
    "\n",
    "Check this out:\n"
   ]
  },
  {
   "cell_type": "code",
   "execution_count": 7,
   "metadata": {},
   "outputs": [],
   "source": [
    "from langchain_community.agent_toolkits import PlayWrightBrowserToolkit\n",
    "from langchain_community.tools.playwright.utils import create_async_playwright_browser\n",
    "\n",
    "# If you get a NotImplementedError here or later, see the Heads Up at the top of the notebook\n",
    "\n",
    "async_browser =  create_async_playwright_browser(headless=False)  # headful mode\n",
    "toolkit = PlayWrightBrowserToolkit.from_browser(async_browser=async_browser)\n",
    "tools = toolkit.get_tools()"
   ]
  },
  {
   "cell_type": "code",
   "execution_count": 8,
   "metadata": {},
   "outputs": [
    {
     "name": "stdout",
     "output_type": "stream",
     "text": [
      "click_element=async_browser=<Browser type=<BrowserType name=chromium executable_path=/home/ksharma/.cache/ms-playwright/chromium-1169/chrome-linux/chrome> version=136.0.7103.25>\n",
      "navigate_browser=async_browser=<Browser type=<BrowserType name=chromium executable_path=/home/ksharma/.cache/ms-playwright/chromium-1169/chrome-linux/chrome> version=136.0.7103.25>\n",
      "previous_webpage=async_browser=<Browser type=<BrowserType name=chromium executable_path=/home/ksharma/.cache/ms-playwright/chromium-1169/chrome-linux/chrome> version=136.0.7103.25>\n",
      "extract_text=async_browser=<Browser type=<BrowserType name=chromium executable_path=/home/ksharma/.cache/ms-playwright/chromium-1169/chrome-linux/chrome> version=136.0.7103.25>\n",
      "extract_hyperlinks=async_browser=<Browser type=<BrowserType name=chromium executable_path=/home/ksharma/.cache/ms-playwright/chromium-1169/chrome-linux/chrome> version=136.0.7103.25>\n",
      "get_elements=async_browser=<Browser type=<BrowserType name=chromium executable_path=/home/ksharma/.cache/ms-playwright/chromium-1169/chrome-linux/chrome> version=136.0.7103.25>\n",
      "current_webpage=async_browser=<Browser type=<BrowserType name=chromium executable_path=/home/ksharma/.cache/ms-playwright/chromium-1169/chrome-linux/chrome> version=136.0.7103.25>\n"
     ]
    }
   ],
   "source": [
    "for tool in tools:\n",
    "    print(f\"{tool.name}={tool}\")"
   ]
  },
  {
   "cell_type": "code",
   "execution_count": 9,
   "metadata": {},
   "outputs": [],
   "source": [
    "tool_dict = {tool.name:tool for tool in tools}\n",
    "\n",
    "navigate_tool = tool_dict.get(\"navigate_browser\")\n",
    "extract_text_tool = tool_dict.get(\"extract_text\")\n",
    "\n",
    "    \n",
    "await navigate_tool.arun({\"url\": \"https://www.thehindu.com\"})\n",
    "text = await extract_text_tool.arun({})"
   ]
  },
  {
   "cell_type": "code",
   "execution_count": 10,
   "metadata": {},
   "outputs": [
    {
     "name": "stdout",
     "output_type": "stream",
     "text": [
      "The Hindu: Latest News today from India and the World, Breaking news,\n",
      "Top Headlines and Trending News Videos. | The Hindu July 31, 2025\n",
      "e-Paper LOGIN Account eBooks Subscribe GIFT FRONT PAGE Search India\n",
      "World Movies Sport Data Health Opinion Science Business Premium Live\n",
      "Now News SECTION News India World States Cities TOPICS Ground Zero\n",
      "Spotlight NEWSLETTER The View From India Looking at World Affairs from\n",
      "the Indian perspective. SEE ALL NEWSLETTERS States Cities\n",
      "Entertainment SECTION Entertainment Art Dance Movies Music Reviews\n",
      "Theatre NEWSLETTER First Day First Show News and reviews from the\n",
      "world of cinema and streaming. SEE ALL NEWSLETTERS Opinion SECTION\n",
      "Opinion Editorial Cartoon Columns Comment Interview Lead Letters Open\n",
      "Page Corrections & Clarifications Business SECTION Business Agri-\n",
      "Business Economy Industry Markets Budget Sport SECTION Sport Cricket\n",
      "Football Hockey Tennis Athletics Motorsport Races Other Sports TOPICS\n",
      "Between Wickets Technology SECTION Technology Gadgets Internet\n",
      "NEWSLETTER Today's Cache Your download of the top 5 technology stories\n",
      "of the day. SEE ALL NEWSLETTERS Science SECTION Science TOPICS ISRO\n",
      "Question Corner NEWSLETTER Science For All The weekly newsletter from\n",
      "science writers takes the jargon out of science and puts the fun in!\n",
      "SEE ALL NEWSLETTERS Data SECTION Data TOPICS Data Point Podcast\n",
      "NEWSLETTER Data Point Decoding the headlines with facts, figures, and\n",
      "numbers SEE ALL NEWSLETTERS Education SECTION Education Careers\n",
      "Colleges Schools Health SECTION Health TOPICS Monkeypox NEWSLETTER\n",
      "Health Matters Ramya Kannan writes to you on getting to good health,\n",
      "and staying there SEE ALL NEWSLETTERS Life & Style SECTION Life &\n",
      "Style Fashion Fitness Homes and gardens Luxury Motoring Travel Society\n",
      "SECTION Society Faith History & Culture Books SECTION Books TOPICS\n",
      "Hindi Belt NEWSLETTER The Hindu On Books Books of the week, reviews,\n",
      "excerpts, new titles and features. SEE ALL NEWSLETTERS Children\n",
      "Elections Food SECTION Food Dining Features Guides Recipes TOPICS Good\n",
      "Health Hunting Environment Real Estate Agriculture Brandhub Connect\n",
      "with us The Hindu Best Places to Work July 31, 2025 e-Paper Search for\n",
      "topics, people, articles... India World Movies Sport Data Health\n",
      "Opinion Science Business Premium Videos Podcast Photos Visual Stories\n",
      "Specials eBooks Crossword Newsletter Lit For Life The Huddle Premium\n",
      "Can gut microbes help flush out forever chemicals in your body? Here\n",
      "is what experts have to say Athira  Elssa Johnson Is India firmly\n",
      "positioned to manage U.S. sanctions on Russian oil? Saptaparno Ghosh\n",
      "Kerala’s 100% literacy but 42% graduate unemployment: A policy\n",
      "misalignment? Debdulal Thakur Is Labubu mania still going strong or\n",
      "has India moved on? And how do you snag one? Barry Rodgers How Indian\n",
      "harmonium produces lively music Vasudevan Mukunth India 2008 Malegaon\n",
      "blast: Who were the accused? A brief timeline of the case Maharashtra\n",
      "Maharashtra government withdraws implementation of 10% EWS quota in\n",
      "private medical colleges Business Income Tax Dept conducts survey\n",
      "operation in case against Jane Street India India to take all steps to\n",
      "protect national interest: Piyush Goyal on U.S. tariff In a suo motu\n",
      "statement in the Lok Sabha, he said the government is studying the\n",
      "implications of these tariff announcements made by U.S. President\n",
      "Donald Trump The Hindu Bureau O. Panneerselvam’s camp exits from\n",
      "National Democratic Alliance Dharmasthala mass burial case: Partial\n",
      "skeletal remains found at sixth site The Hindu Bureau U.S. imposes 50%\n",
      "tariff on copper imports; limited impact on India Latest News 5 mins\n",
      "ago -                                                 Delhi Air\n",
      "India's Dreamliner aborts takeoff at Delhi airport due to technical\n",
      "issue 6 mins ago -\n",
      "Environment Chile takes new steps to save endangered Darwin's frog 6\n",
      "mins ago -                                                 Delhi Delhi\n",
      "High Court seeks NIA’s response on MP Abdul Rashid’s plea in terror\n",
      "funding case 16 mins ago -\n",
      "India Above-normal rain likely in India in second half of monsoon\n",
      "season: IMD 19 mins ago -\n",
      "India Top news of the day: Trump slams India and Russia as dead\n",
      "economies in fresh attack; special NIA court acquits all seven accused\n",
      "including Pragya Thakur in Malegaon blast case, and more READ MORE\n",
      "STORIES Thursday, July 31 READ OUR EDITORIALS IN Hindi Arrest and\n",
      "unrest: On arrest of nuns in Chhattisgarh Communal agenda is behind\n",
      "the arrest of nuns for human trafficking ​Top board: On Divya\n",
      "Deshmukh’s women’s chess World Cup win Indian women are catching up\n",
      "with the men in world chess Top Videos RCB stampede: Findings and\n",
      "recommendations in D’Cunha commission report RCB stampede: Findings\n",
      "and recommendations in D’Cunha commission report Watch: TCS to lay off\n",
      "12,000 people | Was AI the trigger? | Business Matters Watch: Eminent\n",
      "Indian-born economist, Meghnad Desai, dies at 85 Watch: What it takes\n",
      "to be an actor in Bollywood: Jaimini Pathak, Rashi Mal, Shreya Gupto\n",
      "Watch: Why are Thailand & Cambodia fighting over a temple? Watch:\n",
      "Wayanad one year after landslide: A reporter’s journey Watch: Meet the\n",
      "Anands: Where chess meets art Watch: Lok Sabha discusses Operation\n",
      "Sindoor, Monsoon updates & more | Newswrap Watch: Why adoption in\n",
      "India is so difficult | Data Watch: What is Parkour and how did it get\n",
      "so popular in Chennai? VIEW MORE VIEW ALL VIDEOS Top Picks World\n",
      "Lithuania Prime Minister Gintautas Paluckas steps down after\n",
      "investigations, protests Podcast Is ICJ’s ruling on climate change\n",
      "merely symbolic? | In Focus podcast Movies ‘Kingdom’ movie review:\n",
      "Gowtam Tinnanuri and Vijay Deverakonda anchor a visually rich, albeit\n",
      "wobbly action saga Kerala Kerala Education Minister proposes\n",
      "discussion on changing annual school vacation timings amid climate\n",
      "concerns Bengaluru Pet-friendly rides gain popularity in Bengaluru as\n",
      "more aggregator apps start offering services Music Rewinding Mohammed\n",
      "Rafi classics Environment No State showed net increase in forest cover\n",
      "between 2015 and 2019, study reveals Entertainment Nostalgia drives\n",
      "old-timers to watch ‘Kyunki Saas Bhi Kabhi Bahu Thi  2’ premiere\n",
      "episode Bihar After ‘Dog Babu’, now ‘Dogesh Babu’ submits form for\n",
      "residential certificate in Bihar Kerala Rapper Vedan booked for rape\n",
      "after complaint of sexual abuse on promise of marriage The Hindu\n",
      "Opinion Premium India’s police must get out of Dirty Harry’s shadow K.\n",
      "Ashok Vardhan Shetty Boost the capacity of legal aid systems Arshi\n",
      "Showkat, Saumya  Srivastava, Valay Singh An unsurprising judgment M.\n",
      "Rajeev Kazakhstan to donate 1,500 saiga antelopes to China | Green\n",
      "Humour by Rohan Chakravarty Rohan Chakravarty Spectacle, privacy and\n",
      "sharing in the digital age Madhavi  Ravikumar Why the Gini Index is\n",
      "wrong about India Prachi  Dutta SEE MORE The Hindu Explains Premium\n",
      "National Sports Governance Bill: Centralisation of Indian sports with\n",
      "more transparency and timely elections Suchitra Karthikeyan How the\n",
      "fair use clause is being applied  to generative AI Arul George  Scaria\n",
      "Why were Tablighi Jamaat members given a clean chit? | Explained Ziya\n",
      "Us Salam What is Maharashtra’s new security Bill? | Explained Vinaya\n",
      "Deshpande Pandit How is India preparing against GLOF events? |\n",
      "Explained Safi  Ahsan Rizvi SEE MORE Top News Today Top News India\n",
      "World Sports Business Science Technology Entertainment Education SEE\n",
      "MORE Featured U.S. President Donald Trump announces tariffs to various\n",
      "countries World The Hindu Bureau READ NOW States Updates Tamil Nadu\n",
      "Telangana Karnataka Kerala Andhra Pradesh SEE MORE Cities Updates\n",
      "Bengaluru Chennai Delhi Hyderabad Visakhapatnam Kochi All Cities SEE\n",
      "MORE Read in App The Hindu About Us Code of Editorial Values News\n",
      "Archive Sitemap Print Subscription Digital Subscription Subscribe to\n",
      "Newsletters Rss Feeds Readers Editor-Terms of Reference Authors &\n",
      "Contributors Gift Front page Contact us Contact Us Social Media\n",
      "Advertise With Us Group News Sites Business Line BL on Campus\n",
      "Sportstar Frontline இந்து தமிழ் திசை The Hindu Centre Young World Club\n",
      "The Hindu ePaper Business Line ePaper Crossword + Free Games Other\n",
      "Products STEP Images Classifieds - Print Bookstore & Special\n",
      "Publications Popular Sections Elections Latest News National News\n",
      "International News Videos Life & Style Food Podcast Showcase Opinion\n",
      "Editorial Columns Comment Cartoon Letters Interview Lead Business\n",
      "Agri-Business Industry Economy Markets Budget Sport Cricket Football\n",
      "Hockey Tennis Athletics Motorsport Races Other Sports Sci-Tech Science\n",
      "Technology Health Agriculture Environment Gadgets Internet States\n",
      "Andhra Pradesh Karnataka Kerala Tamil Nadu Telangana Cities Bengaluru\n",
      "Chennai Coimbatore Delhi Hyderabad Kochi Kolkata Kozhikode Madurai\n",
      "Mangaluru Mumbai Puducherry Thiruvananthapuram Tiruchirapalli\n",
      "Vijayawada Visakhapatnam Trending on The Hindu News India News\n",
      "Hyderabad news Bengaluru News Sports, IPL 2025 News Delhi news Live\n",
      "news Entertainment news Sitemap Trending on Group sites Stock Market\n",
      "Live Updates IND vs ENG 4th Test Day 2 Live Score IND vs ENG Test\n",
      "Series Full Results The Hindu Crossword Gold Rate Today Silver Rate\n",
      "Today Arvind Kejriwal Exclusive Interview Editor’s Note: Putting\n",
      "Muslims in their place? Frontline Current Issue Latest News\n",
      "Performance artist MR Vishnuprasad’s ‘Footnotes’ explores climate\n",
      "change and its impact on Kochi’s coastal regions Air India's\n",
      "Dreamliner aborts takeoff at Delhi airport due to technical issue\n",
      "Chile takes new steps to save endangered Darwin's frog Delhi High\n",
      "Court seeks NIA’s response on MP Abdul Rashid’s plea in terror funding\n",
      "case Is higher education still worth it? Rising enrolment, shrinking\n",
      "jobs, and a deepening inequality crisis O. Panneerselvam’s camp exits\n",
      "National Democratic Alliance Above-normal rain likely in India in\n",
      "second half of monsoon season: IMD Top news of the day: Trump slams\n",
      "India and Russia as dead economies in fresh attack; special NIA court\n",
      "acquits all seven accused including Pragya Thakur in Malegaon blast\n",
      "case, and more Bengaluru woman booked for killing minor daughter,\n",
      "attempt to end own life Living Will Information Desk inaugurated at\n",
      "Alappuzha MCH Terms of Use Privacy Policy Copyright© 2025, THG\n",
      "PUBLISHING PVT LTD. or its affiliated companies. All rights reserved.\n",
      "BACK TO TOP Sign in to unlock member-only benefits! Access 10 free\n",
      "stories every month Save stories to read later Access to comment on\n",
      "every story Sign-up/manage your newsletter subscriptions with a single\n",
      "click Get notified by email for early access to discounts & offers on\n",
      "our products ✕ Looks like you are already logged in from more than 3\n",
      "devices! To continue logging in, remove at least one device from the\n",
      "below list Log out di.payload), 'all')\">Log Out from all devices Terms\n",
      "& conditions | Institutional Subscriber\n"
     ]
    }
   ],
   "source": [
    "import textwrap\n",
    "print(textwrap.fill(text))"
   ]
  },
  {
   "cell_type": "code",
   "execution_count": 11,
   "metadata": {},
   "outputs": [],
   "source": [
    "all_tools = tools + [tool_push]"
   ]
  },
  {
   "cell_type": "code",
   "execution_count": 12,
   "metadata": {},
   "outputs": [],
   "source": [
    "\n",
    "llm = ChatOpenAI(model=\"gpt-4o\")\n",
    "llm_with_tools = llm.bind_tools(all_tools)\n",
    "\n",
    "\n",
    "def chatbot(state: State):\n",
    "    return {\"messages\": [llm_with_tools.invoke(state[\"messages\"])]}\n"
   ]
  },
  {
   "cell_type": "code",
   "execution_count": 13,
   "metadata": {},
   "outputs": [
    {
     "data": {
      "text/plain": [
       "[ClickTool(async_browser=<Browser type=<BrowserType name=chromium executable_path=/home/ksharma/.cache/ms-playwright/chromium-1169/chrome-linux/chrome> version=136.0.7103.25>),\n",
       " NavigateTool(async_browser=<Browser type=<BrowserType name=chromium executable_path=/home/ksharma/.cache/ms-playwright/chromium-1169/chrome-linux/chrome> version=136.0.7103.25>),\n",
       " NavigateBackTool(async_browser=<Browser type=<BrowserType name=chromium executable_path=/home/ksharma/.cache/ms-playwright/chromium-1169/chrome-linux/chrome> version=136.0.7103.25>),\n",
       " ExtractTextTool(async_browser=<Browser type=<BrowserType name=chromium executable_path=/home/ksharma/.cache/ms-playwright/chromium-1169/chrome-linux/chrome> version=136.0.7103.25>),\n",
       " ExtractHyperlinksTool(async_browser=<Browser type=<BrowserType name=chromium executable_path=/home/ksharma/.cache/ms-playwright/chromium-1169/chrome-linux/chrome> version=136.0.7103.25>),\n",
       " GetElementsTool(async_browser=<Browser type=<BrowserType name=chromium executable_path=/home/ksharma/.cache/ms-playwright/chromium-1169/chrome-linux/chrome> version=136.0.7103.25>),\n",
       " CurrentWebPageTool(async_browser=<Browser type=<BrowserType name=chromium executable_path=/home/ksharma/.cache/ms-playwright/chromium-1169/chrome-linux/chrome> version=136.0.7103.25>),\n",
       " Tool(name='send_push_notification', description='useful for when you want to send a push notification', func=<function push at 0x7f8146e6ce00>)]"
      ]
     },
     "execution_count": 13,
     "metadata": {},
     "output_type": "execute_result"
    }
   ],
   "source": [
    "all_tools"
   ]
  },
  {
   "cell_type": "code",
   "execution_count": 14,
   "metadata": {},
   "outputs": [
    {
     "data": {
      "image/png": "[encoded data removed]",
      "text/plain": [
       "<IPython.core.display.Image object>"
      ]
     },
     "metadata": {},
     "output_type": "display_data"
    }
   ],
   "source": [
    "\n",
    "graph_builder = StateGraph(State)\n",
    "graph_builder.add_node(\"chatbot\", chatbot)\n",
    "graph_builder.add_node(\"tools\", ToolNode(tools=all_tools))\n",
    "graph_builder.add_conditional_edges( \"chatbot\", tools_condition, \"tools\")\n",
    "graph_builder.add_edge(\"tools\", \"chatbot\")\n",
    "graph_builder.add_edge(START, \"chatbot\")\n",
    "\n",
    "memory = MemorySaver()\n",
    "graph = graph_builder.compile(checkpointer=memory)\n",
    "display(Image(graph.get_graph().draw_mermaid_png()))"
   ]
  },
  {
   "cell_type": "code",
   "execution_count": null,
   "metadata": {},
   "outputs": [],
   "source": [
    "config = {\"configurable\": {\"thread_id\": \"999\"}}\n",
    "\n",
    "async def chat(user_input: str, history):\n",
    "    result = await graph.ainvoke({\"messages\": [{\"role\": \"user\", \"content\": user_input}]}, config=config)\n",
    "    return result[\"messages\"][-1].content\n",
    "\n",
    "\n",
    "gr.ChatInterface(chat, type=\"messages\").launch()"
   ]
  },
  {
   "cell_type": "code",
   "execution_count": null,
   "metadata": {},
   "outputs": [],
   "source": []
  }
 ],
 "metadata": {
  "kernelspec": {
   "display_name": "agents",
   "language": "python",
   "name": "python3"
  },
  "language_info": {
   "codemirror_mode": {
    "name": "ipython",
    "version": 3
   },
   "file_extension": ".py",
   "mimetype": "text/x-python",
   "name": "python",
   "nbconvert_exporter": "python",
   "pygments_lexer": "ipython3",
   "version": "3.12.3"
  }
 },
 "nbformat": 4,
 "nbformat_minor": 2
}
