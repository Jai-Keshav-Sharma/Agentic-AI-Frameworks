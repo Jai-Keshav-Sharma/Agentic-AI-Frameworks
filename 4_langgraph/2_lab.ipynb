{
 "cells": [
  {
   "cell_type": "code",
   "execution_count": 1,
   "id": "735b2126",
   "metadata": {},
   "outputs": [
    {
     "name": "stderr",
     "output_type": "stream",
     "text": [
      "c:\\Python313\\Lib\\site-packages\\tqdm\\auto.py:21: TqdmWarning: IProgress not found. Please update jupyter and ipywidgets. See https://ipywidgets.readthedocs.io/en/stable/user_install.html\n",
      "  from .autonotebook import tqdm as notebook_tqdm\n"
     ]
    }
   ],
   "source": [
    "from typing import Annotated\n",
    "from langgraph.graph import StateGraph, START\n",
    "from langgraph.graph.message import add_messages\n",
    "from dotenv import load_dotenv\n",
    "from IPython.display import Image, display\n",
    "import gradio as gr\n",
    "from langgraph.prebuilt import ToolNode, tools_condition\n",
    "import requests\n",
    "import os\n",
    "from langchain_openai import ChatOpenAI\n",
    "from typing import TypedDict"
   ]
  },
  {
   "cell_type": "code",
   "execution_count": 2,
   "id": "bdaf79b4",
   "metadata": {},
   "outputs": [
    {
     "data": {
      "text/plain": [
       "True"
      ]
     },
     "execution_count": 2,
     "metadata": {},
     "output_type": "execute_result"
    }
   ],
   "source": [
    "load_dotenv(override=True)"
   ]
  },
  {
   "cell_type": "markdown",
   "id": "4d3049de",
   "metadata": {},
   "source": [
    "#### **First, let's go set up LangSmith!**\n",
    "https://langsmith.com\n",
    "\n",
    "Next, here is a useful function in LangChain community:"
   ]
  },
  {
   "cell_type": "code",
   "execution_count": 3,
   "id": "4d436471",
   "metadata": {},
   "outputs": [
    {
     "data": {
      "text/plain": [
       "\"Jagdeep Dhankhar: Vice President of India. Jagdeep Dhankhar is an Indian politician and lawyer serving as the vice president of India since 2022. He previously served as the Governor of West Bengal from 2019 to 2022. Jagdeep Dhankhar Born: 1951 (age 74 years), Jhunjhunu, India. Jagdeep Dhankhar Spouse: Sudesh Dhankhar (m. 1979). Jagdeep Dhankhar of the Bharatiya Janata Party is the current vice president. He became vice president after defeating Indian National Congress candidate ... Vice President Of India Shri Jagdeep Dhankhar The Vice-President, Shri Jagdeep Dhankhar addressing the 19th Edition of the CII-ITC Sustainability Awards at ... Jagdeep Dhankhar is an Indian politician and lawyer serving as the vice president of India since 2022. He previously served as the Governor of West Bengal ... Hon'ble Vice-President, Shri Jagdeep Dhankhar and Dr. Sudesh Dhankhar at Baansera Park in New Delhi today. Official Instagram account of the 14th Vice-President of India, Shri Jagdeep Dhankhar. www.youtube.com/@Indianvicepresident Vice President of India, Delhi. 847059 likes · 10424 talking about this · 70 ... Official Facebook page of Shri Jagdeep Dhankhar, Vice-President of India. Profile. Name: Shri Jagdeep Dhankhar. Father's Name, Late Shri Gokal Chand. Mother's Name, Late Srimati Kesari Devi. Date of Birth, 18 May, 1951. Hon'ble Vice-President and Chairman, Rajya Sabha, Shri Jagdeep Dhankhar presided over the inaugural programme for the eighth batch of ... Shri Jagdeep Dhankhar, Contact Details: Vice-President, Enclave, 108, Church Road, New Delhi - 110001, Phone: 011-23094953, 23094954, Email: vpindia[at]nic[dot ... Q.2. Who is the current Vice-President of India? Ans. Venkaiah Naidu is the Vice-President of India currently. He took over the office of Vice-President on ...\""
      ]
     },
     "execution_count": 3,
     "metadata": {},
     "output_type": "execute_result"
    }
   ],
   "source": [
    "from langchain_community.utilities import GoogleSerperAPIWrapper\n",
    "\n",
    "serper = GoogleSerperAPIWrapper()\n",
    "serper.run(\"who is the vice president of India?\")"
   ]
  },
  {
   "cell_type": "markdown",
   "id": "7ed9d14a",
   "metadata": {},
   "source": [
    "#### **Here is a LangChain wrapper class for converting functions into Tools**"
   ]
  },
  {
   "cell_type": "code",
   "execution_count": 4,
   "id": "fcacec7d",
   "metadata": {},
   "outputs": [],
   "source": [
    "from langchain.agents import Tool\n",
    "\n",
    "tool_search = Tool(\n",
    "    name=\"search\",\n",
    "    func=serper.run,\n",
    "    description=\"Useful for when you need more information from an Online search.\"\n",
    ")"
   ]
  },
  {
   "cell_type": "code",
   "execution_count": 5,
   "id": "fd568d91",
   "metadata": {},
   "outputs": [
    {
     "data": {
      "text/plain": [
       "\"Air India Flight 171 was a scheduled international passenger flight from Ahmedabad Airport, India to London Gatwick Airport, United Kingdom that crashed about 30 seconds after takeoff at 13:39 IST (08:09 UTC) on 12 June 2025. All but one of the 230 passengers and all 12 crew members died. New details about last month's Air India plane crash in Ahmedabad, which killed 260 people, have emerged this week, shifting focus onto the ... The Air India passenger plane crash in Ahmedabad killed 260 people shortly after taking off on 12 June. It said “Air India crash investigation focuses on movement of engine fuel control switches” with a blurb that “data from the Dreamliner's black ... Crash of Boeing 787 killed 260 people last month · Pilots were experienced; unclear how fuel switches moved · One pilot asked the other why he cut ... Investigation into the tragic crash of Air India Flight AI171 from Ahmedabad ... Boeing. 66K views · 2 days ago #airindiacrash #boeing787 ... Only one passenger survived the crash, while 241 people on board and 29 on the ground were killed in one of India's worst aviation disaster in ...\""
      ]
     },
     "execution_count": 5,
     "metadata": {},
     "output_type": "execute_result"
    }
   ],
   "source": [
    "# we can try out the tool in the LangChain way\n",
    "\n",
    "tool_search.invoke(\"Tell me about Ahmedabad Boeing plane Crash Incidet in India\")"
   ]
  },
  {
   "cell_type": "markdown",
   "id": "64069a5b",
   "metadata": {},
   "source": [
    "#### And now, let's write a tool ourselves"
   ]
  },
  {
   "cell_type": "code",
   "execution_count": 6,
   "id": "945df8e3",
   "metadata": {},
   "outputs": [],
   "source": [
    "pushover_token = os.getenv(\"PUSHOVER_TOKEN\")\n",
    "pushover_user = os.getenv(\"PUSHOVER_USER\")\n",
    "pushover_url = \"https://api.pushover.net/1/messages.json\""
   ]
  },
  {
   "cell_type": "code",
   "execution_count": 7,
   "id": "7e731a67",
   "metadata": {},
   "outputs": [],
   "source": [
    "def push(text: str):\n",
    "    \"\"\"Send a push notification to the user.\"\"\"\n",
    "    requests.post(pushover_url, data={'token': pushover_token, 'user': pushover_user, 'message': text})"
   ]
  },
  {
   "cell_type": "code",
   "execution_count": 8,
   "id": "f7c0f989",
   "metadata": {},
   "outputs": [],
   "source": [
    "tool_push = Tool(\n",
    "    name=\"send_push_notification\",\n",
    "    func=push,\n",
    "    description=\"Useful when you want to send a push notification.\"\n",
    ")"
   ]
  },
  {
   "cell_type": "code",
   "execution_count": 9,
   "id": "ad15cf94",
   "metadata": {},
   "outputs": [],
   "source": [
    "# invoking the tool\n",
    "\n",
    "tool_push.invoke(\"Hey!, remember me..?\")"
   ]
  },
  {
   "cell_type": "markdown",
   "id": "57285906",
   "metadata": {},
   "source": [
    "#### **Back to the graph in Lab 1**\n",
    "One small change - using TypedDict instead of BaseModel for the State object\n",
    "\n",
    "When we implement tools, we always need to make 2 changes to the code:\n",
    "\n",
    "1. Changes to provide the tools to OpenAI in json when we make the call\n",
    "\n",
    "2. hanges to handle the results back: look for the model staying that the finish_reason==\"tool_calls\" and then retrieve the call, run the function, provide the results."
   ]
  },
  {
   "cell_type": "markdown",
   "id": "3a3e4263",
   "metadata": {},
   "source": [
    "Bring them together!"
   ]
  },
  {
   "cell_type": "code",
   "execution_count": 10,
   "id": "c5d1eaba",
   "metadata": {},
   "outputs": [],
   "source": [
    "tools = [tool_search, tool_push]"
   ]
  },
  {
   "cell_type": "code",
   "execution_count": 11,
   "id": "8212c545",
   "metadata": {},
   "outputs": [],
   "source": [
    "# Making the State Class\n",
    "\n",
    "class State(TypedDict):\n",
    "    messages: Annotated[list, add_messages]"
   ]
  },
  {
   "cell_type": "code",
   "execution_count": 12,
   "id": "688b5168",
   "metadata": {},
   "outputs": [],
   "source": [
    "# Starting the graph builder\n",
    "\n",
    "graph_builder = StateGraph(State)"
   ]
  },
  {
   "cell_type": "code",
   "execution_count": 13,
   "id": "956f9a62",
   "metadata": {},
   "outputs": [],
   "source": [
    "# this is different \n",
    "\n",
    "llm = ChatOpenAI(model = 'gpt-4.1-nano')\n",
    "llm_with_tools = llm.bind_tools(tools)"
   ]
  },
  {
   "cell_type": "code",
   "execution_count": 14,
   "id": "7c5e1216",
   "metadata": {},
   "outputs": [
    {
     "data": {
      "text/plain": [
       "<langgraph.graph.state.StateGraph at 0x1c9f123b0e0>"
      ]
     },
     "execution_count": 14,
     "metadata": {},
     "output_type": "execute_result"
    }
   ],
   "source": [
    "# Creating a node\n",
    "def chatbot(state: State) -> State:\n",
    "    return {\"messages\": [llm_with_tools.invoke(state[\"messages\"])]}\n",
    "\n",
    "# Adding the node\n",
    "\n",
    "graph_builder.add_node(\"chatbot\", chatbot)\n",
    "graph_builder.add_node(\"tools\", ToolNode(tools=tools))"
   ]
  },
  {
   "cell_type": "code",
   "execution_count": 15,
   "id": "4222e2de",
   "metadata": {},
   "outputs": [
    {
     "data": {
      "text/plain": [
       "<langgraph.graph.state.StateGraph at 0x1c9f123b0e0>"
      ]
     },
     "execution_count": 15,
     "metadata": {},
     "output_type": "execute_result"
    }
   ],
   "source": [
    "# Creating the edges \n",
    "\n",
    "graph_builder.add_conditional_edges(\"chatbot\", tools_condition, \"tools\")\n",
    "\n",
    "# Any time a tool is called, we return to the chatbot to decide the next step\n",
    "graph_builder.add_edge(\"tools\", \"chatbot\")\n",
    "graph_builder.add_edge(START, \"chatbot\")"
   ]
  },
  {
   "cell_type": "code",
   "execution_count": 16,
   "id": "22fe1d51",
   "metadata": {},
   "outputs": [
    {
     "data": {
      "image/png": "[encoded data removed]",
      "text/plain": [
       "<IPython.core.display.Image object>"
      ]
     },
     "metadata": {},
     "output_type": "display_data"
    }
   ],
   "source": [
    "# Compiling the graph\n",
    "\n",
    "graph = graph_builder.compile()\n",
    "display(Image(graph.get_graph().draw_mermaid_png()))"
   ]
  },
  {
   "cell_type": "markdown",
   "id": "00638560",
   "metadata": {},
   "source": [
    "#### **And, Let's check if things are in place**"
   ]
  },
  {
   "cell_type": "code",
   "execution_count": 17,
   "id": "00364da2",
   "metadata": {},
   "outputs": [
    {
     "name": "stdout",
     "output_type": "stream",
     "text": [
      "* Running on local URL:  http://127.0.0.1:7860\n",
      "* To create a public link, set `share=True` in `launch()`.\n"
     ]
    },
    {
     "data": {
      "text/html": [
       "<div><iframe src=\"http://127.0.0.1:7860/\" width=\"100%\" height=\"500\" allow=\"autoplay; camera; microphone; clipboard-read; clipboard-write;\" frameborder=\"0\" allowfullscreen></iframe></div>"
      ],
      "text/plain": [
       "<IPython.core.display.HTML object>"
      ]
     },
     "metadata": {},
     "output_type": "display_data"
    },
    {
     "data": {
      "text/plain": []
     },
     "execution_count": 17,
     "metadata": {},
     "output_type": "execute_result"
    }
   ],
   "source": [
    "def chat(text: str, history):\n",
    "    result = graph.invoke({'messages': [{'role': 'user', 'content': text}]})\n",
    "    return result[\"messages\"][-1].content\n",
    "\n",
    "\n",
    "gr.ChatInterface(chat, type=\"messages\").launch()"
   ]
  },
  {
   "cell_type": "markdown",
   "id": "498cbcfa",
   "metadata": {},
   "source": [
    "> Do not forget to check the traces at: `https://smith.langchain.com`"
   ]
  },
  {
   "cell_type": "code",
   "execution_count": 18,
   "id": "d6aa5682",
   "metadata": {},
   "outputs": [],
   "source": [
    "from langgraph.checkpoint.memory import MemorySaver\n",
    "\n",
    "memory = MemorySaver()"
   ]
  },
  {
   "cell_type": "markdown",
   "id": "af2ce74f",
   "metadata": {},
   "source": [
    "> stores execution state in memory only (i.e., RAM), not on disk or database."
   ]
  },
  {
   "cell_type": "markdown",
   "id": "adeed3a1",
   "metadata": {},
   "source": [
    "#### ****It's time to add Memory !****\n",
    "BUT WAIT !  \n",
    "We have this whole Graph maintaining the state and appending to the state.\n",
    "Why isn't this handling memory?\n",
    "\n",
    "##### This is a crucial point for understanding LangGraph\n",
    "> A super-step can be considered a single iteration over the graph nodes. Nodes that run in parallel are part of the same super-step, while nodes that run sequentially belong to separate super-steps.\n",
    "\n",
    "One \"Super-Step\" of the graph represents one invocation of passing messages between agents.\n",
    "\n",
    "In idomatic LangGraph, you call invoke to run your graph for each super-step; for each interaction.\n",
    "\n",
    "The reducer handles state updates automatically within one super-step, but not between them.\n",
    "\n",
    "That is what checkpointing achieves."
   ]
  },
  {
   "cell_type": "code",
   "execution_count": 19,
   "id": "59d8855c",
   "metadata": {},
   "outputs": [
    {
     "data": {
      "image/png": "[encoded data removed]",
      "text/plain": [
       "<IPython.core.display.Image object>"
      ]
     },
     "metadata": {},
     "output_type": "display_data"
    }
   ],
   "source": [
    "# Step 1 and 2\n",
    "graph_builder = StateGraph(State)\n",
    "\n",
    "#Step 3\n",
    "llm = ChatOpenAI(model='gpt-4.1-nano')\n",
    "llm_with_tools = llm.bind_tools(tools)\n",
    "\n",
    "# Step 4\n",
    "def chatbot(state: State) -> State:\n",
    "    print(state)\n",
    "    return {\"messages\": [llm_with_tools.invoke(state[\"messages\"])]}\n",
    "\n",
    "graph_builder.add_node(\"chatbot\", chatbot)\n",
    "graph_builder.add_node(\"tools\", ToolNode(tools=tools))\n",
    "\n",
    "# now the edges\n",
    "graph_builder.add_conditional_edges(\"chatbot\", tools_condition, \"tools\")\n",
    "graph_builder.add_edge(\"tools\", \"chatbot\")\n",
    "graph_builder.add_edge(START, \"chatbot\")\n",
    "\n",
    "# Step 5\n",
    "graph = graph_builder.compile(checkpointer=memory)\n",
    "display(Image(graph.get_graph().draw_mermaid_png()))\n",
    "\n"
   ]
  },
  {
   "cell_type": "code",
   "execution_count": 21,
   "id": "18dbf943",
   "metadata": {},
   "outputs": [
    {
     "name": "stdout",
     "output_type": "stream",
     "text": [
      "* Running on local URL:  http://127.0.0.1:7862\n",
      "* To create a public link, set `share=True` in `launch()`.\n"
     ]
    },
    {
     "data": {
      "text/html": [
       "<div><iframe src=\"http://127.0.0.1:7862/\" width=\"100%\" height=\"500\" allow=\"autoplay; camera; microphone; clipboard-read; clipboard-write;\" frameborder=\"0\" allowfullscreen></iframe></div>"
      ],
      "text/plain": [
       "<IPython.core.display.HTML object>"
      ]
     },
     "metadata": {},
     "output_type": "display_data"
    },
    {
     "data": {
      "text/plain": []
     },
     "execution_count": 21,
     "metadata": {},
     "output_type": "execute_result"
    }
   ],
   "source": [
    "# This is the main stuff \n",
    "\n",
    "config = {\"configurable\": {'thread_id' : '1'}}\n",
    "\n",
    "# now the familiar chat function\n",
    "\n",
    "def chat(user_input: str, history):\n",
    "    response = graph.invoke({'messages': [{'role': 'user', 'content': user_input}]}, config=config)\n",
    "    return response[\"messages\"][-1].content\n",
    "\n",
    "gr.ChatInterface(chat, type=\"messages\").launch()"
   ]
  },
  {
   "cell_type": "markdown",
   "id": "00e6b777",
   "metadata": {},
   "source": [
    "> What is `thread_id` ?   \n",
    "*LangGraph's checkpointer needs a way to uniquely identify the session or thread for which it is saving/restoring state. This is especially important for chatbots or multi-turn conversations.*"
   ]
  },
  {
   "cell_type": "code",
   "execution_count": 22,
   "id": "1d923c6a",
   "metadata": {},
   "outputs": [
    {
     "data": {
      "text/plain": [
       "StateSnapshot(values={'messages': [HumanMessage(content='\\nhey', additional_kwargs={}, response_metadata={}, id='2ede83f2-cd44-44a2-a247-22663a697604'), AIMessage(content='Hello! How can I assist you today?', additional_kwargs={'refusal': None}, response_metadata={'token_usage': {'completion_tokens': 10, 'prompt_tokens': 89, 'total_tokens': 99, 'completion_tokens_details': {'accepted_prediction_tokens': 0, 'audio_tokens': 0, 'reasoning_tokens': 0, 'rejected_prediction_tokens': 0}, 'prompt_tokens_details': {'audio_tokens': 0, 'cached_tokens': 0}}, 'model_name': 'gpt-4.1-nano-2025-04-14', 'system_fingerprint': None, 'id': 'chatcmpl-BvPp0VgDxKzzaiAJfaXGhxc1QBp04', 'service_tier': 'default', 'finish_reason': 'stop', 'logprobs': None}, id='run--8e493ae8-f367-4413-ac9f-0c02e826573f-0', usage_metadata={'input_tokens': 89, 'output_tokens': 10, 'total_tokens': 99, 'input_token_details': {'audio': 0, 'cache_read': 0}, 'output_token_details': {'audio': 0, 'reasoning': 0}})]}, next=(), config={'configurable': {'thread_id': '1', 'checkpoint_ns': '', 'checkpoint_id': '1f0657a7-a294-61cb-8001-bec45d235617'}}, metadata={'source': 'loop', 'step': 1, 'parents': {}}, created_at='2025-07-20T15:01:55.842495+00:00', parent_config={'configurable': {'thread_id': '1', 'checkpoint_ns': '', 'checkpoint_id': '1f0657a7-9d2d-6f36-8000-f96153ee818b'}}, tasks=(), interrupts=())"
      ]
     },
     "execution_count": 22,
     "metadata": {},
     "output_type": "execute_result"
    }
   ],
   "source": [
    "# retrieve the current state of a running or previously-run LangGraph workflow, based on a unique configuration or session ID.\n",
    "\n",
    "\n",
    "graph.get_state(config)"
   ]
  },
  {
   "cell_type": "code",
   "execution_count": 23,
   "id": "63fcfe3b",
   "metadata": {},
   "outputs": [
    {
     "data": {
      "text/plain": [
       "[StateSnapshot(values={'messages': [HumanMessage(content='\\nhey', additional_kwargs={}, response_metadata={}, id='2ede83f2-cd44-44a2-a247-22663a697604'), AIMessage(content='Hello! How can I assist you today?', additional_kwargs={'refusal': None}, response_metadata={'token_usage': {'completion_tokens': 10, 'prompt_tokens': 89, 'total_tokens': 99, 'completion_tokens_details': {'accepted_prediction_tokens': 0, 'audio_tokens': 0, 'reasoning_tokens': 0, 'rejected_prediction_tokens': 0}, 'prompt_tokens_details': {'audio_tokens': 0, 'cached_tokens': 0}}, 'model_name': 'gpt-4.1-nano-2025-04-14', 'system_fingerprint': None, 'id': 'chatcmpl-BvPp0VgDxKzzaiAJfaXGhxc1QBp04', 'service_tier': 'default', 'finish_reason': 'stop', 'logprobs': None}, id='run--8e493ae8-f367-4413-ac9f-0c02e826573f-0', usage_metadata={'input_tokens': 89, 'output_tokens': 10, 'total_tokens': 99, 'input_token_details': {'audio': 0, 'cache_read': 0}, 'output_token_details': {'audio': 0, 'reasoning': 0}})]}, next=(), config={'configurable': {'thread_id': '1', 'checkpoint_ns': '', 'checkpoint_id': '1f0657a7-a294-61cb-8001-bec45d235617'}}, metadata={'source': 'loop', 'step': 1, 'parents': {}}, created_at='2025-07-20T15:01:55.842495+00:00', parent_config={'configurable': {'thread_id': '1', 'checkpoint_ns': '', 'checkpoint_id': '1f0657a7-9d2d-6f36-8000-f96153ee818b'}}, tasks=(), interrupts=()),\n",
       " StateSnapshot(values={'messages': [HumanMessage(content='\\nhey', additional_kwargs={}, response_metadata={}, id='2ede83f2-cd44-44a2-a247-22663a697604')]}, next=('chatbot',), config={'configurable': {'thread_id': '1', 'checkpoint_ns': '', 'checkpoint_id': '1f0657a7-9d2d-6f36-8000-f96153ee818b'}}, metadata={'source': 'loop', 'step': 0, 'parents': {}}, created_at='2025-07-20T15:01:55.276362+00:00', parent_config={'configurable': {'thread_id': '1', 'checkpoint_ns': '', 'checkpoint_id': '1f0657a7-9d2c-61ad-bfff-3dfefdf77851'}}, tasks=(PregelTask(id='ca1591b5-0665-5daa-1b40-f9e3ceedb0e5', name='chatbot', path=('__pregel_pull', 'chatbot'), error=None, interrupts=(), state=None, result={'messages': [AIMessage(content='Hello! How can I assist you today?', additional_kwargs={'refusal': None}, response_metadata={'token_usage': {'completion_tokens': 10, 'prompt_tokens': 89, 'total_tokens': 99, 'completion_tokens_details': {'accepted_prediction_tokens': 0, 'audio_tokens': 0, 'reasoning_tokens': 0, 'rejected_prediction_tokens': 0}, 'prompt_tokens_details': {'audio_tokens': 0, 'cached_tokens': 0}}, 'model_name': 'gpt-4.1-nano-2025-04-14', 'system_fingerprint': None, 'id': 'chatcmpl-BvPp0VgDxKzzaiAJfaXGhxc1QBp04', 'service_tier': 'default', 'finish_reason': 'stop', 'logprobs': None}, id='run--8e493ae8-f367-4413-ac9f-0c02e826573f-0', usage_metadata={'input_tokens': 89, 'output_tokens': 10, 'total_tokens': 99, 'input_token_details': {'audio': 0, 'cache_read': 0}, 'output_token_details': {'audio': 0, 'reasoning': 0}})]}),), interrupts=()),\n",
       " StateSnapshot(values={'messages': []}, next=('__start__',), config={'configurable': {'thread_id': '1', 'checkpoint_ns': '', 'checkpoint_id': '1f0657a7-9d2c-61ad-bfff-3dfefdf77851'}}, metadata={'source': 'input', 'step': -1, 'parents': {}}, created_at='2025-07-20T15:01:55.275606+00:00', parent_config=None, tasks=(PregelTask(id='372b7d49-669a-c9f8-52e2-aa0cd72d5eb8', name='__start__', path=('__pregel_pull', '__start__'), error=None, interrupts=(), state=None, result={'messages': [{'role': 'user', 'content': '\\nhey'}]}),), interrupts=())]"
      ]
     },
     "execution_count": 23,
     "metadata": {},
     "output_type": "execute_result"
    }
   ],
   "source": [
    "# Most recent first\n",
    "# retrieve the full history of state transitions that occurred during the execution of a LangGraph workflow session.\n",
    "\n",
    "list(graph.get_state_history(config))\n",
    "\n",
    "# every Message(...) has a checkpoint_id"
   ]
  },
  {
   "cell_type": "markdown",
   "id": "a1bc009a",
   "metadata": {},
   "source": [
    "#### *LangGraph gives you tools to set thr state back to a prior point in time, to branch off:*\n",
    "\n",
    "`config = {\"configurable\": {\"thread_id\": \"1\", \"checkpoint_id\": ...}}\n",
    "graph.invoke(None, config=config)`\n",
    "\n",
    "And this allows you to build stable systems that can be recovered and rerun from any prior checkpoint."
   ]
  },
  {
   "cell_type": "code",
   "execution_count": 24,
   "id": "80562d15",
   "metadata": {},
   "outputs": [],
   "source": [
    "import sqlite3\n",
    "from langgraph.checkpoint.sqlite import SqliteSaver\n",
    "\n",
    "db_path = \"memory.db\"\n",
    "conn = sqlite3.connect(db_path, check_same_thread=False)\n",
    "sql_memory = SqliteSaver(conn)"
   ]
  },
  {
   "cell_type": "code",
   "execution_count": 25,
   "id": "97eb5df2",
   "metadata": {},
   "outputs": [
    {
     "data": {
      "image/png": "[encoded data removed]",
      "text/plain": [
       "<IPython.core.display.Image object>"
      ]
     },
     "metadata": {},
     "output_type": "display_data"
    }
   ],
   "source": [
    "# Steps 1 and 2\n",
    "graph_builder = StateGraph(State)\n",
    "\n",
    "# Step 3\n",
    "llm = ChatOpenAI(model='gpt-4.1-nano')\n",
    "llm_with_tools = llm.bind_tools(tools)\n",
    "\n",
    "# Step 4\n",
    "def chatbot(state: State) -> State:\n",
    "    print(state)\n",
    "    return {'messages': [llm_with_tools.invoke(state[\"messages\"])]}\n",
    "\n",
    "graph_builder.add_node(\"chatbot\", chatbot)\n",
    "graph_builder.add_node(\"tools\", ToolNode(tools=tools))\n",
    "\n",
    "# Step 5\n",
    "graph_builder.add_conditional_edges(\"chatbot\", tools_condition, \"tools\")\n",
    "graph_builder.add_edge(\"tools\", \"chatbot\")\n",
    "graph_builder.add_edge(START, \"chatbot\")\n",
    "\n",
    "# Step 6\n",
    "graph = graph_builder.compile(checkpointer=sql_memory)\n",
    "display(Image(graph.get_graph().draw_mermaid_png()))"
   ]
  },
  {
   "cell_type": "code",
   "execution_count": 26,
   "id": "4477f615",
   "metadata": {},
   "outputs": [
    {
     "name": "stdout",
     "output_type": "stream",
     "text": [
      "* Running on local URL:  http://127.0.0.1:7863\n",
      "* To create a public link, set `share=True` in `launch()`.\n"
     ]
    },
    {
     "data": {
      "text/html": [
       "<div><iframe src=\"http://127.0.0.1:7863/\" width=\"100%\" height=\"500\" allow=\"autoplay; camera; microphone; clipboard-read; clipboard-write;\" frameborder=\"0\" allowfullscreen></iframe></div>"
      ],
      "text/plain": [
       "<IPython.core.display.HTML object>"
      ]
     },
     "metadata": {},
     "output_type": "display_data"
    },
    {
     "data": {
      "text/plain": []
     },
     "execution_count": 26,
     "metadata": {},
     "output_type": "execute_result"
    }
   ],
   "source": [
    "# Like we did before \n",
    "\n",
    "config = {'configurable': {'thread_id': '3'}}\n",
    "\n",
    "def chat(user_input: str, history): \n",
    "    result = graph.invoke({'messages': [{'role': 'user', 'content' : user_input}]}, config=config)\n",
    "    return result[\"messages\"][-1].content\n",
    "\n",
    "gr.ChatInterface(chat, type=\"messages\").launch()"
   ]
  },
  {
   "cell_type": "markdown",
   "id": "1cd85490",
   "metadata": {},
   "source": [
    "> After building this interface, I asked it my name, which obviously it didnt know. Then I told it my name.\n",
    "> After that, I restarted my kernel, cleared all outputs, and then asked it my name --- and guess what, it knew it even after deleting the session"
   ]
  },
  {
   "cell_type": "markdown",
   "id": "35445fe1",
   "metadata": {},
   "source": [
    ">Still here ?  \n",
    "> Go check the traces: https://smith.langchain.com/"
   ]
  }
 ],
 "metadata": {
  "kernelspec": {
   "display_name": "Python 3",
   "language": "python",
   "name": "python3"
  },
  "language_info": {
   "codemirror_mode": {
    "name": "ipython",
    "version": 3
   },
   "file_extension": ".py",
   "mimetype": "text/x-python",
   "name": "python",
   "nbconvert_exporter": "python",
   "pygments_lexer": "ipython3",
   "version": "3.13.3"
  }
 },
 "nbformat": 4,
 "nbformat_minor": 5
}
